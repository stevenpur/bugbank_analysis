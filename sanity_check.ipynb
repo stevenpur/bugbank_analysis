{
 "cells": [
  {
   "cell_type": "code",
   "execution_count": 22,
   "metadata": {
    "vscode": {
     "languageId": "r"
    }
   },
   "outputs": [
    {
     "name": "stderr",
     "output_type": "stream",
     "text": [
      "-- \u001b[1mAttaching packages\u001b[22m --------------------------------------- tidyverse 1.3.1 --\n",
      "\n",
      "\u001b[32mv\u001b[39m \u001b[34mggplot2\u001b[39m 3.3.5     \u001b[32mv\u001b[39m \u001b[34mpurrr  \u001b[39m 0.3.4\n",
      "\u001b[32mv\u001b[39m \u001b[34mtibble \u001b[39m 3.1.5     \u001b[32mv\u001b[39m \u001b[34mdplyr  \u001b[39m 1.0.7\n",
      "\u001b[32mv\u001b[39m \u001b[34mtidyr  \u001b[39m 1.1.4     \u001b[32mv\u001b[39m \u001b[34mstringr\u001b[39m 1.4.0\n",
      "\u001b[32mv\u001b[39m \u001b[34mreadr  \u001b[39m 2.0.2     \u001b[32mv\u001b[39m \u001b[34mforcats\u001b[39m 0.5.1\n",
      "\n",
      "-- \u001b[1mConflicts\u001b[22m ------------------------------------------ tidyverse_conflicts() --\n",
      "\u001b[31mx\u001b[39m \u001b[34mdplyr\u001b[39m::\u001b[32mfilter()\u001b[39m masks \u001b[34mstats\u001b[39m::filter()\n",
      "\u001b[31mx\u001b[39m \u001b[34mdplyr\u001b[39m::\u001b[32mlag()\u001b[39m    masks \u001b[34mstats\u001b[39m::lag()\n",
      "\n"
     ]
    }
   ],
   "source": [
    "library(tidyverse)"
   ]
  },
  {
   "attachments": {},
   "cell_type": "markdown",
   "metadata": {},
   "source": [
    "### Check if all HES diagnosis icd10 starting with A|B is included in the pathogen description file"
   ]
  },
  {
   "cell_type": "code",
   "execution_count": 15,
   "metadata": {
    "vscode": {
     "languageId": "r"
    }
   },
   "outputs": [],
   "source": [
    "setwd(\"~/bugbank_data\")\n",
    "\n",
    "# input file\n",
    "hes_diag_f <- \"/well/bag/wilson/ukb/hes/hesin_diag.latest.txt.gz\"\n",
    "path_desc_f <- \"./icd10_pathogen_description_13032023.tsv\"\n",
    "\n",
    "# load file\n",
    "hes_diag <- read.csv(hes_diag_f, sep = \"\\t\")\n",
    "path_desc <- read.csv(path_desc_f, sep = \"\\t\")"
   ]
  },
  {
   "cell_type": "code",
   "execution_count": 16,
   "metadata": {
    "vscode": {
     "languageId": "r"
    }
   },
   "outputs": [
    {
     "data": {
      "text/html": [],
      "text/latex": [],
      "text/markdown": [],
      "text/plain": [
       "character(0)"
      ]
     },
     "metadata": {},
     "output_type": "display_data"
    }
   ],
   "source": [
    "hes_diag_icd10 <- unique(hes_diag$diag_icd10)\n",
    "hes_diag_icd10_infect <- hes_diag_icd10[grep(\"^A|^B\", hes_diag_icd10)]\n",
    "path_desc_icd10 <- unique(unlist(strsplit(path_desc$UKB_code, \",\")))\n",
    "setdiff(hes_diag_icd10_infect, path_desc_icd10)"
   ]
  },
  {
   "attachments": {},
   "cell_type": "markdown",
   "metadata": {},
   "source": [
    "Check if there are ICD10 codes assigned to multiple organisms based on the raw icd10_pathogen_description_13032023.tsv"
   ]
  },
  {
   "cell_type": "code",
   "execution_count": 19,
   "metadata": {
    "vscode": {
     "languageId": "r"
    }
   },
   "outputs": [],
   "source": [
    "# input file\n",
    "path_desc_f <- \"./icd10_pathogen_description_13032023.tsv\"\n",
    "\n",
    "# load file\n",
    "path_desc <- read.csv(path_desc_f, sep = \"\\t\")"
   ]
  },
  {
   "cell_type": "code",
   "execution_count": 35,
   "metadata": {
    "vscode": {
     "languageId": "r"
    }
   },
   "outputs": [
    {
     "data": {
      "text/html": [
       "184"
      ],
      "text/latex": [
       "184"
      ],
      "text/markdown": [
       "184"
      ],
      "text/plain": [
       "[1] 184"
      ]
     },
     "metadata": {},
     "output_type": "display_data"
    }
   ],
   "source": [
    "# create two dictionaries so that icd10 codes can be mapped to its pathogen and vice versa\n",
    "\n",
    "path_to_icd10 <- list()\n",
    "icd10_to_path <- list()\n",
    "\n",
    "for (i in 1:nrow(path_desc)) {\n",
    "    pathogen <- path_desc$org_name[i]\n",
    "    icd10s <- strsplit(path_desc$UKB_code[i], \",\")[[1]]\n",
    "\n",
    "    # for path2icd10\n",
    "    path_to_icd10[[pathogen]] <- unique(c(path_to_icd10[[pathogen]], icd10s))\n",
    "\n",
    "    # for icd10_to_path\n",
    "    for (icd10 in icd10s) {\n",
    "        icd10_to_path[[icd10]] <- unique(c(icd10_to_path[[icd10]], pathogen))\n",
    "    }\n",
    "}\n",
    "\n",
    "# check for multiple patghoen assignment in a single icd10\n",
    "icd10_to_path_length <- map_int(icd10_to_path, length)\n",
    "length(unique(unlist(icd10_to_path[which(icd10_to_path_length > 1)])))\n",
    "\n",
    "# 184\n",
    "# This seems to be caused by "
   ]
  },
  {
   "attachments": {},
   "cell_type": "markdown",
   "metadata": {},
   "source": [
    "Check if there are duplicated taxonomy for different origin_name"
   ]
  },
  {
   "cell_type": "code",
   "execution_count": 36,
   "metadata": {
    "vscode": {
     "languageId": "r"
    }
   },
   "outputs": [
    {
     "data": {
      "text/html": [
       "<style>\n",
       ".list-inline {list-style: none; margin:0; padding: 0}\n",
       ".list-inline>li {display: inline-block}\n",
       ".list-inline>li:not(:last-child)::after {content: \"\\00b7\"; padding: 0 .5ex}\n",
       "</style>\n",
       "<ol class=list-inline><li>'Type'</li><li>'ee'</li><li>'simplify_pheno'</li><li>'org_name'</li><li>'Description'</li><li>'ICD.10_codes'</li><li>'bb_name'</li><li>'UKB_code'</li></ol>\n"
      ],
      "text/latex": [
       "\\begin{enumerate*}\n",
       "\\item 'Type'\n",
       "\\item 'ee'\n",
       "\\item 'simplify\\_pheno'\n",
       "\\item 'org\\_name'\n",
       "\\item 'Description'\n",
       "\\item 'ICD.10\\_codes'\n",
       "\\item 'bb\\_name'\n",
       "\\item 'UKB\\_code'\n",
       "\\end{enumerate*}\n"
      ],
      "text/markdown": [
       "1. 'Type'\n",
       "2. 'ee'\n",
       "3. 'simplify_pheno'\n",
       "4. 'org_name'\n",
       "5. 'Description'\n",
       "6. 'ICD.10_codes'\n",
       "7. 'bb_name'\n",
       "8. 'UKB_code'\n",
       "\n",
       "\n"
      ],
      "text/plain": [
       "[1] \"Type\"           \"ee\"             \"simplify_pheno\" \"org_name\"      \n",
       "[5] \"Description\"    \"ICD.10_codes\"   \"bb_name\"        \"UKB_code\"      "
      ]
     },
     "metadata": {},
     "output_type": "display_data"
    }
   ],
   "source": [
    "colnames(path)"
   ]
  },
  {
   "attachments": {},
   "cell_type": "markdown",
   "metadata": {},
   "source": [
    "### Sanity check for sgss taxonomy assignment"
   ]
  },
  {
   "cell_type": "code",
   "execution_count": 31,
   "metadata": {
    "vscode": {
     "languageId": "r"
    }
   },
   "outputs": [],
   "source": [
    "# input file\n",
    "setwd(\"~/bugbank_data\")\n",
    "sgss_f <- \"./ukb_sgss_extract_20211115.csv\"\n",
    "sgss_tax_f <- \"./bb_pathogen_taxonomy_13032023.tsv\"\n",
    "\n",
    "# load input file\n",
    "sgss_tax <- read.csv(sgss_tax_f, sep = \"\\t\")\n",
    "sgss <- read.csv(sgss_f, header = T)\n",
    "colnames(sgss) <- c(\n",
    "    \"SPECIMEN_NUMBER\",\n",
    "    \"UKB_EID\",\n",
    "    \"SPECIMEN_DATE\",\n",
    "    \"LAB_REPORT_DATE\",\n",
    "    \"REPORTING_LAB_NAME\",\n",
    "    \"LAB_GEOG_NAME_CURRENT\",\n",
    "    \"LOCAL_AUTHORITY_NAME\",\n",
    "    \"SPECIMEN_GROUP_DESC\",\n",
    "    \"SPECIMEN_TYPE_DESC\",\n",
    "    \"ORGANISM_CATEGORY_DESC\",\n",
    "    \"ORGANISM_GENUS_NAME\",\n",
    "    \"ORGANISM_SPECIES_NAME\",\n",
    "    \"ORGANISM_SUBSPECIES_NAME\"\n",
    ")"
   ]
  },
  {
   "attachments": {},
   "cell_type": "markdown",
   "metadata": {},
   "source": [
    "check if all the pathogen in the bugbank file has been assigned taxonomy"
   ]
  },
  {
   "cell_type": "code",
   "execution_count": 32,
   "metadata": {
    "vscode": {
     "languageId": "r"
    }
   },
   "outputs": [
    {
     "data": {
      "text/html": [],
      "text/latex": [],
      "text/markdown": [],
      "text/plain": [
       "character(0)"
      ]
     },
     "metadata": {},
     "output_type": "display_data"
    },
    {
     "data": {
      "text/html": [],
      "text/latex": [],
      "text/markdown": [],
      "text/plain": [
       "character(0)"
      ]
     },
     "metadata": {},
     "output_type": "display_data"
    }
   ],
   "source": [
    "sgss_pathogens <- sgss$ORGANISM_SPECIES_NAME\n",
    "setdiff(sgss_pathogens, sgss_tax$origin_name)\n",
    "setdiff(sgss_tax$origin_name, sgss_pathogens)"
   ]
  },
  {
   "attachments": {},
   "cell_type": "markdown",
   "metadata": {},
   "source": [
    "### Sanity check for HES taxonomy assignment"
   ]
  },
  {
   "cell_type": "code",
   "execution_count": 33,
   "metadata": {
    "vscode": {
     "languageId": "r"
    }
   },
   "outputs": [],
   "source": [
    "# input files\n",
    "hes_tax_f <- \"./hes_pathogen_taxonomy_13032023.tsv\"\n",
    "path_desc_f <- \"./icd10_pathogen_description_13032023.tsv\"\n",
    "\n",
    "# load files\n",
    "hes_tax <- read.csv(hes_tax_f, sep = \"\\t\")\n",
    "path_desc <- read.csv(path_desc_f, sep = \"\\t\")"
   ]
  },
  {
   "attachments": {},
   "cell_type": "markdown",
   "metadata": {},
   "source": [
    "check if all the pathogen from icd10 pathogen designation has been assigned a taxonomy"
   ]
  },
  {
   "cell_type": "code",
   "execution_count": 34,
   "metadata": {
    "vscode": {
     "languageId": "r"
    }
   },
   "outputs": [
    {
     "data": {
      "text/html": [
       "'Prions'"
      ],
      "text/latex": [
       "'Prions'"
      ],
      "text/markdown": [
       "'Prions'"
      ],
      "text/plain": [
       "[1] \"Prions\""
      ]
     },
     "metadata": {},
     "output_type": "display_data"
    }
   ],
   "source": [
    "setdiff(path_desc$org_name, hes_tax$origin_name)"
   ]
  }
 ],
 "metadata": {
  "kernelspec": {
   "display_name": "R",
   "language": "R",
   "name": "ir"
  },
  "language_info": {
   "codemirror_mode": "r",
   "file_extension": ".r",
   "mimetype": "text/x-r-source",
   "name": "R",
   "pygments_lexer": "r",
   "version": "4.1.2"
  },
  "orig_nbformat": 4,
  "vscode": {
   "interpreter": {
    "hash": "1d41382865a329549b1737f5aaa564efa69ac20aba92d0bfffb04005aa2fcf4e"
   }
  }
 },
 "nbformat": 4,
 "nbformat_minor": 2
}
