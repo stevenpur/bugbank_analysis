{
 "cells": [
  {
   "cell_type": "code",
   "execution_count": 53,
   "metadata": {
    "vscode": {
     "languageId": "r"
    }
   },
   "outputs": [],
   "source": [
    "library(tidyverse)\n",
    "bugbank_data_dir = \"/well/bag/clme1992/bugbank_data/\"\n",
    "ukb_data_dir = \"/well/bag/wilson/ukb/\"\n",
    "gwas_wrkdir = \"/well/bag/clme1992/saige_pipe_test\"\n"
   ]
  },
  {
   "cell_type": "code",
   "execution_count": 2,
   "metadata": {
    "vscode": {
     "languageId": "r"
    }
   },
   "outputs": [
    {
     "data": {
      "text/plain": [
       "   user  system elapsed \n",
       " 15.271   1.696  17.079 "
      ]
     },
     "metadata": {},
     "output_type": "display_data"
    }
   ],
   "source": [
    "# At each step of QC, track the change in the infection cases\n",
    "\n",
    "resolve.symlink <- function(x) {\n",
    "    y <- Sys.readlink(x)\n",
    "    if (any(is.na(y))) {\n",
    "        stop(\"Could not resolve symlink \", x)\n",
    "    }\n",
    "    ifelse(y == \"\", x, file.path(dirname(x), y))\n",
    "}\n",
    "\n",
    "# configuration file\n",
    "source(\"~/.saige_pipe.config\")\n",
    "\n",
    "lg <- list()\n",
    "lg$bd_RDdata_file <- paste0(config$ukb.derived.dir, \"/ukb41482.ukb41376.fields.RData\")\n",
    "lg$bd_not_lost2followup_file <- paste0(config$ukb.derived.dir, \"/ukb41482.English-not-lost-to-followup-8-April-2020.txt\")\n",
    "lg$bed_sample_qc_file <- paste0(config$ukbdir, \"/v2/qc/ukb_sqc_v2.txt\")\n",
    "lg$withdrawn_eid_file <- paste0(config$bbdatadir, \"/w53100_2023-04-25.csv\")\n",
    "# Pre-computed eids for the bed-format genotypes\n",
    "lg$bed_eid_file <- paste0(config$ukb.derived.dir, \"/analysis.bed.eids.txt\")\n",
    "# Individuals with first degree relatives\n",
    "lg$remrels_file <- paste0(config$ukb.derived.dir, \"/ukb41482.English-remove-first-degree-relatives.eids.txt\")\n",
    "# panUKB ancestral files\n",
    "lg$pan_ukb_file <- paste0(config$panukb.dir, \"/Files for retman/all_pops_non_eur_pruned_within_pop_pc_covs.tsv\")\n",
    "lg$pan_ukb_bridge_file <- paste0(config$panukb.dir, \"/ukb53100bridge31063.txt\")\n",
    "\n",
    "### load input files ###\n",
    "system.time(load(lg$bd_RDdata_file))\n",
    "all_eids <- bd[, \"f.eid\"]\n",
    "bd_not_lost2followup <- scan(lg$bd_not_lost2followup_file, what = \"logical\") == \"TRUE\"\n",
    "withdrawn_eid <- scan(lg$withdrawn_eid_file)\n",
    "# Sample QC\n",
    "bed_sample_qc <- read.csv(lg$bed_sample_qc_file, sep = \" \")\n",
    "# The corresponding eids\n",
    "bed_eid <- scan(lg$bed_eid_file)\n",
    "# Convert to bd_eid order\n",
    "sample_qc <- bed_sample_qc[match(all_eids, bed_eid), ]\n",
    "# Close (first degree) relatives\n",
    "remrels <- scan(lg$remrels_file)\n",
    "# load and match the panukb data\n",
    "panukb <- read.csv(lg$pan_ukb_file, sep = \"\\t\")[, c(\"s\", \"pop\")]\n",
    "panukb_bridge <- read.csv(lg$pan_ukb_bridge_file, sep = \" \", header = F)\n",
    "bridge_matched <- panukb_bridge[match(panukb$s, panukb_bridge[, 2]), ]\n",
    "panukb$eid <- bridge_matched[, 1]\n",
    "panukb_matched <- panukb[match(all_eids, panukb$eid), ]\n",
    "\n",
    "### assign assessment centre data ###\n",
    "f.assesscentre <- \"f.54.0.0\"\n",
    "assess_centre_England <- c(\n",
    "    11012, 11021, 11011, 11008, 11024, 11020, 11018, 11010, 11016, \n",
    "    11001, 11017, 11009, 11013, 11002, 11007, 11014, 10003, 11006, \n",
    "    11025, 11026, 11027, 11028 \n",
    ")\n",
    "f_assesscentre <- \"f.54.0.0\""
   ]
  },
  {
   "cell_type": "code",
   "execution_count": 7,
   "metadata": {
    "vscode": {
     "languageId": "r"
    }
   },
   "outputs": [
    {
     "name": "stdout",
     "output_type": "stream",
     "text": [
      "[1] \"Time taken to load hes: 20.7608504295349\"\n"
     ]
    }
   ],
   "source": [
    "# get summary for SGSS\n",
    "sgss_file = paste0(bugbank_data_dir, \"ukb_sgss_extract_refined.csv\")\n",
    "sgss = read.csv(sgss_file, sep = \"\\t\", header = TRUE, stringsAsFactors = FALSE)\n",
    "\n",
    "# load HES\n",
    "start_time = Sys.time()\n",
    "hes_file = paste0(ukb_data_dir, \"hes/hesin_diag.latest.txt.gz\")\n",
    "hes = read.table(hes_file, sep = \"\\t\", header = TRUE, stringsAsFactors = FALSE)\n",
    "end_time = Sys.time()\n",
    "print(paste0(\"Time taken to load hes: \", end_time - start_time))"
   ]
  },
  {
   "cell_type": "code",
   "execution_count": 8,
   "metadata": {
    "vscode": {
     "languageId": "r"
    }
   },
   "outputs": [],
   "source": [
    "# load icd10 data\n",
    "icd10_desc_file <- paste0(bugbank_data_dir, \"pathogen_to_unique_icd10.tsv\")\n",
    "icd10_desc <- read.table(icd10_desc_file, sep = \"\\t\", header = TRUE, stringsAsFactors = FALSE)\n",
    "\n",
    "# subset hes to only infection related\n",
    "infect_icd10_codes <- unique(unlist(strsplit(icd10_desc$icd10, split = \",\")))\n",
    "hes_infect <- hes[hes$diag_icd10 %in% infect_icd10_codes, ]"
   ]
  },
  {
   "cell_type": "code",
   "execution_count": 32,
   "metadata": {
    "vscode": {
     "languageId": "r"
    }
   },
   "outputs": [
    {
     "data": {
      "text/html": [
       "502505"
      ],
      "text/latex": [
       "502505"
      ],
      "text/markdown": [
       "502505"
      ],
      "text/plain": [
       "[1] 502505"
      ]
     },
     "metadata": {},
     "output_type": "display_data"
    },
    {
     "data": {
      "text/html": [
       "502505"
      ],
      "text/latex": [
       "502505"
      ],
      "text/markdown": [
       "502505"
      ],
      "text/plain": [
       "[1] 502505"
      ]
     },
     "metadata": {},
     "output_type": "display_data"
    },
    {
     "data": {
      "text/html": [
       "114529"
      ],
      "text/latex": [
       "114529"
      ],
      "text/markdown": [
       "114529"
      ],
      "text/plain": [
       "[1] 114529"
      ]
     },
     "metadata": {},
     "output_type": "display_data"
    },
    {
     "data": {
      "text/html": [
       "110987"
      ],
      "text/latex": [
       "110987"
      ],
      "text/markdown": [
       "110987"
      ],
      "text/plain": [
       "[1] 110987"
      ]
     },
     "metadata": {},
     "output_type": "display_data"
    }
   ],
   "source": [
    "length(bd$f.eid)\n",
    "length(unique(bd$f.eid))\n",
    "\n",
    "length(bd$f.eid[filter_sgss])\n",
    "length(unique(bd$f.eid[filter_sgss]))"
   ]
  },
  {
   "cell_type": "code",
   "execution_count": 43,
   "metadata": {
    "vscode": {
     "languageId": "r"
    }
   },
   "outputs": [],
   "source": [
    "filter_lst <- list()\n",
    "filter <- rep(T, nrow(bd))\n",
    "filter_lst[[1]] <- filter\n",
    "names(filter_lst)[1] <- \"all\"\n",
    "\n",
    "filter <- filter & bd_not_lost2followup\n",
    "filter <- filter & !(all_eids %in% withdrawn_eid)\n",
    "filter_lst[[2]] <- filter\n",
    "names(filter_lst)[2] <- \"not lost to followup\"\n",
    "\n",
    "filter <- filter & sample_qc$putative.sex.chromosome.aneuploidy == 0\n",
    "filter_lst[[3]] <- filter\n",
    "names(filter_lst)[3] <- \"no aneuploidy in sex chromosome\"\n",
    "\n",
    "filter <- filter & sample_qc$Submitted.Gender == sample_qc$Inferred.Gender\n",
    "filter_lst[[4]] <- filter\n",
    "names(filter_lst)[4] <- \"reported sex matches genetic sex\"\n",
    "\n",
    "filter <- filter & sample_qc$het.missing.outliers == 0\n",
    "filter_lst[[5]] <- filter\n",
    "names(filter_lst)[5] <- \"no het missing outliers\"\n",
    "\n",
    "filter <- filter & sample_qc$excluded.from.kinship.inference == 0\n",
    "filter_lst[[6]] <- filter\n",
    "names(filter_lst)[6] <- \"not excluded from kinship inference\"\n",
    "\n",
    "filter <- filter & sample_qc$excess.relatives == 0\n",
    "filter_lst[[7]] <- filter\n",
    "names(filter_lst)[7] <- \"no excess relatives\"\n",
    "\n",
    "filter <- filter & sample_qc$in.Phasing.Input.chr1_22 == 1 & \n",
    "    sample_qc$in.Phasing.Input.chrX == 1 &\n",
    "    sample_qc$in.Phasing.Input.chrXY == 1\n",
    "filter_lst[[8]] <- filter\n",
    "names(filter_lst)[8] <- \"in phasing input\"\n",
    "\n",
    "filter <- filter & all_eids %in% panukb_matched$eid[which(panukb_matched$pop == \"EUR\")]\n",
    "filter_lst[[9]] <- filter\n",
    "names(filter_lst)[9] <- \"in panukb EUR\"\n",
    "\n",
    "filter <- filter & bd[, f_assesscentre] %in% assess_centre_England\n",
    "filter_lst[[10]] <- filter\n",
    "names(filter_lst)[10] <- \"in assessment centre England\"\n",
    "\n"
   ]
  },
  {
   "cell_type": "code",
   "execution_count": 50,
   "metadata": {
    "vscode": {
     "languageId": "r"
    }
   },
   "outputs": [
    {
     "data": {
      "text/html": [
       "<table class=\"dataframe\">\n",
       "<caption>A matrix: 10 x 3 of type int</caption>\n",
       "<tbody>\n",
       "\t<tr><th scope=row>all</th><td>502505</td><td>114736</td><td>69900</td></tr>\n",
       "\t<tr><th scope=row>not lost to followup</th><td>426755</td><td>108226</td><td>56142</td></tr>\n",
       "\t<tr><th scope=row>no aneuploidy in sex chromosome</th><td>414121</td><td>104782</td><td>54100</td></tr>\n",
       "\t<tr><th scope=row>reported sex matches genetic sex</th><td>413957</td><td>104733</td><td>54067</td></tr>\n",
       "\t<tr><th scope=row>no het missing outliers</th><td>413123</td><td>104500</td><td>53948</td></tr>\n",
       "\t<tr><th scope=row>not excluded from kinship inference</th><td>413115</td><td>104498</td><td>53948</td></tr>\n",
       "\t<tr><th scope=row>no excess relatives</th><td>412956</td><td>104456</td><td>53924</td></tr>\n",
       "\t<tr><th scope=row>in phasing input</th><td>412721</td><td>104385</td><td>53878</td></tr>\n",
       "\t<tr><th scope=row>in panukb EUR</th><td>359929</td><td> 92639</td><td>46432</td></tr>\n",
       "\t<tr><th scope=row>in assessment centre England</th><td>359929</td><td> 92639</td><td>46432</td></tr>\n",
       "</tbody>\n",
       "</table>\n"
      ],
      "text/latex": [
       "A matrix: 10 x 3 of type int\n",
       "\\begin{tabular}{r|lll}\n",
       "\tall & 502505 & 114736 & 69900\\\\\n",
       "\tnot lost to followup & 426755 & 108226 & 56142\\\\\n",
       "\tno aneuploidy in sex chromosome & 414121 & 104782 & 54100\\\\\n",
       "\treported sex matches genetic sex & 413957 & 104733 & 54067\\\\\n",
       "\tno het missing outliers & 413123 & 104500 & 53948\\\\\n",
       "\tnot excluded from kinship inference & 413115 & 104498 & 53948\\\\\n",
       "\tno excess relatives & 412956 & 104456 & 53924\\\\\n",
       "\tin phasing input & 412721 & 104385 & 53878\\\\\n",
       "\tin panukb EUR & 359929 &  92639 & 46432\\\\\n",
       "\tin assessment centre England & 359929 &  92639 & 46432\\\\\n",
       "\\end{tabular}\n"
      ],
      "text/markdown": [
       "\n",
       "A matrix: 10 x 3 of type int\n",
       "\n",
       "| all | 502505 | 114736 | 69900 |\n",
       "| not lost to followup | 426755 | 108226 | 56142 |\n",
       "| no aneuploidy in sex chromosome | 414121 | 104782 | 54100 |\n",
       "| reported sex matches genetic sex | 413957 | 104733 | 54067 |\n",
       "| no het missing outliers | 413123 | 104500 | 53948 |\n",
       "| not excluded from kinship inference | 413115 | 104498 | 53948 |\n",
       "| no excess relatives | 412956 | 104456 | 53924 |\n",
       "| in phasing input | 412721 | 104385 | 53878 |\n",
       "| in panukb EUR | 359929 |  92639 | 46432 |\n",
       "| in assessment centre England | 359929 |  92639 | 46432 |\n",
       "\n"
      ],
      "text/plain": [
       "                                    [,1]   [,2]   [,3] \n",
       "all                                 502505 114736 69900\n",
       "not lost to followup                426755 108226 56142\n",
       "no aneuploidy in sex chromosome     414121 104782 54100\n",
       "reported sex matches genetic sex    413957 104733 54067\n",
       "no het missing outliers             413123 104500 53948\n",
       "not excluded from kinship inference 413115 104498 53948\n",
       "no excess relatives                 412956 104456 53924\n",
       "in phasing input                    412721 104385 53878\n",
       "in panukb EUR                       359929  92639 46432\n",
       "in assessment centre England        359929  92639 46432"
      ]
     },
     "metadata": {},
     "output_type": "display_data"
    }
   ],
   "source": [
    "sgss_filter <- sgss\n",
    "hes_filter <- hes_infect\n",
    "ukb_filter <- list()\n",
    "for (i in 1:length(filter_lst)) {\n",
    "    filter <- filter_lst[[i]]\n",
    "    eids_filtered <- unique(all_eids[filter])\n",
    "    sgss_filter <- sgss_filter[sgss_filter$UKB_EID %in% eids_filtered, ]\n",
    "    hes_filter <- hes_filter[hes_filter$eid %in% eids_filtered, ]\n",
    "    sgss_cnt <- length(unique(sgss_filter$UKB_EID))\n",
    "    hes_cnt <- length(unique(hes_filter$eid))\n",
    "    ukb_filter[[i]] <- c(length(eids_filtered), sgss_cnt, hes_cnt)\n",
    "}\n",
    "ukb_filter <- do.call(rbind, ukb_filter)\n",
    "rownames(ukb_filter) <- names(filter_lst)\n",
    "\n",
    "ukb_filter"
   ]
  },
  {
   "cell_type": "markdown",
   "metadata": {},
   "source": [
    "### Pathogen filtering"
   ]
  },
  {
   "cell_type": "code",
   "execution_count": 54,
   "metadata": {
    "vscode": {
     "languageId": "r"
    }
   },
   "outputs": [
    {
     "name": "stderr",
     "output_type": "stream",
     "text": [
      "Warning message in sgss_tax$origin_name[which(!is.na(sgss_tax$origin_name))] <- species_org <- sgss_tax$origin_name[which(!is.na(sgss_tax$species))]:\n",
      "\"number of items to replace is not a multiple of replacement length\"\n"
     ]
    },
    {
     "name": "stdout",
     "output_type": "stream",
     "text": [
      "[1] \"Number of records: 350699\"\n"
     ]
    },
    {
     "name": "stdout",
     "output_type": "stream",
     "text": [
      "[1] \"Number of unique individuals: 114737\"\n",
      "[1] \"Number of pathogen labels: 641\"\n"
     ]
    }
   ],
   "source": [
    "filter_lst <- list()\n",
    "filter <- rep(T, nrow(sgss))\n",
    "\n",
    "filter_lst[[1]] <- filter\n",
    "names(filter_lst)[1] <- \"all\"\n",
    "\n",
    "sgss_tax_file <- paste0(bugbank_data_dir, \"bb_pathogen_taxonomy_13032023.tsv\")\n",
    "sgss_tax <- read.table(sgss_tax_file, sep = \"\\t\", header = TRUE, stringsAsFactors = FALSE)\n",
    "sgss_tax$origin_name[which(!is.na(sgss_tax$origin_name))] <- \n",
    "species_org <- sgss_tax$origin_name[which(!is.na(sgss_tax$species))]\n",
    "filter_lst[[2]] <- filter & sgss$ORGANISM_SPECIES_NAME %in% species_org\n",
    "names(filter_lst)[2] <- \"species level pathogen\"\n",
    "\n",
    "sgss_pheno_rds_file <- paste0(gwas_wrkdir, \"/log.ukb41482.bd.gwasdata.05062023_sgss_species.rds\")\n",
    "sgss_pheno_rds <- readRDS(sgss_pheno_rds_file)\n",
    "sgss_pheno_rds$\n",
    "\n",
    "filter_lst[[3]] <- filter \n",
    "# number of records\n",
    "print(paste0(\"Number of records: \", nrow(sgss)))\n",
    "# number of unique individuals\n",
    "print(paste0(\"Number of unique individuals: \", length(unique(sgss$UKB_EID))))\n",
    "# number of pathogen labels\n",
    "print(paste0(\"Number of pathogen labels: \", length(unique(sgss$ORGANISM_SPECIES_NAME))))"
   ]
  },
  {
   "cell_type": "code",
   "execution_count": 59,
   "metadata": {
    "vscode": {
     "languageId": "r"
    }
   },
   "outputs": [
    {
     "data": {
      "text/html": [
       "<strong>Escherichia_coli.species.MSU:</strong> 0"
      ],
      "text/latex": [
       "\\textbf{Escherichia\\textbackslash{}\\_coli.species.MSU:} 0"
      ],
      "text/markdown": [
       "**Escherichia_coli.species.MSU:** 0"
      ],
      "text/plain": [
       "Escherichia_coli.species.MSU \n",
       "                           0 "
      ]
     },
     "metadata": {},
     "output_type": "display_data"
    }
   ],
   "source": [
    "sgss_pheno_rds$cases.counts[3]"
   ]
  },
  {
   "cell_type": "code",
   "execution_count": 19,
   "metadata": {
    "vscode": {
     "languageId": "r"
    }
   },
   "outputs": [
    {
     "name": "stdout",
     "output_type": "stream",
     "text": [
      "[1] \"Time taken to load HESIN: 17.3452785015106\"\n"
     ]
    }
   ],
   "source": [
    "# load HES\n",
    "start_time = Sys.time()\n",
    "hes_file = paste0(ukb_data_dir, \"hes/hes_diag.latest.txt.gz\")\n",
    "hes = read.table(hes_file, sep = \"\\t\", header = TRUE, stringsAsFactors = FALSE)\n",
    "end_time = Sys.time()\n",
    "print(paste0(\"Time taken to load hes: \", end_time - start_time))"
   ]
  },
  {
   "cell_type": "code",
   "execution_count": 12,
   "metadata": {
    "vscode": {
     "languageId": "r"
    }
   },
   "outputs": [],
   "source": [
    "# load icd10 data\n",
    "icd10_desc_file <- paste0(bugbank_data_dir, \"pathogen_to_unique_icd10.tsv\")\n",
    "icd10_desc <- read.table(icd10_desc_file, sep = \"\\t\", header = TRUE, stringsAsFactors = FALSE)"
   ]
  },
  {
   "cell_type": "code",
   "execution_count": 33,
   "metadata": {
    "vscode": {
     "languageId": "r"
    }
   },
   "outputs": [
    {
     "name": "stdout",
     "output_type": "stream",
     "text": [
      "[1] \"Number of infection related records: 188788\"\n",
      "[1] \"Number of unique individuals: 69900\"\n",
      "[1] \"Number of unique icd10 codes: 480\"\n",
      "[1] \"Number of unique pathogens: 155\"\n",
      "[1] \"Number of unique species level pathogens: 88\"\n"
     ]
    }
   ],
   "source": [
    "# subset hes to only infection related\n",
    "infect_icd10_codes <- unique(unlist(strsplit(icd10_desc$icd10, split = \",\")))\n",
    "hes_infect <- hes[hes$diag_icd10 %in% infect_icd10_codes, ]\n",
    "\n",
    "# number of records\n",
    "print(paste0(\"Number of infection related records: \", nrow(hes_infect)))\n",
    "\n",
    "# number of unique individuals\n",
    "print(paste0(\"Number of unique individuals: \", length(unique(hes_infect$eid))))\n",
    "\n",
    "# number of unique icd10 codes\n",
    "print(paste0(\"Number of unique icd10 codes: \", length(unique(hes_infect$diag_icd10))))\n",
    "\n",
    "# number of species level pathogens\n",
    "# create a dictionary of ICD-10 to pathogen mapping\n",
    "icd_to_pathogen = list()\n",
    "for (i in 1:nrow(icd10_desc)) {\n",
    "  cur_icd10s = unlist(strsplit(icd10_desc$icd10[i], \",\"))\n",
    "  for (icd10 in cur_icd10s) {\n",
    "    icd_to_pathogen[[icd10]] = c(icd10_desc$org_name[i], icd10_desc$tax_lev[i])\n",
    "  }\n",
    "}\n",
    "# map hes icd10 codes to pathogen\n",
    "hes_infect$org_name = map_chr(hes_infect$diag_icd10, function(x) icd_to_pathogen[[x]][1])\n",
    "print(paste0(\"Number of unique pathogens: \", length(unique(hes_infect$org_name))))\n",
    "\n",
    "# number of species level pathogen\n",
    "hes_infect$tax_lev = map_chr(hes_infect$diag_icd10, function(x) icd_to_pathogen[[x]][2])\n",
    "hes_infect_species = hes_infect[hes_infect$tax_lev == \"species\", ]\n",
    "print(x = paste0(\"Number of unique species level pathogens: \", length(unique(hes_infect_species$org_name))))\n"
   ]
  },
  {
   "cell_type": "code",
   "execution_count": 32,
   "metadata": {
    "vscode": {
     "languageId": "r"
    }
   },
   "outputs": [
    {
     "data": {
      "text/html": [
       "<table class=\"dataframe\">\n",
       "<caption>A data.frame: 6 x 10</caption>\n",
       "<thead>\n",
       "\t<tr><th></th><th scope=col>eid</th><th scope=col>ins_index</th><th scope=col>arr_index</th><th scope=col>level</th><th scope=col>diag_icd9</th><th scope=col>diag_icd9_nb</th><th scope=col>diag_icd10</th><th scope=col>diag_icd10_nb</th><th scope=col>org_name</th><th scope=col>tax_lev</th></tr>\n",
       "\t<tr><th></th><th scope=col>&lt;int&gt;</th><th scope=col>&lt;int&gt;</th><th scope=col>&lt;int&gt;</th><th scope=col>&lt;int&gt;</th><th scope=col>&lt;chr&gt;</th><th scope=col>&lt;lgl&gt;</th><th scope=col>&lt;chr&gt;</th><th scope=col>&lt;int&gt;</th><th scope=col>&lt;chr&gt;</th><th scope=col>&lt;chr&gt;</th></tr>\n",
       "</thead>\n",
       "<tbody>\n",
       "\t<tr><th scope=row>2750</th><td>1000906</td><td> 6</td><td>5</td><td>2</td><td></td><td>NA</td><td>B962</td><td>NA</td><td>Escherichia coli     </td><td>species</td></tr>\n",
       "\t<tr><th scope=row>4438</th><td>1001488</td><td>10</td><td>1</td><td>2</td><td></td><td>NA</td><td>B961</td><td>NA</td><td>Klebsiella pneumoniae</td><td>species</td></tr>\n",
       "\t<tr><th scope=row>4455</th><td>1001488</td><td>11</td><td>1</td><td>2</td><td></td><td>NA</td><td>B961</td><td>NA</td><td>Klebsiella pneumoniae</td><td>species</td></tr>\n",
       "\t<tr><th scope=row>4702</th><td>1001603</td><td> 2</td><td>2</td><td>2</td><td></td><td>NA</td><td>B962</td><td>NA</td><td>Escherichia coli     </td><td>species</td></tr>\n",
       "\t<tr><th scope=row>5375</th><td>1001970</td><td> 8</td><td>4</td><td>2</td><td></td><td>NA</td><td>B962</td><td>NA</td><td>Escherichia coli     </td><td>species</td></tr>\n",
       "\t<tr><th scope=row>5712</th><td>1002128</td><td> 7</td><td>3</td><td>2</td><td></td><td>NA</td><td>B171</td><td>NA</td><td>Hepacivirus C        </td><td>species</td></tr>\n",
       "</tbody>\n",
       "</table>\n"
      ],
      "text/latex": [
       "A data.frame: 6 x 10\n",
       "\\begin{tabular}{r|llllllllll}\n",
       "  & eid & ins\\_index & arr\\_index & level & diag\\_icd9 & diag\\_icd9\\_nb & diag\\_icd10 & diag\\_icd10\\_nb & org\\_name & tax\\_lev\\\\\n",
       "  & <int> & <int> & <int> & <int> & <chr> & <lgl> & <chr> & <int> & <chr> & <chr>\\\\\n",
       "\\hline\n",
       "\t2750 & 1000906 &  6 & 5 & 2 &  & NA & B962 & NA & Escherichia coli      & species\\\\\n",
       "\t4438 & 1001488 & 10 & 1 & 2 &  & NA & B961 & NA & Klebsiella pneumoniae & species\\\\\n",
       "\t4455 & 1001488 & 11 & 1 & 2 &  & NA & B961 & NA & Klebsiella pneumoniae & species\\\\\n",
       "\t4702 & 1001603 &  2 & 2 & 2 &  & NA & B962 & NA & Escherichia coli      & species\\\\\n",
       "\t5375 & 1001970 &  8 & 4 & 2 &  & NA & B962 & NA & Escherichia coli      & species\\\\\n",
       "\t5712 & 1002128 &  7 & 3 & 2 &  & NA & B171 & NA & Hepacivirus C         & species\\\\\n",
       "\\end{tabular}\n"
      ],
      "text/markdown": [
       "\n",
       "A data.frame: 6 x 10\n",
       "\n",
       "| <!--/--> | eid &lt;int&gt; | ins_index &lt;int&gt; | arr_index &lt;int&gt; | level &lt;int&gt; | diag_icd9 &lt;chr&gt; | diag_icd9_nb &lt;lgl&gt; | diag_icd10 &lt;chr&gt; | diag_icd10_nb &lt;int&gt; | org_name &lt;chr&gt; | tax_lev &lt;chr&gt; |\n",
       "|---|---|---|---|---|---|---|---|---|---|---|\n",
       "| 2750 | 1000906 |  6 | 5 | 2 | <!----> | NA | B962 | NA | Escherichia coli      | species |\n",
       "| 4438 | 1001488 | 10 | 1 | 2 | <!----> | NA | B961 | NA | Klebsiella pneumoniae | species |\n",
       "| 4455 | 1001488 | 11 | 1 | 2 | <!----> | NA | B961 | NA | Klebsiella pneumoniae | species |\n",
       "| 4702 | 1001603 |  2 | 2 | 2 | <!----> | NA | B962 | NA | Escherichia coli      | species |\n",
       "| 5375 | 1001970 |  8 | 4 | 2 | <!----> | NA | B962 | NA | Escherichia coli      | species |\n",
       "| 5712 | 1002128 |  7 | 3 | 2 | <!----> | NA | B171 | NA | Hepacivirus C         | species |\n",
       "\n"
      ],
      "text/plain": [
       "     eid     ins_index arr_index level diag_icd9 diag_icd9_nb diag_icd10\n",
       "2750 1000906  6        5         2               NA           B962      \n",
       "4438 1001488 10        1         2               NA           B961      \n",
       "4455 1001488 11        1         2               NA           B961      \n",
       "4702 1001603  2        2         2               NA           B962      \n",
       "5375 1001970  8        4         2               NA           B962      \n",
       "5712 1002128  7        3         2               NA           B171      \n",
       "     diag_icd10_nb org_name              tax_lev\n",
       "2750 NA            Escherichia coli      species\n",
       "4438 NA            Klebsiella pneumoniae species\n",
       "4455 NA            Klebsiella pneumoniae species\n",
       "4702 NA            Escherichia coli      species\n",
       "5375 NA            Escherichia coli      species\n",
       "5712 NA            Hepacivirus C         species"
      ]
     },
     "metadata": {},
     "output_type": "display_data"
    }
   ],
   "source": [
    "head(hes_infect_species)"
   ]
  },
  {
   "cell_type": "code",
   "execution_count": null,
   "metadata": {
    "vscode": {
     "languageId": "r"
    }
   },
   "outputs": [],
   "source": []
  }
 ],
 "metadata": {
  "kernelspec": {
   "display_name": "R",
   "language": "R",
   "name": "ir"
  },
  "language_info": {
   "codemirror_mode": "r",
   "file_extension": ".r",
   "mimetype": "text/x-r-source",
   "name": "R",
   "pygments_lexer": "r",
   "version": "4.3.2"
  }
 },
 "nbformat": 4,
 "nbformat_minor": 2
}
