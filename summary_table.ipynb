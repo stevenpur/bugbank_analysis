{
 "cells": [
  {
   "cell_type": "code",
   "execution_count": 1,
   "metadata": {
    "vscode": {
     "languageId": "r"
    }
   },
   "outputs": [
    {
     "name": "stderr",
     "output_type": "stream",
     "text": [
      "-- \u001b[1mAttaching core tidyverse packages\u001b[22m ------------------------ tidyverse 2.0.0 --\n",
      "\u001b[32mv\u001b[39m \u001b[34mdplyr    \u001b[39m 1.1.3     \u001b[32mv\u001b[39m \u001b[34mreadr    \u001b[39m 2.1.4\n",
      "\u001b[32mv\u001b[39m \u001b[34mforcats  \u001b[39m 1.0.0     \u001b[32mv\u001b[39m \u001b[34mstringr  \u001b[39m 1.5.0\n",
      "\u001b[32mv\u001b[39m \u001b[34mggplot2  \u001b[39m 3.4.4     \u001b[32mv\u001b[39m \u001b[34mtibble   \u001b[39m 3.2.1\n",
      "\u001b[32mv\u001b[39m \u001b[34mlubridate\u001b[39m 1.9.3     \u001b[32mv\u001b[39m \u001b[34mtidyr    \u001b[39m 1.3.0\n",
      "\u001b[32mv\u001b[39m \u001b[34mpurrr    \u001b[39m 1.0.2     \n",
      "-- \u001b[1mConflicts\u001b[22m ------------------------------------------ tidyverse_conflicts() --\n",
      "\u001b[31mx\u001b[39m \u001b[34mdplyr\u001b[39m::\u001b[32mfilter()\u001b[39m masks \u001b[34mstats\u001b[39m::filter()\n",
      "\u001b[31mx\u001b[39m \u001b[34mdplyr\u001b[39m::\u001b[32mlag()\u001b[39m    masks \u001b[34mstats\u001b[39m::lag()\n",
      "\u001b[36mi\u001b[39m Use the conflicted package (\u001b[3m\u001b[34m<http://conflicted.r-lib.org/>\u001b[39m\u001b[23m) to force all conflicts to become errors\n"
     ]
    }
   ],
   "source": [
    "library(tidyverse)\n",
    "bugbank_data_dir = \"/well/bag/clme1992/bugbank_data/\"\n",
    "ukb_data_dir = \"/well/bag/wilson/ukb/\"\n",
    "gwas_wrkdir = \"/well/bag/clme1992/saige_pipe_test\"\n"
   ]
  },
  {
   "cell_type": "code",
   "execution_count": 2,
   "metadata": {
    "vscode": {
     "languageId": "r"
    }
   },
   "outputs": [
    {
     "data": {
      "text/plain": [
       "   user  system elapsed \n",
       " 18.136   2.491  20.707 "
      ]
     },
     "metadata": {},
     "output_type": "display_data"
    }
   ],
   "source": [
    "# At each step of QC, track the change in the infection cases\n",
    "\n",
    "resolve.symlink <- function(x) {\n",
    "    y <- Sys.readlink(x)\n",
    "    if (any(is.na(y))) {\n",
    "        stop(\"Could not resolve symlink \", x)\n",
    "    }\n",
    "    ifelse(y == \"\", x, file.path(dirname(x), y))\n",
    "}\n",
    "\n",
    "# configuration file\n",
    "source(\"~/.saige_pipe.config\")\n",
    "\n",
    "lg <- list()\n",
    "lg$bd_RDdata_file <- paste0(config$ukb.derived.dir, \"/ukb41482.ukb41376.fields.RData\")\n",
    "lg$bd_not_lost2followup_file <- paste0(config$ukb.derived.dir, \"/ukb41482.English-not-lost-to-followup-8-April-2020.txt\")\n",
    "lg$bed_sample_qc_file <- paste0(config$ukbdir, \"/v2/qc/ukb_sqc_v2.txt\")\n",
    "lg$withdrawn_eid_file <- paste0(config$bbdatadir, \"/w53100_2023-04-25.csv\")\n",
    "# Pre-computed eids for the bed-format genotypes\n",
    "lg$bed_eid_file <- paste0(config$ukb.derived.dir, \"/analysis.bed.eids.txt\")\n",
    "# Individuals with first degree relatives\n",
    "lg$remrels_file <- paste0(config$ukb.derived.dir, \"/ukb41482.English-remove-first-degree-relatives.eids.txt\")\n",
    "# panUKB ancestral files\n",
    "lg$pan_ukb_file <- paste0(config$panukb.dir, \"/Files for retman/all_pops_non_eur_pruned_within_pop_pc_covs.tsv\")\n",
    "lg$pan_ukb_bridge_file <- paste0(config$panukb.dir, \"/ukb53100bridge31063.txt\")\n",
    "\n",
    "### load input files ###\n",
    "system.time(load(lg$bd_RDdata_file))\n",
    "all_eids <- bd[, \"f.eid\"]\n",
    "bd_not_lost2followup <- scan(lg$bd_not_lost2followup_file, what = \"logical\") == \"TRUE\"\n",
    "withdrawn_eid <- scan(lg$withdrawn_eid_file)\n",
    "# Sample QC\n",
    "bed_sample_qc <- read.csv(lg$bed_sample_qc_file, sep = \" \")\n",
    "# The corresponding eids\n",
    "bed_eid <- scan(lg$bed_eid_file)\n",
    "# Convert to bd_eid order\n",
    "sample_qc <- bed_sample_qc[match(all_eids, bed_eid), ]\n",
    "# Close (first degree) relatives\n",
    "remrels <- scan(lg$remrels_file)\n",
    "# load and match the panukb data\n",
    "panukb <- read.csv(lg$pan_ukb_file, sep = \"\\t\")[, c(\"s\", \"pop\")]\n",
    "panukb_bridge <- read.csv(lg$pan_ukb_bridge_file, sep = \" \", header = F)\n",
    "bridge_matched <- panukb_bridge[match(panukb$s, panukb_bridge[, 2]), ]\n",
    "panukb$eid <- bridge_matched[, 1]\n",
    "panukb_matched <- panukb[match(all_eids, panukb$eid), ]\n",
    "\n",
    "### assign assessment centre data ###\n",
    "f.assesscentre <- \"f.54.0.0\"\n",
    "assess_centre_England <- c(\n",
    "    11012, 11021, 11011, 11008, 11024, 11020, 11018, 11010, 11016, \n",
    "    11001, 11017, 11009, 11013, 11002, 11007, 11014, 10003, 11006, \n",
    "    11025, 11026, 11027, 11028 \n",
    ")\n",
    "f_assesscentre <- \"f.54.0.0\""
   ]
  },
  {
   "cell_type": "code",
   "execution_count": 3,
   "metadata": {
    "vscode": {
     "languageId": "r"
    }
   },
   "outputs": [
    {
     "name": "stdout",
     "output_type": "stream",
     "text": [
      "[1] \"Time taken to load hes: 24.5665311813354\"\n"
     ]
    }
   ],
   "source": [
    "# get summary for SGSS\n",
    "sgss_file = paste0(bugbank_data_dir, \"ukb_sgss_extract_refined.csv\")\n",
    "sgss = read.csv(sgss_file, sep = \"\\t\", header = TRUE, stringsAsFactors = FALSE)\n",
    "\n",
    "# load HES\n",
    "start_time = Sys.time()\n",
    "hes_file = paste0(ukb_data_dir, \"hes/hesin_diag.latest.txt.gz\")\n",
    "hes = read.table(hes_file, sep = \"\\t\", header = TRUE, stringsAsFactors = FALSE)\n",
    "end_time = Sys.time()\n",
    "print(paste0(\"Time taken to load hes: \", end_time - start_time))"
   ]
  },
  {
   "cell_type": "code",
   "execution_count": 4,
   "metadata": {
    "vscode": {
     "languageId": "r"
    }
   },
   "outputs": [],
   "source": [
    "# load icd10 data\n",
    "icd10_desc_file <- paste0(bugbank_data_dir, \"pathogen_to_unique_icd10.tsv\")\n",
    "icd10_desc <- read.table(icd10_desc_file, sep = \"\\t\", header = TRUE, stringsAsFactors = FALSE)\n",
    "\n",
    "# subset hes to only infection related\n",
    "infect_icd10_codes <- unique(unlist(strsplit(icd10_desc$icd10, split = \",\")))\n",
    "hes_infect <- hes[hes$diag_icd10 %in% infect_icd10_codes, ]"
   ]
  },
  {
   "cell_type": "code",
   "execution_count": 36,
   "metadata": {
    "vscode": {
     "languageId": "r"
    }
   },
   "outputs": [],
   "source": [
    "filter_lst <- list()\n",
    "filter <- rep(T, nrow(bd))\n",
    "filter_lst[[1]] <- filter\n",
    "names(filter_lst)[1] <- \"all\"\n",
    "\n",
    "filter <- filter & bd_not_lost2followup\n",
    "filter <- filter & !(all_eids %in% withdrawn_eid)\n",
    "filter_lst[[2]] <- filter\n",
    "names(filter_lst)[2] <- \"not lost to followup\"\n",
    "\n",
    "filter <- filter & sample_qc$putative.sex.chromosome.aneuploidy == 0\n",
    "filter_lst[[3]] <- filter\n",
    "names(filter_lst)[3] <- \"no aneuploidy in sex chromosome\"\n",
    "\n",
    "filter <- filter & sample_qc$Submitted.Gender == sample_qc$Inferred.Gender\n",
    "filter_lst[[4]] <- filter\n",
    "names(filter_lst)[4] <- \"reported sex matches genetic sex\"\n",
    "\n",
    "filter <- filter & sample_qc$het.missing.outliers == 0\n",
    "filter_lst[[5]] <- filter\n",
    "names(filter_lst)[5] <- \"no het missing outliers\"\n",
    "\n",
    "filter <- filter & sample_qc$excluded.from.kinship.inference == 0\n",
    "filter_lst[[6]] <- filter\n",
    "names(filter_lst)[6] <- \"not excluded from kinship inference\"\n",
    "\n",
    "filter <- filter & sample_qc$excess.relatives == 0\n",
    "filter_lst[[7]] <- filter\n",
    "names(filter_lst)[7] <- \"no excess relatives\"\n",
    "\n",
    "filter <- filter & sample_qc$in.Phasing.Input.chr1_22 == 1 & \n",
    "    sample_qc$in.Phasing.Input.chrX == 1 &\n",
    "    sample_qc$in.Phasing.Input.chrXY == 1\n",
    "filter_lst[[8]] <- filter\n",
    "names(filter_lst)[8] <- \"in phasing input\"\n",
    "\n",
    "filter <- filter & all_eids %in% panukb_matched$eid[which(panukb_matched$pop == \"EUR\")]\n",
    "filter_lst[[9]] <- filter\n",
    "names(filter_lst)[9] <- \"in panukb EUR\"\n",
    "\n",
    "filter <- filter & bd[, f_assesscentre] %in% assess_centre_England\n",
    "filter_lst[[10]] <- filter\n",
    "names(filter_lst)[10] <- \"in assessment centre England\"\n",
    "\n"
   ]
  },
  {
   "cell_type": "code",
   "execution_count": 37,
   "metadata": {
    "vscode": {
     "languageId": "r"
    }
   },
   "outputs": [
    {
     "data": {
      "text/html": [
       "<table class=\"dataframe\">\n",
       "<caption>A matrix: 10 x 3 of type int</caption>\n",
       "<tbody>\n",
       "\t<tr><th scope=row>all</th><td>502505</td><td>114736</td><td>69900</td></tr>\n",
       "\t<tr><th scope=row>not lost to followup</th><td>426755</td><td>108226</td><td>56142</td></tr>\n",
       "\t<tr><th scope=row>no aneuploidy in sex chromosome</th><td>414121</td><td>104782</td><td>54100</td></tr>\n",
       "\t<tr><th scope=row>reported sex matches genetic sex</th><td>413957</td><td>104733</td><td>54067</td></tr>\n",
       "\t<tr><th scope=row>no het missing outliers</th><td>413123</td><td>104500</td><td>53948</td></tr>\n",
       "\t<tr><th scope=row>not excluded from kinship inference</th><td>413115</td><td>104498</td><td>53948</td></tr>\n",
       "\t<tr><th scope=row>no excess relatives</th><td>412956</td><td>104456</td><td>53924</td></tr>\n",
       "\t<tr><th scope=row>in phasing input</th><td>412721</td><td>104385</td><td>53878</td></tr>\n",
       "\t<tr><th scope=row>in panukb EUR</th><td>359929</td><td> 92639</td><td>46432</td></tr>\n",
       "\t<tr><th scope=row>in assessment centre England</th><td>359929</td><td> 92639</td><td>46432</td></tr>\n",
       "</tbody>\n",
       "</table>\n"
      ],
      "text/latex": [
       "A matrix: 10 x 3 of type int\n",
       "\\begin{tabular}{r|lll}\n",
       "\tall & 502505 & 114736 & 69900\\\\\n",
       "\tnot lost to followup & 426755 & 108226 & 56142\\\\\n",
       "\tno aneuploidy in sex chromosome & 414121 & 104782 & 54100\\\\\n",
       "\treported sex matches genetic sex & 413957 & 104733 & 54067\\\\\n",
       "\tno het missing outliers & 413123 & 104500 & 53948\\\\\n",
       "\tnot excluded from kinship inference & 413115 & 104498 & 53948\\\\\n",
       "\tno excess relatives & 412956 & 104456 & 53924\\\\\n",
       "\tin phasing input & 412721 & 104385 & 53878\\\\\n",
       "\tin panukb EUR & 359929 &  92639 & 46432\\\\\n",
       "\tin assessment centre England & 359929 &  92639 & 46432\\\\\n",
       "\\end{tabular}\n"
      ],
      "text/markdown": [
       "\n",
       "A matrix: 10 x 3 of type int\n",
       "\n",
       "| all | 502505 | 114736 | 69900 |\n",
       "| not lost to followup | 426755 | 108226 | 56142 |\n",
       "| no aneuploidy in sex chromosome | 414121 | 104782 | 54100 |\n",
       "| reported sex matches genetic sex | 413957 | 104733 | 54067 |\n",
       "| no het missing outliers | 413123 | 104500 | 53948 |\n",
       "| not excluded from kinship inference | 413115 | 104498 | 53948 |\n",
       "| no excess relatives | 412956 | 104456 | 53924 |\n",
       "| in phasing input | 412721 | 104385 | 53878 |\n",
       "| in panukb EUR | 359929 |  92639 | 46432 |\n",
       "| in assessment centre England | 359929 |  92639 | 46432 |\n",
       "\n"
      ],
      "text/plain": [
       "                                    [,1]   [,2]   [,3] \n",
       "all                                 502505 114736 69900\n",
       "not lost to followup                426755 108226 56142\n",
       "no aneuploidy in sex chromosome     414121 104782 54100\n",
       "reported sex matches genetic sex    413957 104733 54067\n",
       "no het missing outliers             413123 104500 53948\n",
       "not excluded from kinship inference 413115 104498 53948\n",
       "no excess relatives                 412956 104456 53924\n",
       "in phasing input                    412721 104385 53878\n",
       "in panukb EUR                       359929  92639 46432\n",
       "in assessment centre England        359929  92639 46432"
      ]
     },
     "metadata": {},
     "output_type": "display_data"
    }
   ],
   "source": [
    "sgss_filter <- sgss\n",
    "hes_filter <- hes_infect\n",
    "ukb_filter <- list()\n",
    "for (i in 1:length(filter_lst)) {\n",
    "    filter <- filter_lst[[i]]\n",
    "    eids_filtered <- unique(all_eids[filter])\n",
    "    sgss_filter <- sgss_filter[sgss_filter$UKB_EID %in% eids_filtered, ]\n",
    "    hes_filter <- hes_filter[hes_filter$eid %in% eids_filtered, ]\n",
    "    sgss_cnt <- length(unique(sgss_filter$UKB_EID))\n",
    "    hes_cnt <- length(unique(hes_filter$eid))\n",
    "    ukb_filter[[i]] <- c(length(eids_filtered), sgss_cnt, hes_cnt)\n",
    "}\n",
    "ukb_filter <- do.call(rbind, ukb_filter)\n",
    "rownames(ukb_filter) <- names(filter_lst)\n",
    "\n",
    "ukb_filter"
   ]
  },
  {
   "cell_type": "markdown",
   "metadata": {},
   "source": [
    "### Pathogen filtering"
   ]
  },
  {
   "cell_type": "code",
   "execution_count": 38,
   "metadata": {
    "vscode": {
     "languageId": "r"
    }
   },
   "outputs": [
    {
     "data": {
      "text/html": [
       "0"
      ],
      "text/latex": [
       "0"
      ],
      "text/markdown": [
       "0"
      ],
      "text/plain": [
       "[1] 0"
      ]
     },
     "metadata": {},
     "output_type": "display_data"
    },
    {
     "data": {
      "text/html": [
       "0"
      ],
      "text/latex": [
       "0"
      ],
      "text/markdown": [
       "0"
      ],
      "text/plain": [
       "[1] 0"
      ]
     },
     "metadata": {},
     "output_type": "display_data"
    }
   ],
   "source": [
    "# for SGSS\n",
    "sgss_tax_file <- paste0(bugbank_data_dir, \"bb_pathogen_taxonomy_13032023.tsv\")\n",
    "sgss_tax <- read.table(sgss_tax_file, sep = \"\\t\", header = TRUE, stringsAsFactors = FALSE)\n",
    "\n",
    "# ------------------------------------------------------------\n",
    "# create a dictionary from origin_name to most specific taxa\n",
    "# ------------------------------------------------------------\n",
    "\n",
    "# sanity check: no NA nor duplicated origin_name\n",
    "sum(is.na(sgss_tax$origin_name))\n",
    "sum(duplicated(sgss_tax$origin_name))\n",
    "origin_name_to_tax <- list()\n",
    "\n",
    "# for each origin_name, find the most specific tax\n",
    "\n",
    "# get the tax levels\n",
    "tax_levs <- colnames(sgss_tax)[-ncol(sgss_tax)]\n",
    "# remove the last column (which is the origin_name) for later use\n",
    "sgss_tax_only <- sgss_tax[, -ncol(sgss_tax)]\n",
    "\n",
    "for (i in 1:nrow(sgss_tax)) {\n",
    "    origin_name <- sgss_tax$origin_name[i]\n",
    "    # remove any NA and the last column (which is the origin_name)\n",
    "    tax <- sgss_tax_only[i, ]\n",
    "    tax_lev <- tax_levs[!is.na(tax)]\n",
    "    tax <- tax[!is.na(tax)]\n",
    "    specific_tax <- tail(tax, 1)\n",
    "    specific_tax_lev <- tail(tax_lev, 1)\n",
    "    origin_name_to_tax[[origin_name]] <- c(specific_tax, specific_tax_lev)\n",
    "}\n",
    "\n"
   ]
  },
  {
   "cell_type": "code",
   "execution_count": 57,
   "metadata": {
    "vscode": {
     "languageId": "r"
    }
   },
   "outputs": [
    {
     "data": {
      "text/html": [
       "<table class=\"dataframe\">\n",
       "<caption>A matrix: 4 x 3 of type int</caption>\n",
       "<thead>\n",
       "\t<tr><th></th><th scope=col>record_cnt</th><th scope=col>ind_cnt</th><th scope=col>tax_cnt</th></tr>\n",
       "</thead>\n",
       "<tbody>\n",
       "\t<tr><th scope=row>all</th><td>350699</td><td>114737</td><td>526</td></tr>\n",
       "\t<tr><th scope=row>individual that passed QC</th><td>281762</td><td> 92639</td><td>488</td></tr>\n",
       "\t<tr><th scope=row>species level pathogen</th><td>217109</td><td> 78310</td><td>388</td></tr>\n",
       "\t<tr><th scope=row>pathogen with &gt; 100 cases</th><td>263908</td><td> 95469</td><td> 34</td></tr>\n",
       "</tbody>\n",
       "</table>\n"
      ],
      "text/latex": [
       "A matrix: 4 x 3 of type int\n",
       "\\begin{tabular}{r|lll}\n",
       "  & record\\_cnt & ind\\_cnt & tax\\_cnt\\\\\n",
       "\\hline\n",
       "\tall & 350699 & 114737 & 526\\\\\n",
       "\tindividual that passed QC & 281762 &  92639 & 488\\\\\n",
       "\tspecies level pathogen & 217109 &  78310 & 388\\\\\n",
       "\tpathogen with > 100 cases & 263908 &  95469 &  34\\\\\n",
       "\\end{tabular}\n"
      ],
      "text/markdown": [
       "\n",
       "A matrix: 4 x 3 of type int\n",
       "\n",
       "| <!--/--> | record_cnt | ind_cnt | tax_cnt |\n",
       "|---|---|---|---|\n",
       "| all | 350699 | 114737 | 526 |\n",
       "| individual that passed QC | 281762 |  92639 | 488 |\n",
       "| species level pathogen | 217109 |  78310 | 388 |\n",
       "| pathogen with &gt; 100 cases | 263908 |  95469 |  34 |\n",
       "\n"
      ],
      "text/plain": [
       "                          record_cnt ind_cnt tax_cnt\n",
       "all                       350699     114737  526    \n",
       "individual that passed QC 281762      92639  488    \n",
       "species level pathogen    217109      78310  388    \n",
       "pathogen with > 100 cases 263908      95469   34    "
      ]
     },
     "metadata": {},
     "output_type": "display_data"
    },
    {
     "data": {
      "text/html": [
       "36"
      ],
      "text/latex": [
       "36"
      ],
      "text/markdown": [
       "36"
      ],
      "text/plain": [
       "[1] 36"
      ]
     },
     "metadata": {},
     "output_type": "display_data"
    }
   ],
   "source": [
    "# filter1: starting from all\n",
    "filter_lst <- list()\n",
    "filter <- rep(T, nrow(sgss))\n",
    "\n",
    "filter_lst[[1]] <- filter\n",
    "names(filter_lst)[1] <- \"all\"\n",
    "\n",
    "# filter2: only include individuals that passed the QC\n",
    "filter_lst[[2]] <- filter & sgss$UKB_EID %in% eids_filtered\n",
    "names(filter_lst)[2] <- \"individual that passed QC\"\n",
    "\n",
    "# filter3: only include infection that have a pathogen label in species level\n",
    "sgss$tax_lev <- map_chr(sgss$ORGANISM_SPECIES_NAME, function(origin_name) {\n",
    "    tax_lev <- origin_name_to_tax[[origin_name]][2]\n",
    "})\n",
    "filter_lst[[3]] <- filter_lst[[2]] & sgss$tax_lev == \"species\"\n",
    "names(filter_lst)[3] <- \"species level pathogen\"\n",
    "\n",
    "# filter4: only include pathogen that have infection cases > 100\n",
    "sgss$tax <- map_chr(sgss$ORGANISM_SPECIES_NAME, function(origin_name) {\n",
    "    species_name <- origin_name_to_tax[[origin_name]][1]\n",
    "})\n",
    "species_name_qc <- sgss$tax[filter_lst[[3]]]\n",
    "species_name_freq <- table(species_name_qc)\n",
    "species_name_gwas <- names(species_name_freq)[which(species_name_freq > 100)]\n",
    "filter_lst[[4]] <- sgss$tax %in% species_name_gwas\n",
    "names(filter_lst)[4] <- \"pathogen with > 100 cases\"\n",
    "\n",
    "sgss_filter_table <- list()\n",
    "for(i in 1:length(filter_lst)) {\n",
    "    filter <- filter_lst[[i]]\n",
    "    record_cnt <- sum(filter, na.rm = TRUE)\n",
    "    ind_cnt <- length(unique(sgss$UKB_EID[filter]))\n",
    "    tax_cnt <- length(unique(sgss$tax[filter]))\n",
    "    sgss_filter_table[[i]] <- c(record_cnt, ind_cnt, tax_cnt)\n",
    "}\n",
    "sgss_filter_table <- do.call(rbind, sgss_filter_table)\n",
    "rownames(sgss_filter_table) <- names(filter_lst)\n",
    "colnames(sgss_filter_table) <- c(\"record_cnt\", \"ind_cnt\", \"tax_cnt\")\n",
    "sgss_filter_table\n",
    "\n",
    "\n",
    "\n"
   ]
  },
  {
   "cell_type": "code",
   "execution_count": null,
   "metadata": {
    "vscode": {
     "languageId": "r"
    }
   },
   "outputs": [
    {
     "data": {
      "text/html": [
       "<style>\n",
       ".list-inline {list-style: none; margin:0; padding: 0}\n",
       ".list-inline>li {display: inline-block}\n",
       ".list-inline>li:not(:last-child)::after {content: \"\\00b7\"; padding: 0 .5ex}\n",
       "</style>\n",
       "<ol class=list-inline><li>'/well/bag/clme1992/saige_pipe_test/summary.05062023_sgss_species.Acinetobacter_baumannii.species.all.txt.gz'</li><li>'/well/bag/clme1992/saige_pipe_test/summary.05062023_sgss_species.Bacteroides_fragilis.species.all.txt.gz'</li><li>'/well/bag/clme1992/saige_pipe_test/summary.05062023_sgss_species.Campylobacter_jejuni.species.all.txt.gz'</li><li>'/well/bag/clme1992/saige_pipe_test/summary.05062023_sgss_species.Candida_albicans.species.all.txt.gz'</li><li>'/well/bag/clme1992/saige_pipe_test/summary.05062023_sgss_species.Candida_parapsilosis.species.all.txt.gz'</li><li>'/well/bag/clme1992/saige_pipe_test/summary.05062023_sgss_species.Citrobacter_freundii.species.all.txt.gz'</li><li>'/well/bag/clme1992/saige_pipe_test/summary.05062023_sgss_species.Citrobacter_koseri.species.all.txt.gz'</li><li>'/well/bag/clme1992/saige_pipe_test/summary.05062023_sgss_species.Corynebacterium_striatum.species.all.txt.gz'</li><li>'/well/bag/clme1992/saige_pipe_test/summary.05062023_sgss_species.Cutibacterium_acnes.species.all.txt.gz'</li><li>'/well/bag/clme1992/saige_pipe_test/summary.05062023_sgss_species.Enterobacter_cloacae.species.all.txt.gz'</li><li>'/well/bag/clme1992/saige_pipe_test/summary.05062023_sgss_species.Enterococcus_faecalis.species.all.txt.gz'</li><li>'/well/bag/clme1992/saige_pipe_test/summary.05062023_sgss_species.Enterococcus_faecium.species.all.txt.gz'</li><li>'/well/bag/clme1992/saige_pipe_test/summary.05062023_sgss_species.Escherichia_coli.species.all.txt.gz'</li><li>'/well/bag/clme1992/saige_pipe_test/summary.05062023_sgss_species.Haemophilus_influenzae.species.all.txt.gz'</li><li>'/well/bag/clme1992/saige_pipe_test/summary.05062023_sgss_species.Haemophilus_parainfluenzae.species.all.txt.gz'</li><li>'/well/bag/clme1992/saige_pipe_test/summary.05062023_sgss_species.Klebsiella_aerogenes.species.all.txt.gz'</li><li>'/well/bag/clme1992/saige_pipe_test/summary.05062023_sgss_species.Klebsiella_oxytoca.species.all.txt.gz'</li><li>'/well/bag/clme1992/saige_pipe_test/summary.05062023_sgss_species.Klebsiella_pneumoniae.species.all.txt.gz'</li><li>'/well/bag/clme1992/saige_pipe_test/summary.05062023_sgss_species.Klebsiella_variicola.species.all.txt.gz'</li><li>'/well/bag/clme1992/saige_pipe_test/summary.05062023_sgss_species.Micrococcus_luteus.species.all.txt.gz'</li><li>'/well/bag/clme1992/saige_pipe_test/summary.05062023_sgss_species.Moraxella_catarrhalis.species.all.txt.gz'</li><li>'/well/bag/clme1992/saige_pipe_test/summary.05062023_sgss_species.Morganella_morganii.species.all.txt.gz'</li><li>'/well/bag/clme1992/saige_pipe_test/summary.05062023_sgss_species.Nakaseomyces_glabratus.species.all.txt.gz'</li><li>'/well/bag/clme1992/saige_pipe_test/summary.05062023_sgss_species.Proteus_mirabilis.species.all.txt.gz'</li><li>'/well/bag/clme1992/saige_pipe_test/summary.05062023_sgss_species.Proteus_vulgaris.species.all.txt.gz'</li><li>'/well/bag/clme1992/saige_pipe_test/summary.05062023_sgss_species.Pseudomonas_aeruginosa.species.all.txt.gz'</li><li>'/well/bag/clme1992/saige_pipe_test/summary.05062023_sgss_species.Pseudomonas_putida.species.all.txt.gz'</li><li>'/well/bag/clme1992/saige_pipe_test/summary.05062023_sgss_species.Raoultella_ornithinolytica.species.all.txt.gz'</li><li>'/well/bag/clme1992/saige_pipe_test/summary.05062023_sgss_species.Salmonella_enterica.species.all.txt.gz'</li><li>'/well/bag/clme1992/saige_pipe_test/summary.05062023_sgss_species.Serratia_liquefaciens.species.all.txt.gz'</li><li>'/well/bag/clme1992/saige_pipe_test/summary.05062023_sgss_species.Serratia_marcescens.species.all.txt.gz'</li><li>'/well/bag/clme1992/saige_pipe_test/summary.05062023_sgss_species.Staphylococcus_aureus.species.all.txt.gz'</li><li>'/well/bag/clme1992/saige_pipe_test/summary.05062023_sgss_species.Stenotrophomonas_maltophilia.species.all.txt.gz'</li><li>'/well/bag/clme1992/saige_pipe_test/summary.05062023_sgss_species.Streptococcus_intermedius.species.all.txt.gz'</li><li>'/well/bag/clme1992/saige_pipe_test/summary.05062023_sgss_species.Streptococcus_milleri.species.all.txt.gz'</li><li>'/well/bag/clme1992/saige_pipe_test/summary.05062023_sgss_species.Streptococcus_pneumoniae.species.all.txt.gz'</li></ol>\n"
      ],
      "text/latex": [
       "\\begin{enumerate*}\n",
       "\\item '/well/bag/clme1992/saige\\_pipe\\_test/summary.05062023\\_sgss\\_species.Acinetobacter\\_baumannii.species.all.txt.gz'\n",
       "\\item '/well/bag/clme1992/saige\\_pipe\\_test/summary.05062023\\_sgss\\_species.Bacteroides\\_fragilis.species.all.txt.gz'\n",
       "\\item '/well/bag/clme1992/saige\\_pipe\\_test/summary.05062023\\_sgss\\_species.Campylobacter\\_jejuni.species.all.txt.gz'\n",
       "\\item '/well/bag/clme1992/saige\\_pipe\\_test/summary.05062023\\_sgss\\_species.Candida\\_albicans.species.all.txt.gz'\n",
       "\\item '/well/bag/clme1992/saige\\_pipe\\_test/summary.05062023\\_sgss\\_species.Candida\\_parapsilosis.species.all.txt.gz'\n",
       "\\item '/well/bag/clme1992/saige\\_pipe\\_test/summary.05062023\\_sgss\\_species.Citrobacter\\_freundii.species.all.txt.gz'\n",
       "\\item '/well/bag/clme1992/saige\\_pipe\\_test/summary.05062023\\_sgss\\_species.Citrobacter\\_koseri.species.all.txt.gz'\n",
       "\\item '/well/bag/clme1992/saige\\_pipe\\_test/summary.05062023\\_sgss\\_species.Corynebacterium\\_striatum.species.all.txt.gz'\n",
       "\\item '/well/bag/clme1992/saige\\_pipe\\_test/summary.05062023\\_sgss\\_species.Cutibacterium\\_acnes.species.all.txt.gz'\n",
       "\\item '/well/bag/clme1992/saige\\_pipe\\_test/summary.05062023\\_sgss\\_species.Enterobacter\\_cloacae.species.all.txt.gz'\n",
       "\\item '/well/bag/clme1992/saige\\_pipe\\_test/summary.05062023\\_sgss\\_species.Enterococcus\\_faecalis.species.all.txt.gz'\n",
       "\\item '/well/bag/clme1992/saige\\_pipe\\_test/summary.05062023\\_sgss\\_species.Enterococcus\\_faecium.species.all.txt.gz'\n",
       "\\item '/well/bag/clme1992/saige\\_pipe\\_test/summary.05062023\\_sgss\\_species.Escherichia\\_coli.species.all.txt.gz'\n",
       "\\item '/well/bag/clme1992/saige\\_pipe\\_test/summary.05062023\\_sgss\\_species.Haemophilus\\_influenzae.species.all.txt.gz'\n",
       "\\item '/well/bag/clme1992/saige\\_pipe\\_test/summary.05062023\\_sgss\\_species.Haemophilus\\_parainfluenzae.species.all.txt.gz'\n",
       "\\item '/well/bag/clme1992/saige\\_pipe\\_test/summary.05062023\\_sgss\\_species.Klebsiella\\_aerogenes.species.all.txt.gz'\n",
       "\\item '/well/bag/clme1992/saige\\_pipe\\_test/summary.05062023\\_sgss\\_species.Klebsiella\\_oxytoca.species.all.txt.gz'\n",
       "\\item '/well/bag/clme1992/saige\\_pipe\\_test/summary.05062023\\_sgss\\_species.Klebsiella\\_pneumoniae.species.all.txt.gz'\n",
       "\\item '/well/bag/clme1992/saige\\_pipe\\_test/summary.05062023\\_sgss\\_species.Klebsiella\\_variicola.species.all.txt.gz'\n",
       "\\item '/well/bag/clme1992/saige\\_pipe\\_test/summary.05062023\\_sgss\\_species.Micrococcus\\_luteus.species.all.txt.gz'\n",
       "\\item '/well/bag/clme1992/saige\\_pipe\\_test/summary.05062023\\_sgss\\_species.Moraxella\\_catarrhalis.species.all.txt.gz'\n",
       "\\item '/well/bag/clme1992/saige\\_pipe\\_test/summary.05062023\\_sgss\\_species.Morganella\\_morganii.species.all.txt.gz'\n",
       "\\item '/well/bag/clme1992/saige\\_pipe\\_test/summary.05062023\\_sgss\\_species.Nakaseomyces\\_glabratus.species.all.txt.gz'\n",
       "\\item '/well/bag/clme1992/saige\\_pipe\\_test/summary.05062023\\_sgss\\_species.Proteus\\_mirabilis.species.all.txt.gz'\n",
       "\\item '/well/bag/clme1992/saige\\_pipe\\_test/summary.05062023\\_sgss\\_species.Proteus\\_vulgaris.species.all.txt.gz'\n",
       "\\item '/well/bag/clme1992/saige\\_pipe\\_test/summary.05062023\\_sgss\\_species.Pseudomonas\\_aeruginosa.species.all.txt.gz'\n",
       "\\item '/well/bag/clme1992/saige\\_pipe\\_test/summary.05062023\\_sgss\\_species.Pseudomonas\\_putida.species.all.txt.gz'\n",
       "\\item '/well/bag/clme1992/saige\\_pipe\\_test/summary.05062023\\_sgss\\_species.Raoultella\\_ornithinolytica.species.all.txt.gz'\n",
       "\\item '/well/bag/clme1992/saige\\_pipe\\_test/summary.05062023\\_sgss\\_species.Salmonella\\_enterica.species.all.txt.gz'\n",
       "\\item '/well/bag/clme1992/saige\\_pipe\\_test/summary.05062023\\_sgss\\_species.Serratia\\_liquefaciens.species.all.txt.gz'\n",
       "\\item '/well/bag/clme1992/saige\\_pipe\\_test/summary.05062023\\_sgss\\_species.Serratia\\_marcescens.species.all.txt.gz'\n",
       "\\item '/well/bag/clme1992/saige\\_pipe\\_test/summary.05062023\\_sgss\\_species.Staphylococcus\\_aureus.species.all.txt.gz'\n",
       "\\item '/well/bag/clme1992/saige\\_pipe\\_test/summary.05062023\\_sgss\\_species.Stenotrophomonas\\_maltophilia.species.all.txt.gz'\n",
       "\\item '/well/bag/clme1992/saige\\_pipe\\_test/summary.05062023\\_sgss\\_species.Streptococcus\\_intermedius.species.all.txt.gz'\n",
       "\\item '/well/bag/clme1992/saige\\_pipe\\_test/summary.05062023\\_sgss\\_species.Streptococcus\\_milleri.species.all.txt.gz'\n",
       "\\item '/well/bag/clme1992/saige\\_pipe\\_test/summary.05062023\\_sgss\\_species.Streptococcus\\_pneumoniae.species.all.txt.gz'\n",
       "\\end{enumerate*}\n"
      ],
      "text/markdown": [
       "1. '/well/bag/clme1992/saige_pipe_test/summary.05062023_sgss_species.Acinetobacter_baumannii.species.all.txt.gz'\n",
       "2. '/well/bag/clme1992/saige_pipe_test/summary.05062023_sgss_species.Bacteroides_fragilis.species.all.txt.gz'\n",
       "3. '/well/bag/clme1992/saige_pipe_test/summary.05062023_sgss_species.Campylobacter_jejuni.species.all.txt.gz'\n",
       "4. '/well/bag/clme1992/saige_pipe_test/summary.05062023_sgss_species.Candida_albicans.species.all.txt.gz'\n",
       "5. '/well/bag/clme1992/saige_pipe_test/summary.05062023_sgss_species.Candida_parapsilosis.species.all.txt.gz'\n",
       "6. '/well/bag/clme1992/saige_pipe_test/summary.05062023_sgss_species.Citrobacter_freundii.species.all.txt.gz'\n",
       "7. '/well/bag/clme1992/saige_pipe_test/summary.05062023_sgss_species.Citrobacter_koseri.species.all.txt.gz'\n",
       "8. '/well/bag/clme1992/saige_pipe_test/summary.05062023_sgss_species.Corynebacterium_striatum.species.all.txt.gz'\n",
       "9. '/well/bag/clme1992/saige_pipe_test/summary.05062023_sgss_species.Cutibacterium_acnes.species.all.txt.gz'\n",
       "10. '/well/bag/clme1992/saige_pipe_test/summary.05062023_sgss_species.Enterobacter_cloacae.species.all.txt.gz'\n",
       "11. '/well/bag/clme1992/saige_pipe_test/summary.05062023_sgss_species.Enterococcus_faecalis.species.all.txt.gz'\n",
       "12. '/well/bag/clme1992/saige_pipe_test/summary.05062023_sgss_species.Enterococcus_faecium.species.all.txt.gz'\n",
       "13. '/well/bag/clme1992/saige_pipe_test/summary.05062023_sgss_species.Escherichia_coli.species.all.txt.gz'\n",
       "14. '/well/bag/clme1992/saige_pipe_test/summary.05062023_sgss_species.Haemophilus_influenzae.species.all.txt.gz'\n",
       "15. '/well/bag/clme1992/saige_pipe_test/summary.05062023_sgss_species.Haemophilus_parainfluenzae.species.all.txt.gz'\n",
       "16. '/well/bag/clme1992/saige_pipe_test/summary.05062023_sgss_species.Klebsiella_aerogenes.species.all.txt.gz'\n",
       "17. '/well/bag/clme1992/saige_pipe_test/summary.05062023_sgss_species.Klebsiella_oxytoca.species.all.txt.gz'\n",
       "18. '/well/bag/clme1992/saige_pipe_test/summary.05062023_sgss_species.Klebsiella_pneumoniae.species.all.txt.gz'\n",
       "19. '/well/bag/clme1992/saige_pipe_test/summary.05062023_sgss_species.Klebsiella_variicola.species.all.txt.gz'\n",
       "20. '/well/bag/clme1992/saige_pipe_test/summary.05062023_sgss_species.Micrococcus_luteus.species.all.txt.gz'\n",
       "21. '/well/bag/clme1992/saige_pipe_test/summary.05062023_sgss_species.Moraxella_catarrhalis.species.all.txt.gz'\n",
       "22. '/well/bag/clme1992/saige_pipe_test/summary.05062023_sgss_species.Morganella_morganii.species.all.txt.gz'\n",
       "23. '/well/bag/clme1992/saige_pipe_test/summary.05062023_sgss_species.Nakaseomyces_glabratus.species.all.txt.gz'\n",
       "24. '/well/bag/clme1992/saige_pipe_test/summary.05062023_sgss_species.Proteus_mirabilis.species.all.txt.gz'\n",
       "25. '/well/bag/clme1992/saige_pipe_test/summary.05062023_sgss_species.Proteus_vulgaris.species.all.txt.gz'\n",
       "26. '/well/bag/clme1992/saige_pipe_test/summary.05062023_sgss_species.Pseudomonas_aeruginosa.species.all.txt.gz'\n",
       "27. '/well/bag/clme1992/saige_pipe_test/summary.05062023_sgss_species.Pseudomonas_putida.species.all.txt.gz'\n",
       "28. '/well/bag/clme1992/saige_pipe_test/summary.05062023_sgss_species.Raoultella_ornithinolytica.species.all.txt.gz'\n",
       "29. '/well/bag/clme1992/saige_pipe_test/summary.05062023_sgss_species.Salmonella_enterica.species.all.txt.gz'\n",
       "30. '/well/bag/clme1992/saige_pipe_test/summary.05062023_sgss_species.Serratia_liquefaciens.species.all.txt.gz'\n",
       "31. '/well/bag/clme1992/saige_pipe_test/summary.05062023_sgss_species.Serratia_marcescens.species.all.txt.gz'\n",
       "32. '/well/bag/clme1992/saige_pipe_test/summary.05062023_sgss_species.Staphylococcus_aureus.species.all.txt.gz'\n",
       "33. '/well/bag/clme1992/saige_pipe_test/summary.05062023_sgss_species.Stenotrophomonas_maltophilia.species.all.txt.gz'\n",
       "34. '/well/bag/clme1992/saige_pipe_test/summary.05062023_sgss_species.Streptococcus_intermedius.species.all.txt.gz'\n",
       "35. '/well/bag/clme1992/saige_pipe_test/summary.05062023_sgss_species.Streptococcus_milleri.species.all.txt.gz'\n",
       "36. '/well/bag/clme1992/saige_pipe_test/summary.05062023_sgss_species.Streptococcus_pneumoniae.species.all.txt.gz'\n",
       "\n",
       "\n"
      ],
      "text/plain": [
       " [1] \"/well/bag/clme1992/saige_pipe_test/summary.05062023_sgss_species.Acinetobacter_baumannii.species.all.txt.gz\"     \n",
       " [2] \"/well/bag/clme1992/saige_pipe_test/summary.05062023_sgss_species.Bacteroides_fragilis.species.all.txt.gz\"        \n",
       " [3] \"/well/bag/clme1992/saige_pipe_test/summary.05062023_sgss_species.Campylobacter_jejuni.species.all.txt.gz\"        \n",
       " [4] \"/well/bag/clme1992/saige_pipe_test/summary.05062023_sgss_species.Candida_albicans.species.all.txt.gz\"            \n",
       " [5] \"/well/bag/clme1992/saige_pipe_test/summary.05062023_sgss_species.Candida_parapsilosis.species.all.txt.gz\"        \n",
       " [6] \"/well/bag/clme1992/saige_pipe_test/summary.05062023_sgss_species.Citrobacter_freundii.species.all.txt.gz\"        \n",
       " [7] \"/well/bag/clme1992/saige_pipe_test/summary.05062023_sgss_species.Citrobacter_koseri.species.all.txt.gz\"          \n",
       " [8] \"/well/bag/clme1992/saige_pipe_test/summary.05062023_sgss_species.Corynebacterium_striatum.species.all.txt.gz\"    \n",
       " [9] \"/well/bag/clme1992/saige_pipe_test/summary.05062023_sgss_species.Cutibacterium_acnes.species.all.txt.gz\"         \n",
       "[10] \"/well/bag/clme1992/saige_pipe_test/summary.05062023_sgss_species.Enterobacter_cloacae.species.all.txt.gz\"        \n",
       "[11] \"/well/bag/clme1992/saige_pipe_test/summary.05062023_sgss_species.Enterococcus_faecalis.species.all.txt.gz\"       \n",
       "[12] \"/well/bag/clme1992/saige_pipe_test/summary.05062023_sgss_species.Enterococcus_faecium.species.all.txt.gz\"        \n",
       "[13] \"/well/bag/clme1992/saige_pipe_test/summary.05062023_sgss_species.Escherichia_coli.species.all.txt.gz\"            \n",
       "[14] \"/well/bag/clme1992/saige_pipe_test/summary.05062023_sgss_species.Haemophilus_influenzae.species.all.txt.gz\"      \n",
       "[15] \"/well/bag/clme1992/saige_pipe_test/summary.05062023_sgss_species.Haemophilus_parainfluenzae.species.all.txt.gz\"  \n",
       "[16] \"/well/bag/clme1992/saige_pipe_test/summary.05062023_sgss_species.Klebsiella_aerogenes.species.all.txt.gz\"        \n",
       "[17] \"/well/bag/clme1992/saige_pipe_test/summary.05062023_sgss_species.Klebsiella_oxytoca.species.all.txt.gz\"          \n",
       "[18] \"/well/bag/clme1992/saige_pipe_test/summary.05062023_sgss_species.Klebsiella_pneumoniae.species.all.txt.gz\"       \n",
       "[19] \"/well/bag/clme1992/saige_pipe_test/summary.05062023_sgss_species.Klebsiella_variicola.species.all.txt.gz\"        \n",
       "[20] \"/well/bag/clme1992/saige_pipe_test/summary.05062023_sgss_species.Micrococcus_luteus.species.all.txt.gz\"          \n",
       "[21] \"/well/bag/clme1992/saige_pipe_test/summary.05062023_sgss_species.Moraxella_catarrhalis.species.all.txt.gz\"       \n",
       "[22] \"/well/bag/clme1992/saige_pipe_test/summary.05062023_sgss_species.Morganella_morganii.species.all.txt.gz\"         \n",
       "[23] \"/well/bag/clme1992/saige_pipe_test/summary.05062023_sgss_species.Nakaseomyces_glabratus.species.all.txt.gz\"      \n",
       "[24] \"/well/bag/clme1992/saige_pipe_test/summary.05062023_sgss_species.Proteus_mirabilis.species.all.txt.gz\"           \n",
       "[25] \"/well/bag/clme1992/saige_pipe_test/summary.05062023_sgss_species.Proteus_vulgaris.species.all.txt.gz\"            \n",
       "[26] \"/well/bag/clme1992/saige_pipe_test/summary.05062023_sgss_species.Pseudomonas_aeruginosa.species.all.txt.gz\"      \n",
       "[27] \"/well/bag/clme1992/saige_pipe_test/summary.05062023_sgss_species.Pseudomonas_putida.species.all.txt.gz\"          \n",
       "[28] \"/well/bag/clme1992/saige_pipe_test/summary.05062023_sgss_species.Raoultella_ornithinolytica.species.all.txt.gz\"  \n",
       "[29] \"/well/bag/clme1992/saige_pipe_test/summary.05062023_sgss_species.Salmonella_enterica.species.all.txt.gz\"         \n",
       "[30] \"/well/bag/clme1992/saige_pipe_test/summary.05062023_sgss_species.Serratia_liquefaciens.species.all.txt.gz\"       \n",
       "[31] \"/well/bag/clme1992/saige_pipe_test/summary.05062023_sgss_species.Serratia_marcescens.species.all.txt.gz\"         \n",
       "[32] \"/well/bag/clme1992/saige_pipe_test/summary.05062023_sgss_species.Staphylococcus_aureus.species.all.txt.gz\"       \n",
       "[33] \"/well/bag/clme1992/saige_pipe_test/summary.05062023_sgss_species.Stenotrophomonas_maltophilia.species.all.txt.gz\"\n",
       "[34] \"/well/bag/clme1992/saige_pipe_test/summary.05062023_sgss_species.Streptococcus_intermedius.species.all.txt.gz\"   \n",
       "[35] \"/well/bag/clme1992/saige_pipe_test/summary.05062023_sgss_species.Streptococcus_milleri.species.all.txt.gz\"       \n",
       "[36] \"/well/bag/clme1992/saige_pipe_test/summary.05062023_sgss_species.Streptococcus_pneumoniae.species.all.txt.gz\"    "
      ]
     },
     "metadata": {},
     "output_type": "display_data"
    }
   ],
   "source": [
    "# sanity check, see if the resulting number of tax is the same as the number of GWAS\n",
    "gwas_wrkdir <- \"/well/bag/clme1992/saige_pipe_test\"\n",
    "gwas_files <- list.files(gwas_wrkdir, pattern = \"summary.05062023_sgss_species.*all.txt.gz\", full.names = TRUE)\n",
    "gwas_files_species <- gsub(gwas_files, \"summary.05062023_sgss_species\", \"\")\n",
    "gwas_files_species <- gsub(gwas_files, \".species.all.txt.gz\", \"\")\n",
    "gwas_files_species <- gsub(gwas_files, \".species.all.txt.gz\", \"\")\n",
    "gwas_files_species"
   ]
  },
  {
   "cell_type": "code",
   "execution_count": 56,
   "metadata": {
    "vscode": {
     "languageId": "r"
    }
   },
   "outputs": [
    {
     "data": {
      "text/html": [
       "<strong>Pasteurella multocida:</strong> 122"
      ],
      "text/latex": [
       "\\textbf{Pasteurella multocida:} 122"
      ],
      "text/markdown": [
       "**Pasteurella multocida:** 122"
      ],
      "text/plain": [
       "Pasteurella multocida \n",
       "                  122 "
      ]
     },
     "metadata": {},
     "output_type": "display_data"
    },
    {
     "data": {
      "text/html": [
       "<strong>Escherichia coli:</strong> 141296"
      ],
      "text/latex": [
       "\\textbf{Escherichia coli:} 141296"
      ],
      "text/markdown": [
       "**Escherichia coli:** 141296"
      ],
      "text/plain": [
       "Escherichia coli \n",
       "          141296 "
      ]
     },
     "metadata": {},
     "output_type": "display_data"
    }
   ],
   "source": [
    "species_name_freq[which(names(species_name_freq) == \"Pasteurella multocida\")]\n",
    "species_name_freq[which(names(species_name_freq) == \"Escherichia coli\")]"
   ]
  },
  {
   "cell_type": "code",
   "execution_count": 45,
   "metadata": {
    "vscode": {
     "languageId": "r"
    }
   },
   "outputs": [
    {
     "data": {
      "text/html": [
       "<style>\n",
       ".list-inline {list-style: none; margin:0; padding: 0}\n",
       ".list-inline>li {display: inline-block}\n",
       ".list-inline>li:not(:last-child)::after {content: \"\\00b7\"; padding: 0 .5ex}\n",
       "</style>\n",
       "<ol class=list-inline><li>'Escherichia_coli.species.URINE'</li><li>'Escherichia_coli.species.BLOOD'</li><li>'Escherichia_coli.species.MSU'</li><li>'Escherichia_coli.species.SPUTUM'</li><li>'Escherichia_coli.species.SWAB___NOS'</li><li>'Escherichia_coli.species.RECTUM'</li><li>'Escherichia_coli.species.CSU'</li><li>'Escherichia_coli.species.FLUID___NOS'</li><li>'Escherichia_coli.species.PUS_SOURCE_UNKNOWN'</li><li>'Escherichia_coli.species.WOUND_SURGICAL'</li><li>'Escherichia_coli.species.WOUND_TRAUMATIC'</li><li>'Escherichia_coli.species.TISSUE'</li><li>'Escherichia_coli.species.UNKNOWN'</li><li>'Escherichia_coli.species.URINARY_CATHETER'</li><li>'Escherichia_coli.species.SKIN_WOUND'</li><li>'Escherichia_coli.species.all'</li><li>'Enterobacter_cloacae.species.URINE'</li><li>'Enterobacter_cloacae.species.WOUND_SURGICAL'</li><li>'Enterobacter_cloacae.species.SPUTUM'</li><li>'Enterobacter_cloacae.species.WOUND_TRAUMATIC'</li><li>'Enterobacter_cloacae.species.BLOOD'</li><li>'Enterobacter_cloacae.species.MSU'</li><li>'Enterobacter_cloacae.species.all'</li><li>'Klebsiella_pneumoniae.species.URINE'</li><li>'Klebsiella_pneumoniae.species.SPUTUM'</li><li>'Klebsiella_pneumoniae.species.BLOOD'</li><li>'Klebsiella_pneumoniae.species.SWAB___NOS'</li><li>'Klebsiella_pneumoniae.species.WOUND_TRAUMATIC'</li><li>'Klebsiella_pneumoniae.species.WOUND_SURGICAL'</li><li>'Klebsiella_pneumoniae.species.MSU'</li><li>'Klebsiella_pneumoniae.species.all'</li><li>'Klebsiella_oxytoca.species.URINE'</li><li>'Klebsiella_oxytoca.species.BLOOD'</li><li>'Klebsiella_oxytoca.species.MSU'</li><li>'Klebsiella_oxytoca.species.SPUTUM'</li><li>'Klebsiella_oxytoca.species.all'</li><li>'Klebsiella_aerogenes.species.URINE'</li><li>'Klebsiella_aerogenes.species.SPUTUM'</li><li>'Klebsiella_aerogenes.species.MSU'</li><li>'Klebsiella_aerogenes.species.all'</li><li>'Klebsiella_variicola.species.URINE'</li><li>'Klebsiella_variicola.species.all'</li><li>'Citrobacter_koseri.species.URINE'</li><li>'Citrobacter_koseri.species.SPUTUM'</li><li>'Citrobacter_koseri.species.MSU'</li><li>'Citrobacter_koseri.species.all'</li><li>'Citrobacter_freundii.species.URINE'</li><li>'Citrobacter_freundii.species.MSU'</li><li>'Citrobacter_freundii.species.all'</li><li>'Salmonella_enterica.species.all'</li><li>'Raoultella_ornithinolytica.species.all'</li><li>'Proteus_mirabilis.species.URINE'</li><li>'Proteus_mirabilis.species.BLOOD'</li><li>'Proteus_mirabilis.species.SPUTUM'</li><li>'Proteus_mirabilis.species.WOUND_SURGICAL'</li><li>'Proteus_mirabilis.species.MSU'</li><li>'Proteus_mirabilis.species.all'</li><li>'Proteus_vulgaris.species.all'</li><li>'Morganella_morganii.species.URINE'</li><li>'Morganella_morganii.species.MSU'</li><li>'Morganella_morganii.species.all'</li><li>'Serratia_marcescens.species.SPUTUM'</li><li>'Serratia_marcescens.species.URINE'</li><li>'Serratia_marcescens.species.all'</li><li>'Serratia_liquefaciens.species.all'</li><li>'Pseudomonas_aeruginosa.species.SWAB___NOS'</li><li>'Pseudomonas_aeruginosa.species.URINE'</li><li>'Pseudomonas_aeruginosa.species.SPUTUM'</li><li>'Pseudomonas_aeruginosa.species.OUTER_EAR'</li><li>'Pseudomonas_aeruginosa.species.BLOOD'</li><li>'Pseudomonas_aeruginosa.species.CSU'</li><li>'Pseudomonas_aeruginosa.species.WOUND_SURGICAL'</li><li>'Pseudomonas_aeruginosa.species.TISSUE'</li><li>'Pseudomonas_aeruginosa.species.WOUND_TRAUMATIC'</li><li>'Pseudomonas_aeruginosa.species.MIDDLE_EAR'</li><li>'Pseudomonas_aeruginosa.species.MSU'</li><li>'Pseudomonas_aeruginosa.species.SKIN_WOUND'</li><li>'Pseudomonas_aeruginosa.species.URINARY_CATHETER'</li><li>'Pseudomonas_aeruginosa.species.all'</li><li>'Pseudomonas_putida.species.all'</li><li>'Haemophilus_influenzae.species.SPUTUM'</li><li>'Haemophilus_influenzae.species.BRONCHIAL'</li><li>'Haemophilus_influenzae.species.BAL'</li><li>'Haemophilus_influenzae.species.UPPER_RESPIRATORY_TRACT'</li><li>'Haemophilus_influenzae.species.all'</li><li>'Haemophilus_parainfluenzae.species.SPUTUM'</li><li>'Haemophilus_parainfluenzae.species.all'</li><li>'Moraxella_catarrhalis.species.SPUTUM'</li><li>'Moraxella_catarrhalis.species.all'</li><li>'Acinetobacter_baumannii.species.all'</li><li>'Stenotrophomonas_maltophilia.species.SPUTUM'</li><li>'Stenotrophomonas_maltophilia.species.all'</li><li>'Staphylococcus_aureus.species.SWAB___NOS'</li><li>'Staphylococcus_aureus.species.NOSE'</li><li>'Staphylococcus_aureus.species.SKIN_WOUND'</li><li>'Staphylococcus_aureus.species.OUTER_EAR'</li><li>'Staphylococcus_aureus.species.SPUTUM'</li><li>'Staphylococcus_aureus.species.WOUND_SURGICAL'</li><li>'Staphylococcus_aureus.species.NORMAL_SKIN'</li><li>'Staphylococcus_aureus.species.BLOOD'</li><li>'Staphylococcus_aureus.species.TISSUE'</li><li>'Staphylococcus_aureus.species.HVS'</li><li>'Staphylococcus_aureus.species.WOUND_TRAUMATIC'</li><li>'Staphylococcus_aureus.species.NASAL'</li><li>'Staphylococcus_aureus.species.PUS_SOURCE_UNKNOWN'</li><li>'Staphylococcus_aureus.species.URINE'</li><li>'Staphylococcus_aureus.species.PENIS'</li><li>'Staphylococcus_aureus.species.EYE'</li><li>'Staphylococcus_aureus.species.BRONCHIAL'</li><li>'Staphylococcus_aureus.species.ABSCESS'</li><li>'Staphylococcus_aureus.species.UNKNOWN'</li><li>'Staphylococcus_aureus.species.MIDDLE_EAR'</li><li>'Staphylococcus_aureus.species.TOE'</li><li>'Staphylococcus_aureus.species.VAGINA'</li><li>'Staphylococcus_aureus.species.BAL'</li><li>'Staphylococcus_aureus.species.GROIN___NOS'</li><li>'Staphylococcus_aureus.species.MSU'</li><li>'Staphylococcus_aureus.species.SKIN_ULCER'</li><li>'Staphylococcus_aureus.species.PRESSURE_SORE'</li><li>'Staphylococcus_aureus.species.UPPER_RESPIRATORY_TRACT'</li><li>'Staphylococcus_aureus.species.JOINT'</li><li>'Staphylococcus_aureus.species.FLUID___NOS'</li><li>'Staphylococcus_aureus.species.LOWER_GENITAL_TRACT'</li><li>'Staphylococcus_aureus.species.THROAT'</li><li>'Staphylococcus_aureus.species.PERINEUM'</li><li>'Staphylococcus_aureus.species.SKIN_SCRAPING'</li><li>'Staphylococcus_aureus.species.ULCER___NOS'</li><li>'Staphylococcus_aureus.species.NOSE_THROAT_PERINEUM'</li><li>'Staphylococcus_aureus.species.all'</li><li>'Enterococcus_faecalis.species.URINE'</li><li>'Enterococcus_faecalis.species.BLOOD'</li><li>'Enterococcus_faecalis.species.TISSUE'</li><li>'Enterococcus_faecalis.species.WOUND_SURGICAL'</li><li>'Enterococcus_faecalis.species.MSU'</li><li>'Enterococcus_faecalis.species.FLUID___NOS'</li><li>'Enterococcus_faecalis.species.CSU'</li><li>'Enterococcus_faecalis.species.all'</li><li>'Enterococcus_faecium.species.SWAB___NOS'</li><li>'Enterococcus_faecium.species.BLOOD'</li><li>'Enterococcus_faecium.species.URINE'</li><li>'Enterococcus_faecium.species.FLUID___NOS'</li><li>'Enterococcus_faecium.species.MSU'</li><li>'Enterococcus_faecium.species.all'</li><li>'Streptococcus_pneumoniae.species.SPUTUM'</li><li>'Streptococcus_pneumoniae.species.BLOOD'</li><li>'Streptococcus_pneumoniae.species.all'</li><li>'Streptococcus_intermedius.species.PUS_SOURCE_UNKNOWN'</li><li>'Streptococcus_intermedius.species.BLOOD'</li><li>'Streptococcus_intermedius.species.all'</li><li>'Streptococcus_milleri.species.all'</li><li>'Campylobacter_jejuni.species.FAECES'</li><li>'Campylobacter_jejuni.species.all'</li><li>'Bacteroides_fragilis.species.all'</li><li>'Corynebacterium_striatum.species.all'</li><li>'Cutibacterium_acnes.species.all'</li><li>'Micrococcus_luteus.species.all'</li><li>'Candida_albicans.species.SPUTUM'</li><li>'Candida_albicans.species.all'</li><li>'Candida_parapsilosis.species.all'</li><li>'Nakaseomyces_glabratus.species.all'</li></ol>\n"
      ],
      "text/latex": [
       "\\begin{enumerate*}\n",
       "\\item 'Escherichia\\_coli.species.URINE'\n",
       "\\item 'Escherichia\\_coli.species.BLOOD'\n",
       "\\item 'Escherichia\\_coli.species.MSU'\n",
       "\\item 'Escherichia\\_coli.species.SPUTUM'\n",
       "\\item 'Escherichia\\_coli.species.SWAB\\_\\_\\_NOS'\n",
       "\\item 'Escherichia\\_coli.species.RECTUM'\n",
       "\\item 'Escherichia\\_coli.species.CSU'\n",
       "\\item 'Escherichia\\_coli.species.FLUID\\_\\_\\_NOS'\n",
       "\\item 'Escherichia\\_coli.species.PUS\\_SOURCE\\_UNKNOWN'\n",
       "\\item 'Escherichia\\_coli.species.WOUND\\_SURGICAL'\n",
       "\\item 'Escherichia\\_coli.species.WOUND\\_TRAUMATIC'\n",
       "\\item 'Escherichia\\_coli.species.TISSUE'\n",
       "\\item 'Escherichia\\_coli.species.UNKNOWN'\n",
       "\\item 'Escherichia\\_coli.species.URINARY\\_CATHETER'\n",
       "\\item 'Escherichia\\_coli.species.SKIN\\_WOUND'\n",
       "\\item 'Escherichia\\_coli.species.all'\n",
       "\\item 'Enterobacter\\_cloacae.species.URINE'\n",
       "\\item 'Enterobacter\\_cloacae.species.WOUND\\_SURGICAL'\n",
       "\\item 'Enterobacter\\_cloacae.species.SPUTUM'\n",
       "\\item 'Enterobacter\\_cloacae.species.WOUND\\_TRAUMATIC'\n",
       "\\item 'Enterobacter\\_cloacae.species.BLOOD'\n",
       "\\item 'Enterobacter\\_cloacae.species.MSU'\n",
       "\\item 'Enterobacter\\_cloacae.species.all'\n",
       "\\item 'Klebsiella\\_pneumoniae.species.URINE'\n",
       "\\item 'Klebsiella\\_pneumoniae.species.SPUTUM'\n",
       "\\item 'Klebsiella\\_pneumoniae.species.BLOOD'\n",
       "\\item 'Klebsiella\\_pneumoniae.species.SWAB\\_\\_\\_NOS'\n",
       "\\item 'Klebsiella\\_pneumoniae.species.WOUND\\_TRAUMATIC'\n",
       "\\item 'Klebsiella\\_pneumoniae.species.WOUND\\_SURGICAL'\n",
       "\\item 'Klebsiella\\_pneumoniae.species.MSU'\n",
       "\\item 'Klebsiella\\_pneumoniae.species.all'\n",
       "\\item 'Klebsiella\\_oxytoca.species.URINE'\n",
       "\\item 'Klebsiella\\_oxytoca.species.BLOOD'\n",
       "\\item 'Klebsiella\\_oxytoca.species.MSU'\n",
       "\\item 'Klebsiella\\_oxytoca.species.SPUTUM'\n",
       "\\item 'Klebsiella\\_oxytoca.species.all'\n",
       "\\item 'Klebsiella\\_aerogenes.species.URINE'\n",
       "\\item 'Klebsiella\\_aerogenes.species.SPUTUM'\n",
       "\\item 'Klebsiella\\_aerogenes.species.MSU'\n",
       "\\item 'Klebsiella\\_aerogenes.species.all'\n",
       "\\item 'Klebsiella\\_variicola.species.URINE'\n",
       "\\item 'Klebsiella\\_variicola.species.all'\n",
       "\\item 'Citrobacter\\_koseri.species.URINE'\n",
       "\\item 'Citrobacter\\_koseri.species.SPUTUM'\n",
       "\\item 'Citrobacter\\_koseri.species.MSU'\n",
       "\\item 'Citrobacter\\_koseri.species.all'\n",
       "\\item 'Citrobacter\\_freundii.species.URINE'\n",
       "\\item 'Citrobacter\\_freundii.species.MSU'\n",
       "\\item 'Citrobacter\\_freundii.species.all'\n",
       "\\item 'Salmonella\\_enterica.species.all'\n",
       "\\item 'Raoultella\\_ornithinolytica.species.all'\n",
       "\\item 'Proteus\\_mirabilis.species.URINE'\n",
       "\\item 'Proteus\\_mirabilis.species.BLOOD'\n",
       "\\item 'Proteus\\_mirabilis.species.SPUTUM'\n",
       "\\item 'Proteus\\_mirabilis.species.WOUND\\_SURGICAL'\n",
       "\\item 'Proteus\\_mirabilis.species.MSU'\n",
       "\\item 'Proteus\\_mirabilis.species.all'\n",
       "\\item 'Proteus\\_vulgaris.species.all'\n",
       "\\item 'Morganella\\_morganii.species.URINE'\n",
       "\\item 'Morganella\\_morganii.species.MSU'\n",
       "\\item 'Morganella\\_morganii.species.all'\n",
       "\\item 'Serratia\\_marcescens.species.SPUTUM'\n",
       "\\item 'Serratia\\_marcescens.species.URINE'\n",
       "\\item 'Serratia\\_marcescens.species.all'\n",
       "\\item 'Serratia\\_liquefaciens.species.all'\n",
       "\\item 'Pseudomonas\\_aeruginosa.species.SWAB\\_\\_\\_NOS'\n",
       "\\item 'Pseudomonas\\_aeruginosa.species.URINE'\n",
       "\\item 'Pseudomonas\\_aeruginosa.species.SPUTUM'\n",
       "\\item 'Pseudomonas\\_aeruginosa.species.OUTER\\_EAR'\n",
       "\\item 'Pseudomonas\\_aeruginosa.species.BLOOD'\n",
       "\\item 'Pseudomonas\\_aeruginosa.species.CSU'\n",
       "\\item 'Pseudomonas\\_aeruginosa.species.WOUND\\_SURGICAL'\n",
       "\\item 'Pseudomonas\\_aeruginosa.species.TISSUE'\n",
       "\\item 'Pseudomonas\\_aeruginosa.species.WOUND\\_TRAUMATIC'\n",
       "\\item 'Pseudomonas\\_aeruginosa.species.MIDDLE\\_EAR'\n",
       "\\item 'Pseudomonas\\_aeruginosa.species.MSU'\n",
       "\\item 'Pseudomonas\\_aeruginosa.species.SKIN\\_WOUND'\n",
       "\\item 'Pseudomonas\\_aeruginosa.species.URINARY\\_CATHETER'\n",
       "\\item 'Pseudomonas\\_aeruginosa.species.all'\n",
       "\\item 'Pseudomonas\\_putida.species.all'\n",
       "\\item 'Haemophilus\\_influenzae.species.SPUTUM'\n",
       "\\item 'Haemophilus\\_influenzae.species.BRONCHIAL'\n",
       "\\item 'Haemophilus\\_influenzae.species.BAL'\n",
       "\\item 'Haemophilus\\_influenzae.species.UPPER\\_RESPIRATORY\\_TRACT'\n",
       "\\item 'Haemophilus\\_influenzae.species.all'\n",
       "\\item 'Haemophilus\\_parainfluenzae.species.SPUTUM'\n",
       "\\item 'Haemophilus\\_parainfluenzae.species.all'\n",
       "\\item 'Moraxella\\_catarrhalis.species.SPUTUM'\n",
       "\\item 'Moraxella\\_catarrhalis.species.all'\n",
       "\\item 'Acinetobacter\\_baumannii.species.all'\n",
       "\\item 'Stenotrophomonas\\_maltophilia.species.SPUTUM'\n",
       "\\item 'Stenotrophomonas\\_maltophilia.species.all'\n",
       "\\item 'Staphylococcus\\_aureus.species.SWAB\\_\\_\\_NOS'\n",
       "\\item 'Staphylococcus\\_aureus.species.NOSE'\n",
       "\\item 'Staphylococcus\\_aureus.species.SKIN\\_WOUND'\n",
       "\\item 'Staphylococcus\\_aureus.species.OUTER\\_EAR'\n",
       "\\item 'Staphylococcus\\_aureus.species.SPUTUM'\n",
       "\\item 'Staphylococcus\\_aureus.species.WOUND\\_SURGICAL'\n",
       "\\item 'Staphylococcus\\_aureus.species.NORMAL\\_SKIN'\n",
       "\\item 'Staphylococcus\\_aureus.species.BLOOD'\n",
       "\\item 'Staphylococcus\\_aureus.species.TISSUE'\n",
       "\\item 'Staphylococcus\\_aureus.species.HVS'\n",
       "\\item 'Staphylococcus\\_aureus.species.WOUND\\_TRAUMATIC'\n",
       "\\item 'Staphylococcus\\_aureus.species.NASAL'\n",
       "\\item 'Staphylococcus\\_aureus.species.PUS\\_SOURCE\\_UNKNOWN'\n",
       "\\item 'Staphylococcus\\_aureus.species.URINE'\n",
       "\\item 'Staphylococcus\\_aureus.species.PENIS'\n",
       "\\item 'Staphylococcus\\_aureus.species.EYE'\n",
       "\\item 'Staphylococcus\\_aureus.species.BRONCHIAL'\n",
       "\\item 'Staphylococcus\\_aureus.species.ABSCESS'\n",
       "\\item 'Staphylococcus\\_aureus.species.UNKNOWN'\n",
       "\\item 'Staphylococcus\\_aureus.species.MIDDLE\\_EAR'\n",
       "\\item 'Staphylococcus\\_aureus.species.TOE'\n",
       "\\item 'Staphylococcus\\_aureus.species.VAGINA'\n",
       "\\item 'Staphylococcus\\_aureus.species.BAL'\n",
       "\\item 'Staphylococcus\\_aureus.species.GROIN\\_\\_\\_NOS'\n",
       "\\item 'Staphylococcus\\_aureus.species.MSU'\n",
       "\\item 'Staphylococcus\\_aureus.species.SKIN\\_ULCER'\n",
       "\\item 'Staphylococcus\\_aureus.species.PRESSURE\\_SORE'\n",
       "\\item 'Staphylococcus\\_aureus.species.UPPER\\_RESPIRATORY\\_TRACT'\n",
       "\\item 'Staphylococcus\\_aureus.species.JOINT'\n",
       "\\item 'Staphylococcus\\_aureus.species.FLUID\\_\\_\\_NOS'\n",
       "\\item 'Staphylococcus\\_aureus.species.LOWER\\_GENITAL\\_TRACT'\n",
       "\\item 'Staphylococcus\\_aureus.species.THROAT'\n",
       "\\item 'Staphylococcus\\_aureus.species.PERINEUM'\n",
       "\\item 'Staphylococcus\\_aureus.species.SKIN\\_SCRAPING'\n",
       "\\item 'Staphylococcus\\_aureus.species.ULCER\\_\\_\\_NOS'\n",
       "\\item 'Staphylococcus\\_aureus.species.NOSE\\_THROAT\\_PERINEUM'\n",
       "\\item 'Staphylococcus\\_aureus.species.all'\n",
       "\\item 'Enterococcus\\_faecalis.species.URINE'\n",
       "\\item 'Enterococcus\\_faecalis.species.BLOOD'\n",
       "\\item 'Enterococcus\\_faecalis.species.TISSUE'\n",
       "\\item 'Enterococcus\\_faecalis.species.WOUND\\_SURGICAL'\n",
       "\\item 'Enterococcus\\_faecalis.species.MSU'\n",
       "\\item 'Enterococcus\\_faecalis.species.FLUID\\_\\_\\_NOS'\n",
       "\\item 'Enterococcus\\_faecalis.species.CSU'\n",
       "\\item 'Enterococcus\\_faecalis.species.all'\n",
       "\\item 'Enterococcus\\_faecium.species.SWAB\\_\\_\\_NOS'\n",
       "\\item 'Enterococcus\\_faecium.species.BLOOD'\n",
       "\\item 'Enterococcus\\_faecium.species.URINE'\n",
       "\\item 'Enterococcus\\_faecium.species.FLUID\\_\\_\\_NOS'\n",
       "\\item 'Enterococcus\\_faecium.species.MSU'\n",
       "\\item 'Enterococcus\\_faecium.species.all'\n",
       "\\item 'Streptococcus\\_pneumoniae.species.SPUTUM'\n",
       "\\item 'Streptococcus\\_pneumoniae.species.BLOOD'\n",
       "\\item 'Streptococcus\\_pneumoniae.species.all'\n",
       "\\item 'Streptococcus\\_intermedius.species.PUS\\_SOURCE\\_UNKNOWN'\n",
       "\\item 'Streptococcus\\_intermedius.species.BLOOD'\n",
       "\\item 'Streptococcus\\_intermedius.species.all'\n",
       "\\item 'Streptococcus\\_milleri.species.all'\n",
       "\\item 'Campylobacter\\_jejuni.species.FAECES'\n",
       "\\item 'Campylobacter\\_jejuni.species.all'\n",
       "\\item 'Bacteroides\\_fragilis.species.all'\n",
       "\\item 'Corynebacterium\\_striatum.species.all'\n",
       "\\item 'Cutibacterium\\_acnes.species.all'\n",
       "\\item 'Micrococcus\\_luteus.species.all'\n",
       "\\item 'Candida\\_albicans.species.SPUTUM'\n",
       "\\item 'Candida\\_albicans.species.all'\n",
       "\\item 'Candida\\_parapsilosis.species.all'\n",
       "\\item 'Nakaseomyces\\_glabratus.species.all'\n",
       "\\end{enumerate*}\n"
      ],
      "text/markdown": [
       "1. 'Escherichia_coli.species.URINE'\n",
       "2. 'Escherichia_coli.species.BLOOD'\n",
       "3. 'Escherichia_coli.species.MSU'\n",
       "4. 'Escherichia_coli.species.SPUTUM'\n",
       "5. 'Escherichia_coli.species.SWAB___NOS'\n",
       "6. 'Escherichia_coli.species.RECTUM'\n",
       "7. 'Escherichia_coli.species.CSU'\n",
       "8. 'Escherichia_coli.species.FLUID___NOS'\n",
       "9. 'Escherichia_coli.species.PUS_SOURCE_UNKNOWN'\n",
       "10. 'Escherichia_coli.species.WOUND_SURGICAL'\n",
       "11. 'Escherichia_coli.species.WOUND_TRAUMATIC'\n",
       "12. 'Escherichia_coli.species.TISSUE'\n",
       "13. 'Escherichia_coli.species.UNKNOWN'\n",
       "14. 'Escherichia_coli.species.URINARY_CATHETER'\n",
       "15. 'Escherichia_coli.species.SKIN_WOUND'\n",
       "16. 'Escherichia_coli.species.all'\n",
       "17. 'Enterobacter_cloacae.species.URINE'\n",
       "18. 'Enterobacter_cloacae.species.WOUND_SURGICAL'\n",
       "19. 'Enterobacter_cloacae.species.SPUTUM'\n",
       "20. 'Enterobacter_cloacae.species.WOUND_TRAUMATIC'\n",
       "21. 'Enterobacter_cloacae.species.BLOOD'\n",
       "22. 'Enterobacter_cloacae.species.MSU'\n",
       "23. 'Enterobacter_cloacae.species.all'\n",
       "24. 'Klebsiella_pneumoniae.species.URINE'\n",
       "25. 'Klebsiella_pneumoniae.species.SPUTUM'\n",
       "26. 'Klebsiella_pneumoniae.species.BLOOD'\n",
       "27. 'Klebsiella_pneumoniae.species.SWAB___NOS'\n",
       "28. 'Klebsiella_pneumoniae.species.WOUND_TRAUMATIC'\n",
       "29. 'Klebsiella_pneumoniae.species.WOUND_SURGICAL'\n",
       "30. 'Klebsiella_pneumoniae.species.MSU'\n",
       "31. 'Klebsiella_pneumoniae.species.all'\n",
       "32. 'Klebsiella_oxytoca.species.URINE'\n",
       "33. 'Klebsiella_oxytoca.species.BLOOD'\n",
       "34. 'Klebsiella_oxytoca.species.MSU'\n",
       "35. 'Klebsiella_oxytoca.species.SPUTUM'\n",
       "36. 'Klebsiella_oxytoca.species.all'\n",
       "37. 'Klebsiella_aerogenes.species.URINE'\n",
       "38. 'Klebsiella_aerogenes.species.SPUTUM'\n",
       "39. 'Klebsiella_aerogenes.species.MSU'\n",
       "40. 'Klebsiella_aerogenes.species.all'\n",
       "41. 'Klebsiella_variicola.species.URINE'\n",
       "42. 'Klebsiella_variicola.species.all'\n",
       "43. 'Citrobacter_koseri.species.URINE'\n",
       "44. 'Citrobacter_koseri.species.SPUTUM'\n",
       "45. 'Citrobacter_koseri.species.MSU'\n",
       "46. 'Citrobacter_koseri.species.all'\n",
       "47. 'Citrobacter_freundii.species.URINE'\n",
       "48. 'Citrobacter_freundii.species.MSU'\n",
       "49. 'Citrobacter_freundii.species.all'\n",
       "50. 'Salmonella_enterica.species.all'\n",
       "51. 'Raoultella_ornithinolytica.species.all'\n",
       "52. 'Proteus_mirabilis.species.URINE'\n",
       "53. 'Proteus_mirabilis.species.BLOOD'\n",
       "54. 'Proteus_mirabilis.species.SPUTUM'\n",
       "55. 'Proteus_mirabilis.species.WOUND_SURGICAL'\n",
       "56. 'Proteus_mirabilis.species.MSU'\n",
       "57. 'Proteus_mirabilis.species.all'\n",
       "58. 'Proteus_vulgaris.species.all'\n",
       "59. 'Morganella_morganii.species.URINE'\n",
       "60. 'Morganella_morganii.species.MSU'\n",
       "61. 'Morganella_morganii.species.all'\n",
       "62. 'Serratia_marcescens.species.SPUTUM'\n",
       "63. 'Serratia_marcescens.species.URINE'\n",
       "64. 'Serratia_marcescens.species.all'\n",
       "65. 'Serratia_liquefaciens.species.all'\n",
       "66. 'Pseudomonas_aeruginosa.species.SWAB___NOS'\n",
       "67. 'Pseudomonas_aeruginosa.species.URINE'\n",
       "68. 'Pseudomonas_aeruginosa.species.SPUTUM'\n",
       "69. 'Pseudomonas_aeruginosa.species.OUTER_EAR'\n",
       "70. 'Pseudomonas_aeruginosa.species.BLOOD'\n",
       "71. 'Pseudomonas_aeruginosa.species.CSU'\n",
       "72. 'Pseudomonas_aeruginosa.species.WOUND_SURGICAL'\n",
       "73. 'Pseudomonas_aeruginosa.species.TISSUE'\n",
       "74. 'Pseudomonas_aeruginosa.species.WOUND_TRAUMATIC'\n",
       "75. 'Pseudomonas_aeruginosa.species.MIDDLE_EAR'\n",
       "76. 'Pseudomonas_aeruginosa.species.MSU'\n",
       "77. 'Pseudomonas_aeruginosa.species.SKIN_WOUND'\n",
       "78. 'Pseudomonas_aeruginosa.species.URINARY_CATHETER'\n",
       "79. 'Pseudomonas_aeruginosa.species.all'\n",
       "80. 'Pseudomonas_putida.species.all'\n",
       "81. 'Haemophilus_influenzae.species.SPUTUM'\n",
       "82. 'Haemophilus_influenzae.species.BRONCHIAL'\n",
       "83. 'Haemophilus_influenzae.species.BAL'\n",
       "84. 'Haemophilus_influenzae.species.UPPER_RESPIRATORY_TRACT'\n",
       "85. 'Haemophilus_influenzae.species.all'\n",
       "86. 'Haemophilus_parainfluenzae.species.SPUTUM'\n",
       "87. 'Haemophilus_parainfluenzae.species.all'\n",
       "88. 'Moraxella_catarrhalis.species.SPUTUM'\n",
       "89. 'Moraxella_catarrhalis.species.all'\n",
       "90. 'Acinetobacter_baumannii.species.all'\n",
       "91. 'Stenotrophomonas_maltophilia.species.SPUTUM'\n",
       "92. 'Stenotrophomonas_maltophilia.species.all'\n",
       "93. 'Staphylococcus_aureus.species.SWAB___NOS'\n",
       "94. 'Staphylococcus_aureus.species.NOSE'\n",
       "95. 'Staphylococcus_aureus.species.SKIN_WOUND'\n",
       "96. 'Staphylococcus_aureus.species.OUTER_EAR'\n",
       "97. 'Staphylococcus_aureus.species.SPUTUM'\n",
       "98. 'Staphylococcus_aureus.species.WOUND_SURGICAL'\n",
       "99. 'Staphylococcus_aureus.species.NORMAL_SKIN'\n",
       "100. 'Staphylococcus_aureus.species.BLOOD'\n",
       "101. 'Staphylococcus_aureus.species.TISSUE'\n",
       "102. 'Staphylococcus_aureus.species.HVS'\n",
       "103. 'Staphylococcus_aureus.species.WOUND_TRAUMATIC'\n",
       "104. 'Staphylococcus_aureus.species.NASAL'\n",
       "105. 'Staphylococcus_aureus.species.PUS_SOURCE_UNKNOWN'\n",
       "106. 'Staphylococcus_aureus.species.URINE'\n",
       "107. 'Staphylococcus_aureus.species.PENIS'\n",
       "108. 'Staphylococcus_aureus.species.EYE'\n",
       "109. 'Staphylococcus_aureus.species.BRONCHIAL'\n",
       "110. 'Staphylococcus_aureus.species.ABSCESS'\n",
       "111. 'Staphylococcus_aureus.species.UNKNOWN'\n",
       "112. 'Staphylococcus_aureus.species.MIDDLE_EAR'\n",
       "113. 'Staphylococcus_aureus.species.TOE'\n",
       "114. 'Staphylococcus_aureus.species.VAGINA'\n",
       "115. 'Staphylococcus_aureus.species.BAL'\n",
       "116. 'Staphylococcus_aureus.species.GROIN___NOS'\n",
       "117. 'Staphylococcus_aureus.species.MSU'\n",
       "118. 'Staphylococcus_aureus.species.SKIN_ULCER'\n",
       "119. 'Staphylococcus_aureus.species.PRESSURE_SORE'\n",
       "120. 'Staphylococcus_aureus.species.UPPER_RESPIRATORY_TRACT'\n",
       "121. 'Staphylococcus_aureus.species.JOINT'\n",
       "122. 'Staphylococcus_aureus.species.FLUID___NOS'\n",
       "123. 'Staphylococcus_aureus.species.LOWER_GENITAL_TRACT'\n",
       "124. 'Staphylococcus_aureus.species.THROAT'\n",
       "125. 'Staphylococcus_aureus.species.PERINEUM'\n",
       "126. 'Staphylococcus_aureus.species.SKIN_SCRAPING'\n",
       "127. 'Staphylococcus_aureus.species.ULCER___NOS'\n",
       "128. 'Staphylococcus_aureus.species.NOSE_THROAT_PERINEUM'\n",
       "129. 'Staphylococcus_aureus.species.all'\n",
       "130. 'Enterococcus_faecalis.species.URINE'\n",
       "131. 'Enterococcus_faecalis.species.BLOOD'\n",
       "132. 'Enterococcus_faecalis.species.TISSUE'\n",
       "133. 'Enterococcus_faecalis.species.WOUND_SURGICAL'\n",
       "134. 'Enterococcus_faecalis.species.MSU'\n",
       "135. 'Enterococcus_faecalis.species.FLUID___NOS'\n",
       "136. 'Enterococcus_faecalis.species.CSU'\n",
       "137. 'Enterococcus_faecalis.species.all'\n",
       "138. 'Enterococcus_faecium.species.SWAB___NOS'\n",
       "139. 'Enterococcus_faecium.species.BLOOD'\n",
       "140. 'Enterococcus_faecium.species.URINE'\n",
       "141. 'Enterococcus_faecium.species.FLUID___NOS'\n",
       "142. 'Enterococcus_faecium.species.MSU'\n",
       "143. 'Enterococcus_faecium.species.all'\n",
       "144. 'Streptococcus_pneumoniae.species.SPUTUM'\n",
       "145. 'Streptococcus_pneumoniae.species.BLOOD'\n",
       "146. 'Streptococcus_pneumoniae.species.all'\n",
       "147. 'Streptococcus_intermedius.species.PUS_SOURCE_UNKNOWN'\n",
       "148. 'Streptococcus_intermedius.species.BLOOD'\n",
       "149. 'Streptococcus_intermedius.species.all'\n",
       "150. 'Streptococcus_milleri.species.all'\n",
       "151. 'Campylobacter_jejuni.species.FAECES'\n",
       "152. 'Campylobacter_jejuni.species.all'\n",
       "153. 'Bacteroides_fragilis.species.all'\n",
       "154. 'Corynebacterium_striatum.species.all'\n",
       "155. 'Cutibacterium_acnes.species.all'\n",
       "156. 'Micrococcus_luteus.species.all'\n",
       "157. 'Candida_albicans.species.SPUTUM'\n",
       "158. 'Candida_albicans.species.all'\n",
       "159. 'Candida_parapsilosis.species.all'\n",
       "160. 'Nakaseomyces_glabratus.species.all'\n",
       "\n",
       "\n"
      ],
      "text/plain": [
       "  [1] \"Escherichia_coli.species.URINE\"                        \n",
       "  [2] \"Escherichia_coli.species.BLOOD\"                        \n",
       "  [3] \"Escherichia_coli.species.MSU\"                          \n",
       "  [4] \"Escherichia_coli.species.SPUTUM\"                       \n",
       "  [5] \"Escherichia_coli.species.SWAB___NOS\"                   \n",
       "  [6] \"Escherichia_coli.species.RECTUM\"                       \n",
       "  [7] \"Escherichia_coli.species.CSU\"                          \n",
       "  [8] \"Escherichia_coli.species.FLUID___NOS\"                  \n",
       "  [9] \"Escherichia_coli.species.PUS_SOURCE_UNKNOWN\"           \n",
       " [10] \"Escherichia_coli.species.WOUND_SURGICAL\"               \n",
       " [11] \"Escherichia_coli.species.WOUND_TRAUMATIC\"              \n",
       " [12] \"Escherichia_coli.species.TISSUE\"                       \n",
       " [13] \"Escherichia_coli.species.UNKNOWN\"                      \n",
       " [14] \"Escherichia_coli.species.URINARY_CATHETER\"             \n",
       " [15] \"Escherichia_coli.species.SKIN_WOUND\"                   \n",
       " [16] \"Escherichia_coli.species.all\"                          \n",
       " [17] \"Enterobacter_cloacae.species.URINE\"                    \n",
       " [18] \"Enterobacter_cloacae.species.WOUND_SURGICAL\"           \n",
       " [19] \"Enterobacter_cloacae.species.SPUTUM\"                   \n",
       " [20] \"Enterobacter_cloacae.species.WOUND_TRAUMATIC\"          \n",
       " [21] \"Enterobacter_cloacae.species.BLOOD\"                    \n",
       " [22] \"Enterobacter_cloacae.species.MSU\"                      \n",
       " [23] \"Enterobacter_cloacae.species.all\"                      \n",
       " [24] \"Klebsiella_pneumoniae.species.URINE\"                   \n",
       " [25] \"Klebsiella_pneumoniae.species.SPUTUM\"                  \n",
       " [26] \"Klebsiella_pneumoniae.species.BLOOD\"                   \n",
       " [27] \"Klebsiella_pneumoniae.species.SWAB___NOS\"              \n",
       " [28] \"Klebsiella_pneumoniae.species.WOUND_TRAUMATIC\"         \n",
       " [29] \"Klebsiella_pneumoniae.species.WOUND_SURGICAL\"          \n",
       " [30] \"Klebsiella_pneumoniae.species.MSU\"                     \n",
       " [31] \"Klebsiella_pneumoniae.species.all\"                     \n",
       " [32] \"Klebsiella_oxytoca.species.URINE\"                      \n",
       " [33] \"Klebsiella_oxytoca.species.BLOOD\"                      \n",
       " [34] \"Klebsiella_oxytoca.species.MSU\"                        \n",
       " [35] \"Klebsiella_oxytoca.species.SPUTUM\"                     \n",
       " [36] \"Klebsiella_oxytoca.species.all\"                        \n",
       " [37] \"Klebsiella_aerogenes.species.URINE\"                    \n",
       " [38] \"Klebsiella_aerogenes.species.SPUTUM\"                   \n",
       " [39] \"Klebsiella_aerogenes.species.MSU\"                      \n",
       " [40] \"Klebsiella_aerogenes.species.all\"                      \n",
       " [41] \"Klebsiella_variicola.species.URINE\"                    \n",
       " [42] \"Klebsiella_variicola.species.all\"                      \n",
       " [43] \"Citrobacter_koseri.species.URINE\"                      \n",
       " [44] \"Citrobacter_koseri.species.SPUTUM\"                     \n",
       " [45] \"Citrobacter_koseri.species.MSU\"                        \n",
       " [46] \"Citrobacter_koseri.species.all\"                        \n",
       " [47] \"Citrobacter_freundii.species.URINE\"                    \n",
       " [48] \"Citrobacter_freundii.species.MSU\"                      \n",
       " [49] \"Citrobacter_freundii.species.all\"                      \n",
       " [50] \"Salmonella_enterica.species.all\"                       \n",
       " [51] \"Raoultella_ornithinolytica.species.all\"                \n",
       " [52] \"Proteus_mirabilis.species.URINE\"                       \n",
       " [53] \"Proteus_mirabilis.species.BLOOD\"                       \n",
       " [54] \"Proteus_mirabilis.species.SPUTUM\"                      \n",
       " [55] \"Proteus_mirabilis.species.WOUND_SURGICAL\"              \n",
       " [56] \"Proteus_mirabilis.species.MSU\"                         \n",
       " [57] \"Proteus_mirabilis.species.all\"                         \n",
       " [58] \"Proteus_vulgaris.species.all\"                          \n",
       " [59] \"Morganella_morganii.species.URINE\"                     \n",
       " [60] \"Morganella_morganii.species.MSU\"                       \n",
       " [61] \"Morganella_morganii.species.all\"                       \n",
       " [62] \"Serratia_marcescens.species.SPUTUM\"                    \n",
       " [63] \"Serratia_marcescens.species.URINE\"                     \n",
       " [64] \"Serratia_marcescens.species.all\"                       \n",
       " [65] \"Serratia_liquefaciens.species.all\"                     \n",
       " [66] \"Pseudomonas_aeruginosa.species.SWAB___NOS\"             \n",
       " [67] \"Pseudomonas_aeruginosa.species.URINE\"                  \n",
       " [68] \"Pseudomonas_aeruginosa.species.SPUTUM\"                 \n",
       " [69] \"Pseudomonas_aeruginosa.species.OUTER_EAR\"              \n",
       " [70] \"Pseudomonas_aeruginosa.species.BLOOD\"                  \n",
       " [71] \"Pseudomonas_aeruginosa.species.CSU\"                    \n",
       " [72] \"Pseudomonas_aeruginosa.species.WOUND_SURGICAL\"         \n",
       " [73] \"Pseudomonas_aeruginosa.species.TISSUE\"                 \n",
       " [74] \"Pseudomonas_aeruginosa.species.WOUND_TRAUMATIC\"        \n",
       " [75] \"Pseudomonas_aeruginosa.species.MIDDLE_EAR\"             \n",
       " [76] \"Pseudomonas_aeruginosa.species.MSU\"                    \n",
       " [77] \"Pseudomonas_aeruginosa.species.SKIN_WOUND\"             \n",
       " [78] \"Pseudomonas_aeruginosa.species.URINARY_CATHETER\"       \n",
       " [79] \"Pseudomonas_aeruginosa.species.all\"                    \n",
       " [80] \"Pseudomonas_putida.species.all\"                        \n",
       " [81] \"Haemophilus_influenzae.species.SPUTUM\"                 \n",
       " [82] \"Haemophilus_influenzae.species.BRONCHIAL\"              \n",
       " [83] \"Haemophilus_influenzae.species.BAL\"                    \n",
       " [84] \"Haemophilus_influenzae.species.UPPER_RESPIRATORY_TRACT\"\n",
       " [85] \"Haemophilus_influenzae.species.all\"                    \n",
       " [86] \"Haemophilus_parainfluenzae.species.SPUTUM\"             \n",
       " [87] \"Haemophilus_parainfluenzae.species.all\"                \n",
       " [88] \"Moraxella_catarrhalis.species.SPUTUM\"                  \n",
       " [89] \"Moraxella_catarrhalis.species.all\"                     \n",
       " [90] \"Acinetobacter_baumannii.species.all\"                   \n",
       " [91] \"Stenotrophomonas_maltophilia.species.SPUTUM\"           \n",
       " [92] \"Stenotrophomonas_maltophilia.species.all\"              \n",
       " [93] \"Staphylococcus_aureus.species.SWAB___NOS\"              \n",
       " [94] \"Staphylococcus_aureus.species.NOSE\"                    \n",
       " [95] \"Staphylococcus_aureus.species.SKIN_WOUND\"              \n",
       " [96] \"Staphylococcus_aureus.species.OUTER_EAR\"               \n",
       " [97] \"Staphylococcus_aureus.species.SPUTUM\"                  \n",
       " [98] \"Staphylococcus_aureus.species.WOUND_SURGICAL\"          \n",
       " [99] \"Staphylococcus_aureus.species.NORMAL_SKIN\"             \n",
       "[100] \"Staphylococcus_aureus.species.BLOOD\"                   \n",
       "[101] \"Staphylococcus_aureus.species.TISSUE\"                  \n",
       "[102] \"Staphylococcus_aureus.species.HVS\"                     \n",
       "[103] \"Staphylococcus_aureus.species.WOUND_TRAUMATIC\"         \n",
       "[104] \"Staphylococcus_aureus.species.NASAL\"                   \n",
       "[105] \"Staphylococcus_aureus.species.PUS_SOURCE_UNKNOWN\"      \n",
       "[106] \"Staphylococcus_aureus.species.URINE\"                   \n",
       "[107] \"Staphylococcus_aureus.species.PENIS\"                   \n",
       "[108] \"Staphylococcus_aureus.species.EYE\"                     \n",
       "[109] \"Staphylococcus_aureus.species.BRONCHIAL\"               \n",
       "[110] \"Staphylococcus_aureus.species.ABSCESS\"                 \n",
       "[111] \"Staphylococcus_aureus.species.UNKNOWN\"                 \n",
       "[112] \"Staphylococcus_aureus.species.MIDDLE_EAR\"              \n",
       "[113] \"Staphylococcus_aureus.species.TOE\"                     \n",
       "[114] \"Staphylococcus_aureus.species.VAGINA\"                  \n",
       "[115] \"Staphylococcus_aureus.species.BAL\"                     \n",
       "[116] \"Staphylococcus_aureus.species.GROIN___NOS\"             \n",
       "[117] \"Staphylococcus_aureus.species.MSU\"                     \n",
       "[118] \"Staphylococcus_aureus.species.SKIN_ULCER\"              \n",
       "[119] \"Staphylococcus_aureus.species.PRESSURE_SORE\"           \n",
       "[120] \"Staphylococcus_aureus.species.UPPER_RESPIRATORY_TRACT\" \n",
       "[121] \"Staphylococcus_aureus.species.JOINT\"                   \n",
       "[122] \"Staphylococcus_aureus.species.FLUID___NOS\"             \n",
       "[123] \"Staphylococcus_aureus.species.LOWER_GENITAL_TRACT\"     \n",
       "[124] \"Staphylococcus_aureus.species.THROAT\"                  \n",
       "[125] \"Staphylococcus_aureus.species.PERINEUM\"                \n",
       "[126] \"Staphylococcus_aureus.species.SKIN_SCRAPING\"           \n",
       "[127] \"Staphylococcus_aureus.species.ULCER___NOS\"             \n",
       "[128] \"Staphylococcus_aureus.species.NOSE_THROAT_PERINEUM\"    \n",
       "[129] \"Staphylococcus_aureus.species.all\"                     \n",
       "[130] \"Enterococcus_faecalis.species.URINE\"                   \n",
       "[131] \"Enterococcus_faecalis.species.BLOOD\"                   \n",
       "[132] \"Enterococcus_faecalis.species.TISSUE\"                  \n",
       "[133] \"Enterococcus_faecalis.species.WOUND_SURGICAL\"          \n",
       "[134] \"Enterococcus_faecalis.species.MSU\"                     \n",
       "[135] \"Enterococcus_faecalis.species.FLUID___NOS\"             \n",
       "[136] \"Enterococcus_faecalis.species.CSU\"                     \n",
       "[137] \"Enterococcus_faecalis.species.all\"                     \n",
       "[138] \"Enterococcus_faecium.species.SWAB___NOS\"               \n",
       "[139] \"Enterococcus_faecium.species.BLOOD\"                    \n",
       "[140] \"Enterococcus_faecium.species.URINE\"                    \n",
       "[141] \"Enterococcus_faecium.species.FLUID___NOS\"              \n",
       "[142] \"Enterococcus_faecium.species.MSU\"                      \n",
       "[143] \"Enterococcus_faecium.species.all\"                      \n",
       "[144] \"Streptococcus_pneumoniae.species.SPUTUM\"               \n",
       "[145] \"Streptococcus_pneumoniae.species.BLOOD\"                \n",
       "[146] \"Streptococcus_pneumoniae.species.all\"                  \n",
       "[147] \"Streptococcus_intermedius.species.PUS_SOURCE_UNKNOWN\"  \n",
       "[148] \"Streptococcus_intermedius.species.BLOOD\"               \n",
       "[149] \"Streptococcus_intermedius.species.all\"                 \n",
       "[150] \"Streptococcus_milleri.species.all\"                     \n",
       "[151] \"Campylobacter_jejuni.species.FAECES\"                   \n",
       "[152] \"Campylobacter_jejuni.species.all\"                      \n",
       "[153] \"Bacteroides_fragilis.species.all\"                      \n",
       "[154] \"Corynebacterium_striatum.species.all\"                  \n",
       "[155] \"Cutibacterium_acnes.species.all\"                       \n",
       "[156] \"Micrococcus_luteus.species.all\"                        \n",
       "[157] \"Candida_albicans.species.SPUTUM\"                       \n",
       "[158] \"Candida_albicans.species.all\"                          \n",
       "[159] \"Candida_parapsilosis.species.all\"                      \n",
       "[160] \"Nakaseomyces_glabratus.species.all\"                    "
      ]
     },
     "metadata": {},
     "output_type": "display_data"
    }
   ],
   "source": [
    "pheno_rds_file <- paste0(gwas_wrkdir, \"/log.ukb41482.bd.gwasdata.05062023_sgss_species.rds\")\n",
    "pheno_rds <- readRDS(pheno_rds_file)\n",
    "\n",
    "names(pheno_rds$cases.count)"
   ]
  },
  {
   "cell_type": "code",
   "execution_count": 53,
   "metadata": {
    "vscode": {
     "languageId": "r"
    }
   },
   "outputs": [
    {
     "data": {
      "text/html": [
       "<style>\n",
       ".list-inline {list-style: none; margin:0; padding: 0}\n",
       ".list-inline>li {display: inline-block}\n",
       ".list-inline>li:not(:last-child)::after {content: \"\\00b7\"; padding: 0 .5ex}\n",
       "</style>\n",
       "<ol class=list-inline><li>141296</li><li>15</li></ol>\n"
      ],
      "text/latex": [
       "\\begin{enumerate*}\n",
       "\\item 141296\n",
       "\\item 15\n",
       "\\end{enumerate*}\n"
      ],
      "text/markdown": [
       "1. 141296\n",
       "2. 15\n",
       "\n",
       "\n"
      ],
      "text/plain": [
       "[1] 141296     15"
      ]
     },
     "metadata": {},
     "output_type": "display_data"
    }
   ],
   "source": [
    "test <- sgss[which(sgss$tax == \"Escherichia coli\"), ]\n",
    "dim(test)"
   ]
  },
  {
   "cell_type": "code",
   "execution_count": 49,
   "metadata": {
    "vscode": {
     "languageId": "r"
    }
   },
   "outputs": [
    {
     "data": {
      "text/html": [
       "<style>\n",
       ".list-inline {list-style: none; margin:0; padding: 0}\n",
       ".list-inline>li {display: inline-block}\n",
       ".list-inline>li:not(:last-child)::after {content: \"\\00b7\"; padding: 0 .5ex}\n",
       "</style>\n",
       "<ol class=list-inline><li>122</li><li>15</li></ol>\n"
      ],
      "text/latex": [
       "\\begin{enumerate*}\n",
       "\\item 122\n",
       "\\item 15\n",
       "\\end{enumerate*}\n"
      ],
      "text/markdown": [
       "1. 122\n",
       "2. 15\n",
       "\n",
       "\n"
      ],
      "text/plain": [
       "[1] 122  15"
      ]
     },
     "metadata": {},
     "output_type": "display_data"
    }
   ],
   "source": [
    "test <- sgss[which(sgss$tax == \"Pasteurella multocida\"), ]\n",
    "dim(test)"
   ]
  },
  {
   "cell_type": "code",
   "execution_count": 35,
   "metadata": {
    "vscode": {
     "languageId": "r"
    }
   },
   "outputs": [
    {
     "data": {
      "text/html": [
       "<style>\n",
       ".list-inline {list-style: none; margin:0; padding: 0}\n",
       ".list-inline>li {display: inline-block}\n",
       ".list-inline>li:not(:last-child)::after {content: \"\\00b7\"; padding: 0 .5ex}\n",
       "</style>\n",
       "<ol class=list-inline><li>'Escherichia coli'</li><li>'Staphylococcus aureus'</li><li>'Citrobacter koseri'</li><li>'Serratia marcescens'</li><li>'Citrobacter freundii'</li><li>'Klebsiella pneumoniae'</li><li>'Morganella morganii'</li><li>'Pseudomonas aeruginosa'</li><li>'Haemophilus influenzae'</li><li>'Proteus mirabilis'</li><li>'Enterococcus faecalis'</li><li>'Enterobacter cloacae'</li><li>'Bacteroides fragilis'</li><li>'Streptococcus intermedius'</li><li>'Cutibacterium acnes'</li><li>'Klebsiella oxytoca'</li><li>'Corynebacterium striatum'</li><li>'Acinetobacter baumannii'</li><li>'Stenotrophomonas maltophilia'</li><li>'Candida albicans'</li><li>'Moraxella catarrhalis'</li><li>'Aspergillus fumigatus'</li><li>'Enterococcus faecium'</li><li>'Nakaseomyces glabratus'</li><li>'Klebsiella variicola'</li><li>'Pseudomonas putida'</li><li>'Streptococcus pneumoniae'</li><li>'Streptococcus milleri'</li><li>'Klebsiella aerogenes'</li><li>'Campylobacter jejuni'</li><li>'Haemophilus parainfluenzae'</li><li>'Salmonella enterica'</li><li>'Proteus vulgaris'</li><li>'Candida parapsilosis'</li><li>'Micrococcus luteus'</li><li>'Raoultella ornithinolytica'</li><li>'Pasteurella multocida'</li><li>'Serratia liquefaciens'</li></ol>\n"
      ],
      "text/latex": [
       "\\begin{enumerate*}\n",
       "\\item 'Escherichia coli'\n",
       "\\item 'Staphylococcus aureus'\n",
       "\\item 'Citrobacter koseri'\n",
       "\\item 'Serratia marcescens'\n",
       "\\item 'Citrobacter freundii'\n",
       "\\item 'Klebsiella pneumoniae'\n",
       "\\item 'Morganella morganii'\n",
       "\\item 'Pseudomonas aeruginosa'\n",
       "\\item 'Haemophilus influenzae'\n",
       "\\item 'Proteus mirabilis'\n",
       "\\item 'Enterococcus faecalis'\n",
       "\\item 'Enterobacter cloacae'\n",
       "\\item 'Bacteroides fragilis'\n",
       "\\item 'Streptococcus intermedius'\n",
       "\\item 'Cutibacterium acnes'\n",
       "\\item 'Klebsiella oxytoca'\n",
       "\\item 'Corynebacterium striatum'\n",
       "\\item 'Acinetobacter baumannii'\n",
       "\\item 'Stenotrophomonas maltophilia'\n",
       "\\item 'Candida albicans'\n",
       "\\item 'Moraxella catarrhalis'\n",
       "\\item 'Aspergillus fumigatus'\n",
       "\\item 'Enterococcus faecium'\n",
       "\\item 'Nakaseomyces glabratus'\n",
       "\\item 'Klebsiella variicola'\n",
       "\\item 'Pseudomonas putida'\n",
       "\\item 'Streptococcus pneumoniae'\n",
       "\\item 'Streptococcus milleri'\n",
       "\\item 'Klebsiella aerogenes'\n",
       "\\item 'Campylobacter jejuni'\n",
       "\\item 'Haemophilus parainfluenzae'\n",
       "\\item 'Salmonella enterica'\n",
       "\\item 'Proteus vulgaris'\n",
       "\\item 'Candida parapsilosis'\n",
       "\\item 'Micrococcus luteus'\n",
       "\\item 'Raoultella ornithinolytica'\n",
       "\\item 'Pasteurella multocida'\n",
       "\\item 'Serratia liquefaciens'\n",
       "\\end{enumerate*}\n"
      ],
      "text/markdown": [
       "1. 'Escherichia coli'\n",
       "2. 'Staphylococcus aureus'\n",
       "3. 'Citrobacter koseri'\n",
       "4. 'Serratia marcescens'\n",
       "5. 'Citrobacter freundii'\n",
       "6. 'Klebsiella pneumoniae'\n",
       "7. 'Morganella morganii'\n",
       "8. 'Pseudomonas aeruginosa'\n",
       "9. 'Haemophilus influenzae'\n",
       "10. 'Proteus mirabilis'\n",
       "11. 'Enterococcus faecalis'\n",
       "12. 'Enterobacter cloacae'\n",
       "13. 'Bacteroides fragilis'\n",
       "14. 'Streptococcus intermedius'\n",
       "15. 'Cutibacterium acnes'\n",
       "16. 'Klebsiella oxytoca'\n",
       "17. 'Corynebacterium striatum'\n",
       "18. 'Acinetobacter baumannii'\n",
       "19. 'Stenotrophomonas maltophilia'\n",
       "20. 'Candida albicans'\n",
       "21. 'Moraxella catarrhalis'\n",
       "22. 'Aspergillus fumigatus'\n",
       "23. 'Enterococcus faecium'\n",
       "24. 'Nakaseomyces glabratus'\n",
       "25. 'Klebsiella variicola'\n",
       "26. 'Pseudomonas putida'\n",
       "27. 'Streptococcus pneumoniae'\n",
       "28. 'Streptococcus milleri'\n",
       "29. 'Klebsiella aerogenes'\n",
       "30. 'Campylobacter jejuni'\n",
       "31. 'Haemophilus parainfluenzae'\n",
       "32. 'Salmonella enterica'\n",
       "33. 'Proteus vulgaris'\n",
       "34. 'Candida parapsilosis'\n",
       "35. 'Micrococcus luteus'\n",
       "36. 'Raoultella ornithinolytica'\n",
       "37. 'Pasteurella multocida'\n",
       "38. 'Serratia liquefaciens'\n",
       "\n",
       "\n"
      ],
      "text/plain": [
       " [1] \"Escherichia coli\"             \"Staphylococcus aureus\"       \n",
       " [3] \"Citrobacter koseri\"           \"Serratia marcescens\"         \n",
       " [5] \"Citrobacter freundii\"         \"Klebsiella pneumoniae\"       \n",
       " [7] \"Morganella morganii\"          \"Pseudomonas aeruginosa\"      \n",
       " [9] \"Haemophilus influenzae\"       \"Proteus mirabilis\"           \n",
       "[11] \"Enterococcus faecalis\"        \"Enterobacter cloacae\"        \n",
       "[13] \"Bacteroides fragilis\"         \"Streptococcus intermedius\"   \n",
       "[15] \"Cutibacterium acnes\"          \"Klebsiella oxytoca\"          \n",
       "[17] \"Corynebacterium striatum\"     \"Acinetobacter baumannii\"     \n",
       "[19] \"Stenotrophomonas maltophilia\" \"Candida albicans\"            \n",
       "[21] \"Moraxella catarrhalis\"        \"Aspergillus fumigatus\"       \n",
       "[23] \"Enterococcus faecium\"         \"Nakaseomyces glabratus\"      \n",
       "[25] \"Klebsiella variicola\"         \"Pseudomonas putida\"          \n",
       "[27] \"Streptococcus pneumoniae\"     \"Streptococcus milleri\"       \n",
       "[29] \"Klebsiella aerogenes\"         \"Campylobacter jejuni\"        \n",
       "[31] \"Haemophilus parainfluenzae\"   \"Salmonella enterica\"         \n",
       "[33] \"Proteus vulgaris\"             \"Candida parapsilosis\"        \n",
       "[35] \"Micrococcus luteus\"           \"Raoultella ornithinolytica\"  \n",
       "[37] \"Pasteurella multocida\"        \"Serratia liquefaciens\"       "
      ]
     },
     "metadata": {},
     "output_type": "display_data"
    }
   ],
   "source": [
    "unique(sgss$tax[filter])"
   ]
  },
  {
   "cell_type": "code",
   "execution_count": 33,
   "metadata": {
    "vscode": {
     "languageId": "r"
    }
   },
   "outputs": [
    {
     "data": {
      "text/html": [
       "<style>\n",
       ".list-inline {list-style: none; margin:0; padding: 0}\n",
       ".list-inline>li {display: inline-block}\n",
       ".list-inline>li:not(:last-child)::after {content: \"\\00b7\"; padding: 0 .5ex}\n",
       "</style>\n",
       "<ol class=list-inline><li>'/well/bag/clme1992/saige_pipe_test/summary.05062023_sgss_species.Acinetobacter_baumannii.species.all.txt.gz'</li><li>'/well/bag/clme1992/saige_pipe_test/summary.05062023_sgss_species.Bacteroides_fragilis.species.all.txt.gz'</li><li>'/well/bag/clme1992/saige_pipe_test/summary.05062023_sgss_species.Campylobacter_jejuni.species.all.txt.gz'</li><li>'/well/bag/clme1992/saige_pipe_test/summary.05062023_sgss_species.Candida_albicans.species.all.txt.gz'</li><li>'/well/bag/clme1992/saige_pipe_test/summary.05062023_sgss_species.Candida_parapsilosis.species.all.txt.gz'</li><li>'/well/bag/clme1992/saige_pipe_test/summary.05062023_sgss_species.Citrobacter_freundii.species.all.txt.gz'</li><li>'/well/bag/clme1992/saige_pipe_test/summary.05062023_sgss_species.Citrobacter_koseri.species.all.txt.gz'</li><li>'/well/bag/clme1992/saige_pipe_test/summary.05062023_sgss_species.Corynebacterium_striatum.species.all.txt.gz'</li><li>'/well/bag/clme1992/saige_pipe_test/summary.05062023_sgss_species.Cutibacterium_acnes.species.all.txt.gz'</li><li>'/well/bag/clme1992/saige_pipe_test/summary.05062023_sgss_species.Enterobacter_cloacae.species.all.txt.gz'</li><li>'/well/bag/clme1992/saige_pipe_test/summary.05062023_sgss_species.Enterococcus_faecalis.species.all.txt.gz'</li><li>'/well/bag/clme1992/saige_pipe_test/summary.05062023_sgss_species.Enterococcus_faecium.species.all.txt.gz'</li><li>'/well/bag/clme1992/saige_pipe_test/summary.05062023_sgss_species.Escherichia_coli.species.all.txt.gz'</li><li>'/well/bag/clme1992/saige_pipe_test/summary.05062023_sgss_species.Haemophilus_influenzae.species.all.txt.gz'</li><li>'/well/bag/clme1992/saige_pipe_test/summary.05062023_sgss_species.Haemophilus_parainfluenzae.species.all.txt.gz'</li><li>'/well/bag/clme1992/saige_pipe_test/summary.05062023_sgss_species.Klebsiella_aerogenes.species.all.txt.gz'</li><li>'/well/bag/clme1992/saige_pipe_test/summary.05062023_sgss_species.Klebsiella_oxytoca.species.all.txt.gz'</li><li>'/well/bag/clme1992/saige_pipe_test/summary.05062023_sgss_species.Klebsiella_pneumoniae.species.all.txt.gz'</li><li>'/well/bag/clme1992/saige_pipe_test/summary.05062023_sgss_species.Klebsiella_variicola.species.all.txt.gz'</li><li>'/well/bag/clme1992/saige_pipe_test/summary.05062023_sgss_species.Micrococcus_luteus.species.all.txt.gz'</li><li>'/well/bag/clme1992/saige_pipe_test/summary.05062023_sgss_species.Moraxella_catarrhalis.species.all.txt.gz'</li><li>'/well/bag/clme1992/saige_pipe_test/summary.05062023_sgss_species.Morganella_morganii.species.all.txt.gz'</li><li>'/well/bag/clme1992/saige_pipe_test/summary.05062023_sgss_species.Nakaseomyces_glabratus.species.all.txt.gz'</li><li>'/well/bag/clme1992/saige_pipe_test/summary.05062023_sgss_species.Proteus_mirabilis.species.all.txt.gz'</li><li>'/well/bag/clme1992/saige_pipe_test/summary.05062023_sgss_species.Proteus_vulgaris.species.all.txt.gz'</li><li>'/well/bag/clme1992/saige_pipe_test/summary.05062023_sgss_species.Pseudomonas_aeruginosa.species.all.txt.gz'</li><li>'/well/bag/clme1992/saige_pipe_test/summary.05062023_sgss_species.Pseudomonas_putida.species.all.txt.gz'</li><li>'/well/bag/clme1992/saige_pipe_test/summary.05062023_sgss_species.Raoultella_ornithinolytica.species.all.txt.gz'</li><li>'/well/bag/clme1992/saige_pipe_test/summary.05062023_sgss_species.Salmonella_enterica.species.all.txt.gz'</li><li>'/well/bag/clme1992/saige_pipe_test/summary.05062023_sgss_species.Serratia_liquefaciens.species.all.txt.gz'</li><li>'/well/bag/clme1992/saige_pipe_test/summary.05062023_sgss_species.Serratia_marcescens.species.all.txt.gz'</li><li>'/well/bag/clme1992/saige_pipe_test/summary.05062023_sgss_species.Staphylococcus_aureus.species.all.txt.gz'</li><li>'/well/bag/clme1992/saige_pipe_test/summary.05062023_sgss_species.Stenotrophomonas_maltophilia.species.all.txt.gz'</li><li>'/well/bag/clme1992/saige_pipe_test/summary.05062023_sgss_species.Streptococcus_intermedius.species.all.txt.gz'</li><li>'/well/bag/clme1992/saige_pipe_test/summary.05062023_sgss_species.Streptococcus_milleri.species.all.txt.gz'</li><li>'/well/bag/clme1992/saige_pipe_test/summary.05062023_sgss_species.Streptococcus_pneumoniae.species.all.txt.gz'</li></ol>\n"
      ],
      "text/latex": [
       "\\begin{enumerate*}\n",
       "\\item '/well/bag/clme1992/saige\\_pipe\\_test/summary.05062023\\_sgss\\_species.Acinetobacter\\_baumannii.species.all.txt.gz'\n",
       "\\item '/well/bag/clme1992/saige\\_pipe\\_test/summary.05062023\\_sgss\\_species.Bacteroides\\_fragilis.species.all.txt.gz'\n",
       "\\item '/well/bag/clme1992/saige\\_pipe\\_test/summary.05062023\\_sgss\\_species.Campylobacter\\_jejuni.species.all.txt.gz'\n",
       "\\item '/well/bag/clme1992/saige\\_pipe\\_test/summary.05062023\\_sgss\\_species.Candida\\_albicans.species.all.txt.gz'\n",
       "\\item '/well/bag/clme1992/saige\\_pipe\\_test/summary.05062023\\_sgss\\_species.Candida\\_parapsilosis.species.all.txt.gz'\n",
       "\\item '/well/bag/clme1992/saige\\_pipe\\_test/summary.05062023\\_sgss\\_species.Citrobacter\\_freundii.species.all.txt.gz'\n",
       "\\item '/well/bag/clme1992/saige\\_pipe\\_test/summary.05062023\\_sgss\\_species.Citrobacter\\_koseri.species.all.txt.gz'\n",
       "\\item '/well/bag/clme1992/saige\\_pipe\\_test/summary.05062023\\_sgss\\_species.Corynebacterium\\_striatum.species.all.txt.gz'\n",
       "\\item '/well/bag/clme1992/saige\\_pipe\\_test/summary.05062023\\_sgss\\_species.Cutibacterium\\_acnes.species.all.txt.gz'\n",
       "\\item '/well/bag/clme1992/saige\\_pipe\\_test/summary.05062023\\_sgss\\_species.Enterobacter\\_cloacae.species.all.txt.gz'\n",
       "\\item '/well/bag/clme1992/saige\\_pipe\\_test/summary.05062023\\_sgss\\_species.Enterococcus\\_faecalis.species.all.txt.gz'\n",
       "\\item '/well/bag/clme1992/saige\\_pipe\\_test/summary.05062023\\_sgss\\_species.Enterococcus\\_faecium.species.all.txt.gz'\n",
       "\\item '/well/bag/clme1992/saige\\_pipe\\_test/summary.05062023\\_sgss\\_species.Escherichia\\_coli.species.all.txt.gz'\n",
       "\\item '/well/bag/clme1992/saige\\_pipe\\_test/summary.05062023\\_sgss\\_species.Haemophilus\\_influenzae.species.all.txt.gz'\n",
       "\\item '/well/bag/clme1992/saige\\_pipe\\_test/summary.05062023\\_sgss\\_species.Haemophilus\\_parainfluenzae.species.all.txt.gz'\n",
       "\\item '/well/bag/clme1992/saige\\_pipe\\_test/summary.05062023\\_sgss\\_species.Klebsiella\\_aerogenes.species.all.txt.gz'\n",
       "\\item '/well/bag/clme1992/saige\\_pipe\\_test/summary.05062023\\_sgss\\_species.Klebsiella\\_oxytoca.species.all.txt.gz'\n",
       "\\item '/well/bag/clme1992/saige\\_pipe\\_test/summary.05062023\\_sgss\\_species.Klebsiella\\_pneumoniae.species.all.txt.gz'\n",
       "\\item '/well/bag/clme1992/saige\\_pipe\\_test/summary.05062023\\_sgss\\_species.Klebsiella\\_variicola.species.all.txt.gz'\n",
       "\\item '/well/bag/clme1992/saige\\_pipe\\_test/summary.05062023\\_sgss\\_species.Micrococcus\\_luteus.species.all.txt.gz'\n",
       "\\item '/well/bag/clme1992/saige\\_pipe\\_test/summary.05062023\\_sgss\\_species.Moraxella\\_catarrhalis.species.all.txt.gz'\n",
       "\\item '/well/bag/clme1992/saige\\_pipe\\_test/summary.05062023\\_sgss\\_species.Morganella\\_morganii.species.all.txt.gz'\n",
       "\\item '/well/bag/clme1992/saige\\_pipe\\_test/summary.05062023\\_sgss\\_species.Nakaseomyces\\_glabratus.species.all.txt.gz'\n",
       "\\item '/well/bag/clme1992/saige\\_pipe\\_test/summary.05062023\\_sgss\\_species.Proteus\\_mirabilis.species.all.txt.gz'\n",
       "\\item '/well/bag/clme1992/saige\\_pipe\\_test/summary.05062023\\_sgss\\_species.Proteus\\_vulgaris.species.all.txt.gz'\n",
       "\\item '/well/bag/clme1992/saige\\_pipe\\_test/summary.05062023\\_sgss\\_species.Pseudomonas\\_aeruginosa.species.all.txt.gz'\n",
       "\\item '/well/bag/clme1992/saige\\_pipe\\_test/summary.05062023\\_sgss\\_species.Pseudomonas\\_putida.species.all.txt.gz'\n",
       "\\item '/well/bag/clme1992/saige\\_pipe\\_test/summary.05062023\\_sgss\\_species.Raoultella\\_ornithinolytica.species.all.txt.gz'\n",
       "\\item '/well/bag/clme1992/saige\\_pipe\\_test/summary.05062023\\_sgss\\_species.Salmonella\\_enterica.species.all.txt.gz'\n",
       "\\item '/well/bag/clme1992/saige\\_pipe\\_test/summary.05062023\\_sgss\\_species.Serratia\\_liquefaciens.species.all.txt.gz'\n",
       "\\item '/well/bag/clme1992/saige\\_pipe\\_test/summary.05062023\\_sgss\\_species.Serratia\\_marcescens.species.all.txt.gz'\n",
       "\\item '/well/bag/clme1992/saige\\_pipe\\_test/summary.05062023\\_sgss\\_species.Staphylococcus\\_aureus.species.all.txt.gz'\n",
       "\\item '/well/bag/clme1992/saige\\_pipe\\_test/summary.05062023\\_sgss\\_species.Stenotrophomonas\\_maltophilia.species.all.txt.gz'\n",
       "\\item '/well/bag/clme1992/saige\\_pipe\\_test/summary.05062023\\_sgss\\_species.Streptococcus\\_intermedius.species.all.txt.gz'\n",
       "\\item '/well/bag/clme1992/saige\\_pipe\\_test/summary.05062023\\_sgss\\_species.Streptococcus\\_milleri.species.all.txt.gz'\n",
       "\\item '/well/bag/clme1992/saige\\_pipe\\_test/summary.05062023\\_sgss\\_species.Streptococcus\\_pneumoniae.species.all.txt.gz'\n",
       "\\end{enumerate*}\n"
      ],
      "text/markdown": [
       "1. '/well/bag/clme1992/saige_pipe_test/summary.05062023_sgss_species.Acinetobacter_baumannii.species.all.txt.gz'\n",
       "2. '/well/bag/clme1992/saige_pipe_test/summary.05062023_sgss_species.Bacteroides_fragilis.species.all.txt.gz'\n",
       "3. '/well/bag/clme1992/saige_pipe_test/summary.05062023_sgss_species.Campylobacter_jejuni.species.all.txt.gz'\n",
       "4. '/well/bag/clme1992/saige_pipe_test/summary.05062023_sgss_species.Candida_albicans.species.all.txt.gz'\n",
       "5. '/well/bag/clme1992/saige_pipe_test/summary.05062023_sgss_species.Candida_parapsilosis.species.all.txt.gz'\n",
       "6. '/well/bag/clme1992/saige_pipe_test/summary.05062023_sgss_species.Citrobacter_freundii.species.all.txt.gz'\n",
       "7. '/well/bag/clme1992/saige_pipe_test/summary.05062023_sgss_species.Citrobacter_koseri.species.all.txt.gz'\n",
       "8. '/well/bag/clme1992/saige_pipe_test/summary.05062023_sgss_species.Corynebacterium_striatum.species.all.txt.gz'\n",
       "9. '/well/bag/clme1992/saige_pipe_test/summary.05062023_sgss_species.Cutibacterium_acnes.species.all.txt.gz'\n",
       "10. '/well/bag/clme1992/saige_pipe_test/summary.05062023_sgss_species.Enterobacter_cloacae.species.all.txt.gz'\n",
       "11. '/well/bag/clme1992/saige_pipe_test/summary.05062023_sgss_species.Enterococcus_faecalis.species.all.txt.gz'\n",
       "12. '/well/bag/clme1992/saige_pipe_test/summary.05062023_sgss_species.Enterococcus_faecium.species.all.txt.gz'\n",
       "13. '/well/bag/clme1992/saige_pipe_test/summary.05062023_sgss_species.Escherichia_coli.species.all.txt.gz'\n",
       "14. '/well/bag/clme1992/saige_pipe_test/summary.05062023_sgss_species.Haemophilus_influenzae.species.all.txt.gz'\n",
       "15. '/well/bag/clme1992/saige_pipe_test/summary.05062023_sgss_species.Haemophilus_parainfluenzae.species.all.txt.gz'\n",
       "16. '/well/bag/clme1992/saige_pipe_test/summary.05062023_sgss_species.Klebsiella_aerogenes.species.all.txt.gz'\n",
       "17. '/well/bag/clme1992/saige_pipe_test/summary.05062023_sgss_species.Klebsiella_oxytoca.species.all.txt.gz'\n",
       "18. '/well/bag/clme1992/saige_pipe_test/summary.05062023_sgss_species.Klebsiella_pneumoniae.species.all.txt.gz'\n",
       "19. '/well/bag/clme1992/saige_pipe_test/summary.05062023_sgss_species.Klebsiella_variicola.species.all.txt.gz'\n",
       "20. '/well/bag/clme1992/saige_pipe_test/summary.05062023_sgss_species.Micrococcus_luteus.species.all.txt.gz'\n",
       "21. '/well/bag/clme1992/saige_pipe_test/summary.05062023_sgss_species.Moraxella_catarrhalis.species.all.txt.gz'\n",
       "22. '/well/bag/clme1992/saige_pipe_test/summary.05062023_sgss_species.Morganella_morganii.species.all.txt.gz'\n",
       "23. '/well/bag/clme1992/saige_pipe_test/summary.05062023_sgss_species.Nakaseomyces_glabratus.species.all.txt.gz'\n",
       "24. '/well/bag/clme1992/saige_pipe_test/summary.05062023_sgss_species.Proteus_mirabilis.species.all.txt.gz'\n",
       "25. '/well/bag/clme1992/saige_pipe_test/summary.05062023_sgss_species.Proteus_vulgaris.species.all.txt.gz'\n",
       "26. '/well/bag/clme1992/saige_pipe_test/summary.05062023_sgss_species.Pseudomonas_aeruginosa.species.all.txt.gz'\n",
       "27. '/well/bag/clme1992/saige_pipe_test/summary.05062023_sgss_species.Pseudomonas_putida.species.all.txt.gz'\n",
       "28. '/well/bag/clme1992/saige_pipe_test/summary.05062023_sgss_species.Raoultella_ornithinolytica.species.all.txt.gz'\n",
       "29. '/well/bag/clme1992/saige_pipe_test/summary.05062023_sgss_species.Salmonella_enterica.species.all.txt.gz'\n",
       "30. '/well/bag/clme1992/saige_pipe_test/summary.05062023_sgss_species.Serratia_liquefaciens.species.all.txt.gz'\n",
       "31. '/well/bag/clme1992/saige_pipe_test/summary.05062023_sgss_species.Serratia_marcescens.species.all.txt.gz'\n",
       "32. '/well/bag/clme1992/saige_pipe_test/summary.05062023_sgss_species.Staphylococcus_aureus.species.all.txt.gz'\n",
       "33. '/well/bag/clme1992/saige_pipe_test/summary.05062023_sgss_species.Stenotrophomonas_maltophilia.species.all.txt.gz'\n",
       "34. '/well/bag/clme1992/saige_pipe_test/summary.05062023_sgss_species.Streptococcus_intermedius.species.all.txt.gz'\n",
       "35. '/well/bag/clme1992/saige_pipe_test/summary.05062023_sgss_species.Streptococcus_milleri.species.all.txt.gz'\n",
       "36. '/well/bag/clme1992/saige_pipe_test/summary.05062023_sgss_species.Streptococcus_pneumoniae.species.all.txt.gz'\n",
       "\n",
       "\n"
      ],
      "text/plain": [
       " [1] \"/well/bag/clme1992/saige_pipe_test/summary.05062023_sgss_species.Acinetobacter_baumannii.species.all.txt.gz\"     \n",
       " [2] \"/well/bag/clme1992/saige_pipe_test/summary.05062023_sgss_species.Bacteroides_fragilis.species.all.txt.gz\"        \n",
       " [3] \"/well/bag/clme1992/saige_pipe_test/summary.05062023_sgss_species.Campylobacter_jejuni.species.all.txt.gz\"        \n",
       " [4] \"/well/bag/clme1992/saige_pipe_test/summary.05062023_sgss_species.Candida_albicans.species.all.txt.gz\"            \n",
       " [5] \"/well/bag/clme1992/saige_pipe_test/summary.05062023_sgss_species.Candida_parapsilosis.species.all.txt.gz\"        \n",
       " [6] \"/well/bag/clme1992/saige_pipe_test/summary.05062023_sgss_species.Citrobacter_freundii.species.all.txt.gz\"        \n",
       " [7] \"/well/bag/clme1992/saige_pipe_test/summary.05062023_sgss_species.Citrobacter_koseri.species.all.txt.gz\"          \n",
       " [8] \"/well/bag/clme1992/saige_pipe_test/summary.05062023_sgss_species.Corynebacterium_striatum.species.all.txt.gz\"    \n",
       " [9] \"/well/bag/clme1992/saige_pipe_test/summary.05062023_sgss_species.Cutibacterium_acnes.species.all.txt.gz\"         \n",
       "[10] \"/well/bag/clme1992/saige_pipe_test/summary.05062023_sgss_species.Enterobacter_cloacae.species.all.txt.gz\"        \n",
       "[11] \"/well/bag/clme1992/saige_pipe_test/summary.05062023_sgss_species.Enterococcus_faecalis.species.all.txt.gz\"       \n",
       "[12] \"/well/bag/clme1992/saige_pipe_test/summary.05062023_sgss_species.Enterococcus_faecium.species.all.txt.gz\"        \n",
       "[13] \"/well/bag/clme1992/saige_pipe_test/summary.05062023_sgss_species.Escherichia_coli.species.all.txt.gz\"            \n",
       "[14] \"/well/bag/clme1992/saige_pipe_test/summary.05062023_sgss_species.Haemophilus_influenzae.species.all.txt.gz\"      \n",
       "[15] \"/well/bag/clme1992/saige_pipe_test/summary.05062023_sgss_species.Haemophilus_parainfluenzae.species.all.txt.gz\"  \n",
       "[16] \"/well/bag/clme1992/saige_pipe_test/summary.05062023_sgss_species.Klebsiella_aerogenes.species.all.txt.gz\"        \n",
       "[17] \"/well/bag/clme1992/saige_pipe_test/summary.05062023_sgss_species.Klebsiella_oxytoca.species.all.txt.gz\"          \n",
       "[18] \"/well/bag/clme1992/saige_pipe_test/summary.05062023_sgss_species.Klebsiella_pneumoniae.species.all.txt.gz\"       \n",
       "[19] \"/well/bag/clme1992/saige_pipe_test/summary.05062023_sgss_species.Klebsiella_variicola.species.all.txt.gz\"        \n",
       "[20] \"/well/bag/clme1992/saige_pipe_test/summary.05062023_sgss_species.Micrococcus_luteus.species.all.txt.gz\"          \n",
       "[21] \"/well/bag/clme1992/saige_pipe_test/summary.05062023_sgss_species.Moraxella_catarrhalis.species.all.txt.gz\"       \n",
       "[22] \"/well/bag/clme1992/saige_pipe_test/summary.05062023_sgss_species.Morganella_morganii.species.all.txt.gz\"         \n",
       "[23] \"/well/bag/clme1992/saige_pipe_test/summary.05062023_sgss_species.Nakaseomyces_glabratus.species.all.txt.gz\"      \n",
       "[24] \"/well/bag/clme1992/saige_pipe_test/summary.05062023_sgss_species.Proteus_mirabilis.species.all.txt.gz\"           \n",
       "[25] \"/well/bag/clme1992/saige_pipe_test/summary.05062023_sgss_species.Proteus_vulgaris.species.all.txt.gz\"            \n",
       "[26] \"/well/bag/clme1992/saige_pipe_test/summary.05062023_sgss_species.Pseudomonas_aeruginosa.species.all.txt.gz\"      \n",
       "[27] \"/well/bag/clme1992/saige_pipe_test/summary.05062023_sgss_species.Pseudomonas_putida.species.all.txt.gz\"          \n",
       "[28] \"/well/bag/clme1992/saige_pipe_test/summary.05062023_sgss_species.Raoultella_ornithinolytica.species.all.txt.gz\"  \n",
       "[29] \"/well/bag/clme1992/saige_pipe_test/summary.05062023_sgss_species.Salmonella_enterica.species.all.txt.gz\"         \n",
       "[30] \"/well/bag/clme1992/saige_pipe_test/summary.05062023_sgss_species.Serratia_liquefaciens.species.all.txt.gz\"       \n",
       "[31] \"/well/bag/clme1992/saige_pipe_test/summary.05062023_sgss_species.Serratia_marcescens.species.all.txt.gz\"         \n",
       "[32] \"/well/bag/clme1992/saige_pipe_test/summary.05062023_sgss_species.Staphylococcus_aureus.species.all.txt.gz\"       \n",
       "[33] \"/well/bag/clme1992/saige_pipe_test/summary.05062023_sgss_species.Stenotrophomonas_maltophilia.species.all.txt.gz\"\n",
       "[34] \"/well/bag/clme1992/saige_pipe_test/summary.05062023_sgss_species.Streptococcus_intermedius.species.all.txt.gz\"   \n",
       "[35] \"/well/bag/clme1992/saige_pipe_test/summary.05062023_sgss_species.Streptococcus_milleri.species.all.txt.gz\"       \n",
       "[36] \"/well/bag/clme1992/saige_pipe_test/summary.05062023_sgss_species.Streptococcus_pneumoniae.species.all.txt.gz\"    "
      ]
     },
     "metadata": {},
     "output_type": "display_data"
    }
   ],
   "source": [
    "gwas_files"
   ]
  },
  {
   "cell_type": "code",
   "execution_count": 19,
   "metadata": {
    "vscode": {
     "languageId": "r"
    }
   },
   "outputs": [
    {
     "name": "stdout",
     "output_type": "stream",
     "text": [
      "[1] \"Time taken to load HESIN: 17.3452785015106\"\n"
     ]
    }
   ],
   "source": [
    "# load HES\n",
    "start_time = Sys.time()\n",
    "hes_file = paste0(ukb_data_dir, \"hes/hes_diag.latest.txt.gz\")\n",
    "hes = read.table(hes_file, sep = \"\\t\", header = TRUE, stringsAsFactors = FALSE)\n",
    "end_time = Sys.time()\n",
    "print(paste0(\"Time taken to load hes: \", end_time - start_time))"
   ]
  },
  {
   "cell_type": "code",
   "execution_count": 12,
   "metadata": {
    "vscode": {
     "languageId": "r"
    }
   },
   "outputs": [],
   "source": [
    "# load icd10 data\n",
    "icd10_desc_file <- paste0(bugbank_data_dir, \"pathogen_to_unique_icd10.tsv\")\n",
    "icd10_desc <- read.table(icd10_desc_file, sep = \"\\t\", header = TRUE, stringsAsFactors = FALSE)"
   ]
  },
  {
   "cell_type": "code",
   "execution_count": 33,
   "metadata": {
    "vscode": {
     "languageId": "r"
    }
   },
   "outputs": [
    {
     "name": "stdout",
     "output_type": "stream",
     "text": [
      "[1] \"Number of infection related records: 188788\"\n",
      "[1] \"Number of unique individuals: 69900\"\n",
      "[1] \"Number of unique icd10 codes: 480\"\n",
      "[1] \"Number of unique pathogens: 155\"\n",
      "[1] \"Number of unique species level pathogens: 88\"\n"
     ]
    }
   ],
   "source": [
    "# subset hes to only infection related\n",
    "infect_icd10_codes <- unique(unlist(strsplit(icd10_desc$icd10, split = \",\")))\n",
    "hes_infect <- hes[hes$diag_icd10 %in% infect_icd10_codes, ]\n",
    "\n",
    "# number of records\n",
    "print(paste0(\"Number of infection related records: \", nrow(hes_infect)))\n",
    "\n",
    "# number of unique individuals\n",
    "print(paste0(\"Number of unique individuals: \", length(unique(hes_infect$eid))))\n",
    "\n",
    "# number of unique icd10 codes\n",
    "print(paste0(\"Number of unique icd10 codes: \", length(unique(hes_infect$diag_icd10))))\n",
    "\n",
    "# number of species level pathogens\n",
    "# create a dictionary of ICD-10 to pathogen mapping\n",
    "icd_to_pathogen = list()\n",
    "for (i in 1:nrow(icd10_desc)) {\n",
    "  cur_icd10s = unlist(strsplit(icd10_desc$icd10[i], \",\"))\n",
    "  for (icd10 in cur_icd10s) {\n",
    "    icd_to_pathogen[[icd10]] = c(icd10_desc$org_name[i], icd10_desc$tax_lev[i])\n",
    "  }\n",
    "}\n",
    "# map hes icd10 codes to pathogen\n",
    "hes_infect$org_name = map_chr(hes_infect$diag_icd10, function(x) icd_to_pathogen[[x]][1])\n",
    "print(paste0(\"Number of unique pathogens: \", length(unique(hes_infect$org_name))))\n",
    "\n",
    "# number of species level pathogen\n",
    "hes_infect$tax_lev = map_chr(hes_infect$diag_icd10, function(x) icd_to_pathogen[[x]][2])\n",
    "hes_infect_species = hes_infect[hes_infect$tax_lev == \"species\", ]\n",
    "print(x = paste0(\"Number of unique species level pathogens: \", length(unique(hes_infect_species$org_name))))\n"
   ]
  },
  {
   "cell_type": "code",
   "execution_count": 32,
   "metadata": {
    "vscode": {
     "languageId": "r"
    }
   },
   "outputs": [
    {
     "data": {
      "text/html": [
       "<table class=\"dataframe\">\n",
       "<caption>A data.frame: 6 x 10</caption>\n",
       "<thead>\n",
       "\t<tr><th></th><th scope=col>eid</th><th scope=col>ins_index</th><th scope=col>arr_index</th><th scope=col>level</th><th scope=col>diag_icd9</th><th scope=col>diag_icd9_nb</th><th scope=col>diag_icd10</th><th scope=col>diag_icd10_nb</th><th scope=col>org_name</th><th scope=col>tax_lev</th></tr>\n",
       "\t<tr><th></th><th scope=col>&lt;int&gt;</th><th scope=col>&lt;int&gt;</th><th scope=col>&lt;int&gt;</th><th scope=col>&lt;int&gt;</th><th scope=col>&lt;chr&gt;</th><th scope=col>&lt;lgl&gt;</th><th scope=col>&lt;chr&gt;</th><th scope=col>&lt;int&gt;</th><th scope=col>&lt;chr&gt;</th><th scope=col>&lt;chr&gt;</th></tr>\n",
       "</thead>\n",
       "<tbody>\n",
       "\t<tr><th scope=row>2750</th><td>1000906</td><td> 6</td><td>5</td><td>2</td><td></td><td>NA</td><td>B962</td><td>NA</td><td>Escherichia coli     </td><td>species</td></tr>\n",
       "\t<tr><th scope=row>4438</th><td>1001488</td><td>10</td><td>1</td><td>2</td><td></td><td>NA</td><td>B961</td><td>NA</td><td>Klebsiella pneumoniae</td><td>species</td></tr>\n",
       "\t<tr><th scope=row>4455</th><td>1001488</td><td>11</td><td>1</td><td>2</td><td></td><td>NA</td><td>B961</td><td>NA</td><td>Klebsiella pneumoniae</td><td>species</td></tr>\n",
       "\t<tr><th scope=row>4702</th><td>1001603</td><td> 2</td><td>2</td><td>2</td><td></td><td>NA</td><td>B962</td><td>NA</td><td>Escherichia coli     </td><td>species</td></tr>\n",
       "\t<tr><th scope=row>5375</th><td>1001970</td><td> 8</td><td>4</td><td>2</td><td></td><td>NA</td><td>B962</td><td>NA</td><td>Escherichia coli     </td><td>species</td></tr>\n",
       "\t<tr><th scope=row>5712</th><td>1002128</td><td> 7</td><td>3</td><td>2</td><td></td><td>NA</td><td>B171</td><td>NA</td><td>Hepacivirus C        </td><td>species</td></tr>\n",
       "</tbody>\n",
       "</table>\n"
      ],
      "text/latex": [
       "A data.frame: 6 x 10\n",
       "\\begin{tabular}{r|llllllllll}\n",
       "  & eid & ins\\_index & arr\\_index & level & diag\\_icd9 & diag\\_icd9\\_nb & diag\\_icd10 & diag\\_icd10\\_nb & org\\_name & tax\\_lev\\\\\n",
       "  & <int> & <int> & <int> & <int> & <chr> & <lgl> & <chr> & <int> & <chr> & <chr>\\\\\n",
       "\\hline\n",
       "\t2750 & 1000906 &  6 & 5 & 2 &  & NA & B962 & NA & Escherichia coli      & species\\\\\n",
       "\t4438 & 1001488 & 10 & 1 & 2 &  & NA & B961 & NA & Klebsiella pneumoniae & species\\\\\n",
       "\t4455 & 1001488 & 11 & 1 & 2 &  & NA & B961 & NA & Klebsiella pneumoniae & species\\\\\n",
       "\t4702 & 1001603 &  2 & 2 & 2 &  & NA & B962 & NA & Escherichia coli      & species\\\\\n",
       "\t5375 & 1001970 &  8 & 4 & 2 &  & NA & B962 & NA & Escherichia coli      & species\\\\\n",
       "\t5712 & 1002128 &  7 & 3 & 2 &  & NA & B171 & NA & Hepacivirus C         & species\\\\\n",
       "\\end{tabular}\n"
      ],
      "text/markdown": [
       "\n",
       "A data.frame: 6 x 10\n",
       "\n",
       "| <!--/--> | eid &lt;int&gt; | ins_index &lt;int&gt; | arr_index &lt;int&gt; | level &lt;int&gt; | diag_icd9 &lt;chr&gt; | diag_icd9_nb &lt;lgl&gt; | diag_icd10 &lt;chr&gt; | diag_icd10_nb &lt;int&gt; | org_name &lt;chr&gt; | tax_lev &lt;chr&gt; |\n",
       "|---|---|---|---|---|---|---|---|---|---|---|\n",
       "| 2750 | 1000906 |  6 | 5 | 2 | <!----> | NA | B962 | NA | Escherichia coli      | species |\n",
       "| 4438 | 1001488 | 10 | 1 | 2 | <!----> | NA | B961 | NA | Klebsiella pneumoniae | species |\n",
       "| 4455 | 1001488 | 11 | 1 | 2 | <!----> | NA | B961 | NA | Klebsiella pneumoniae | species |\n",
       "| 4702 | 1001603 |  2 | 2 | 2 | <!----> | NA | B962 | NA | Escherichia coli      | species |\n",
       "| 5375 | 1001970 |  8 | 4 | 2 | <!----> | NA | B962 | NA | Escherichia coli      | species |\n",
       "| 5712 | 1002128 |  7 | 3 | 2 | <!----> | NA | B171 | NA | Hepacivirus C         | species |\n",
       "\n"
      ],
      "text/plain": [
       "     eid     ins_index arr_index level diag_icd9 diag_icd9_nb diag_icd10\n",
       "2750 1000906  6        5         2               NA           B962      \n",
       "4438 1001488 10        1         2               NA           B961      \n",
       "4455 1001488 11        1         2               NA           B961      \n",
       "4702 1001603  2        2         2               NA           B962      \n",
       "5375 1001970  8        4         2               NA           B962      \n",
       "5712 1002128  7        3         2               NA           B171      \n",
       "     diag_icd10_nb org_name              tax_lev\n",
       "2750 NA            Escherichia coli      species\n",
       "4438 NA            Klebsiella pneumoniae species\n",
       "4455 NA            Klebsiella pneumoniae species\n",
       "4702 NA            Escherichia coli      species\n",
       "5375 NA            Escherichia coli      species\n",
       "5712 NA            Hepacivirus C         species"
      ]
     },
     "metadata": {},
     "output_type": "display_data"
    }
   ],
   "source": [
    "head(hes_infect_species)"
   ]
  },
  {
   "cell_type": "code",
   "execution_count": null,
   "metadata": {
    "vscode": {
     "languageId": "r"
    }
   },
   "outputs": [],
   "source": []
  }
 ],
 "metadata": {
  "kernelspec": {
   "display_name": "R",
   "language": "R",
   "name": "ir"
  },
  "language_info": {
   "codemirror_mode": "r",
   "file_extension": ".r",
   "mimetype": "text/x-r-source",
   "name": "R",
   "pygments_lexer": "r",
   "version": "4.3.2"
  }
 },
 "nbformat": 4,
 "nbformat_minor": 2
}
