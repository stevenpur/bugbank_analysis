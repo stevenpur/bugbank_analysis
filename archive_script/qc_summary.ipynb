{
 "cells": [
  {
   "cell_type": "code",
   "execution_count": 1,
   "metadata": {
    "vscode": {
     "languageId": "r"
    }
   },
   "outputs": [],
   "source": [
    "# save working image\n",
    "save.image(file = \"summary_table_image.RData\")\n",
    "# load working image\n",
    "# load(\"summary_table_image.RData\")"
   ]
  },
  {
   "cell_type": "code",
   "execution_count": 2,
   "metadata": {
    "vscode": {
     "languageId": "r"
    }
   },
   "outputs": [
    {
     "name": "stderr",
     "output_type": "stream",
     "text": [
      "-- \u001b[1mAttaching core tidyverse packages\u001b[22m ------------------------ tidyverse 2.0.0 --\n",
      "\u001b[32mv\u001b[39m \u001b[34mdplyr    \u001b[39m 1.1.3     \u001b[32mv\u001b[39m \u001b[34mreadr    \u001b[39m 2.1.4\n",
      "\u001b[32mv\u001b[39m \u001b[34mforcats  \u001b[39m 1.0.0     \u001b[32mv\u001b[39m \u001b[34mstringr  \u001b[39m 1.5.0\n",
      "\u001b[32mv\u001b[39m \u001b[34mggplot2  \u001b[39m 3.4.4     \u001b[32mv\u001b[39m \u001b[34mtibble   \u001b[39m 3.2.1\n",
      "\u001b[32mv\u001b[39m \u001b[34mlubridate\u001b[39m 1.9.3     \u001b[32mv\u001b[39m \u001b[34mtidyr    \u001b[39m 1.3.0\n",
      "\u001b[32mv\u001b[39m \u001b[34mpurrr    \u001b[39m 1.0.2     \n",
      "-- \u001b[1mConflicts\u001b[22m ------------------------------------------ tidyverse_conflicts() --\n",
      "\u001b[31mx\u001b[39m \u001b[34mdplyr\u001b[39m::\u001b[32mfilter()\u001b[39m masks \u001b[34mstats\u001b[39m::filter()\n",
      "\u001b[31mx\u001b[39m \u001b[34mdplyr\u001b[39m::\u001b[32mlag()\u001b[39m    masks \u001b[34mstats\u001b[39m::lag()\n",
      "\u001b[36mi\u001b[39m Use the conflicted package (\u001b[3m\u001b[34m<http://conflicted.r-lib.org/>\u001b[39m\u001b[23m) to force all conflicts to become errors\n"
     ]
    }
   ],
   "source": [
    "library(tidyverse)\n",
    "bugbank_data_dir = \"/well/bag/clme1992/bugbank_data/\"\n",
    "ukb_data_dir = \"/well/bag/wilson/ukb/\"\n",
    "gwas_wrkdir = \"/well/bag/clme1992/saige_pipe_test\"\n"
   ]
  },
  {
   "cell_type": "markdown",
   "metadata": {},
   "source": [
    "### UKB Data wrangling"
   ]
  },
  {
   "cell_type": "code",
   "execution_count": 3,
   "metadata": {
    "vscode": {
     "languageId": "r"
    }
   },
   "outputs": [
    {
     "data": {
      "text/plain": [
       "   user  system elapsed \n",
       " 16.703   1.869  18.621 "
      ]
     },
     "metadata": {},
     "output_type": "display_data"
    }
   ],
   "source": [
    "# At each step of QC, track the change in the infection cases\n",
    "\n",
    "resolve.symlink <- function(x) {\n",
    "    y <- Sys.readlink(x)\n",
    "    if (any(is.na(y))) {\n",
    "        stop(\"Could not resolve symlink \", x)\n",
    "    }\n",
    "    ifelse(y == \"\", x, file.path(dirname(x), y))\n",
    "}\n",
    "\n",
    "# configuration file\n",
    "source(\"~/.saige_pipe.config\")\n",
    "\n",
    "lg <- list()\n",
    "lg$bd_RDdata_file <- paste0(config$ukb.derived.dir, \"/ukb41482.ukb41376.fields.RData\")\n",
    "lg$bd_not_lost2followup_file <- paste0(config$ukb.derived.dir, \"/ukb41482.English-not-lost-to-followup-8-April-2020.txt\")\n",
    "lg$bed_sample_qc_file <- paste0(config$ukbdir, \"/v2/qc/ukb_sqc_v2.txt\")\n",
    "lg$withdrawn_eid_file <- paste0(config$bbdatadir, \"/w53100_2023-04-25.csv\")\n",
    "# Pre-computed eids for the bed-format genotypes\n",
    "lg$bed_eid_file <- paste0(config$ukb.derived.dir, \"/analysis.bed.eids.txt\")\n",
    "# Individuals with first degree relatives\n",
    "lg$remrels_file <- paste0(config$ukb.derived.dir, \"/ukb41482.English-remove-first-degree-relatives.eids.txt\")\n",
    "# panUKB ancestral files\n",
    "lg$pan_ukb_file <- paste0(config$panukb.dir, \"/Files for retman/all_pops_non_eur_pruned_within_pop_pc_covs.tsv\")\n",
    "lg$pan_ukb_bridge_file <- paste0(config$panukb.dir, \"/ukb53100bridge31063.txt\")\n",
    "\n",
    "### load input files ###\n",
    "system.time(load(lg$bd_RDdata_file))\n",
    "all_eids <- bd[, \"f.eid\"]\n",
    "bd_not_lost2followup <- scan(lg$bd_not_lost2followup_file, what = \"logical\") == \"TRUE\"\n",
    "withdrawn_eid <- scan(lg$withdrawn_eid_file)\n",
    "# Sample QC\n",
    "bed_sample_qc <- read.csv(lg$bed_sample_qc_file, sep = \" \")\n",
    "# The corresponding eids\n",
    "bed_eid <- scan(lg$bed_eid_file)\n",
    "# Convert to bd_eid order\n",
    "sample_qc <- bed_sample_qc[match(all_eids, bed_eid), ]\n",
    "# Close (first degree) relatives\n",
    "remrels <- scan(lg$remrels_file)\n",
    "# load and match the panukb data\n",
    "panukb <- read.csv(lg$pan_ukb_file, sep = \"\\t\")[, c(\"s\", \"pop\")]\n",
    "panukb_bridge <- read.csv(lg$pan_ukb_bridge_file, sep = \" \", header = F)\n",
    "bridge_matched <- panukb_bridge[match(panukb$s, panukb_bridge[, 2]), ]\n",
    "panukb$eid <- bridge_matched[, 1]\n",
    "panukb_matched <- panukb[match(all_eids, panukb$eid), ]\n",
    "\n",
    "### assign assessment centre data ###\n",
    "f_assesscentre <- \"f.54.0.0\"\n",
    "assess_centre_England <- c(\n",
    "    11012, 11021, 11011, 11008, 11024, 11020, 11018, 11010, 11016, \n",
    "    11001, 11017, 11009, 11013, 11002, 11007, 11014, 10003, 11006, \n",
    "    11025, 11026, 11027, 11028 \n",
    ")"
   ]
  },
  {
   "cell_type": "markdown",
   "metadata": {},
   "source": [
    "### SGSS and HES data wrangling"
   ]
  },
  {
   "cell_type": "code",
   "execution_count": 5,
   "metadata": {
    "vscode": {
     "languageId": "r"
    }
   },
   "outputs": [
    {
     "name": "stdout",
     "output_type": "stream",
     "text": [
      "[1] \"Time taken to load hes: 19.7981142997742\"\n"
     ]
    }
   ],
   "source": [
    "# load SGSS\n",
    "sgss_file = paste0(bugbank_data_dir, \"ukb_sgss_extract_refined.csv\")\n",
    "sgss = read.csv(sgss_file, sep = \"\\t\", header = TRUE, stringsAsFactors = FALSE)\n",
    "\n",
    "# load HES\n",
    "start_time = Sys.time()\n",
    "hes_file = paste0(ukb_data_dir, \"hes/hesin_diag.latest.txt.gz\")\n",
    "hes = read.table(hes_file, sep = \"\\t\", header = TRUE, stringsAsFactors = FALSE)\n",
    "end_time = Sys.time()\n",
    "print(paste0(\"Time taken to load hes: \", end_time - start_time))\n",
    "\n",
    "# get hes infect related records\n",
    "# load icd10 data \n",
    "icd10_desc_file <- paste0(bugbank_data_dir, \"pathogen_to_unique_icd10.tsv\")\n",
    "icd10_desc <- read.table(icd10_desc_file, sep = \"\\t\", header = TRUE, stringsAsFactors = FALSE)\n",
    "\n",
    "# subset hes to only infection related\n",
    "infect_icd10_codes <- unique(unlist(strsplit(icd10_desc$icd10, split = \",\")))\n",
    "hes_infect <- hes[hes$diag_icd10 %in% infect_icd10_codes, ]\n"
   ]
  },
  {
   "cell_type": "markdown",
   "metadata": {
    "vscode": {
     "languageId": "r"
    }
   },
   "source": [
    "### UKB filtering"
   ]
  },
  {
   "cell_type": "code",
   "execution_count": 7,
   "metadata": {
    "vscode": {
     "languageId": "r"
    }
   },
   "outputs": [],
   "source": [
    "filter_lst <- list()\n",
    "filter <- rep(T, nrow(bd))\n",
    "filter_lst[[1]] <- filter\n",
    "names(filter_lst)[1] <- \"all\"\n",
    "\n",
    "filter <- filter & (bd[, f_assesscentre] %in% assess_centre_England)\n",
    "filter_lst[[2]] <- filter\n",
    "names(filter_lst)[2] <- \"in assessment centre England\"\n",
    "\n",
    "filter <- filter & bd_not_lost2followup\n",
    "filter <- filter & !(all_eids %in% withdrawn_eid)\n",
    "filter_lst[[3]] <- filter\n",
    "names(filter_lst)[3] <- \"not lost to followup\"\n",
    "\n",
    "filter <- filter & sample_qc$putative.sex.chromosome.aneuploidy == 0\n",
    "filter_lst[[4]] <- filter\n",
    "names(filter_lst)[4] <- \"no aneuploidy in sex chromosome\"\n",
    "\n",
    "filter <- filter & sample_qc$Submitted.Gender == sample_qc$Inferred.Gender\n",
    "filter_lst[[5]] <- filter\n",
    "names(filter_lst)[5] <- \"reported sex matches genetic sex\"\n",
    "\n",
    "filter <- filter & sample_qc$het.missing.outliers == 0\n",
    "filter_lst[[6]] <- filter\n",
    "names(filter_lst)[6] <- \"no het missing outliers\"\n",
    "\n",
    "filter <- filter & sample_qc$excluded.from.kinship.inference == 0\n",
    "filter_lst[[7]] <- filter\n",
    "names(filter_lst)[7] <- \"not excluded from kinship inference\"\n",
    "\n",
    "filter <- filter & sample_qc$excess.relatives == 0 & is.na(match(all_eids, remrels))\n",
    "filter_lst[[8]] <- filter\n",
    "names(filter_lst)[8] <- \"no excess nor 1st degree relatives\"\n",
    "\n",
    "filter <- filter & sample_qc$in.Phasing.Input.chr1_22 == 1 & \n",
    "    sample_qc$in.Phasing.Input.chrX == 1 &\n",
    "    sample_qc$in.Phasing.Input.chrXY == 1\n",
    "filter_lst[[9]] <- filter\n",
    "names(filter_lst)[9] <- \"in phasing input\"\n",
    "\n",
    "#filter <- filter & all_eids %in% panukb_matched$eid[which(panukb_matched$pop == \"EUR\")]\n",
    "#filter_lst[[9]] <- filter\n",
    "#names(filter_lst)[9] <- \"in panukb EUR\"\n",
    "\n"
   ]
  },
  {
   "cell_type": "code",
   "execution_count": 8,
   "metadata": {
    "vscode": {
     "languageId": "r"
    }
   },
   "outputs": [
    {
     "data": {
      "text/html": [
       "<table class=\"dataframe\">\n",
       "<caption>A matrix: 9 x 3 of type int</caption>\n",
       "<tbody>\n",
       "\t<tr><th scope=row>all</th><td>502505</td><td>114736</td><td>69900</td></tr>\n",
       "\t<tr><th scope=row>in assessment centre England</th><td>445855</td><td>114292</td><td>63657</td></tr>\n",
       "\t<tr><th scope=row>not lost to followup</th><td>426755</td><td>108226</td><td>56142</td></tr>\n",
       "\t<tr><th scope=row>no aneuploidy in sex chromosome</th><td>414120</td><td>104782</td><td>54100</td></tr>\n",
       "\t<tr><th scope=row>reported sex matches genetic sex</th><td>413956</td><td>104733</td><td>54067</td></tr>\n",
       "\t<tr><th scope=row>no het missing outliers</th><td>413122</td><td>104500</td><td>53948</td></tr>\n",
       "\t<tr><th scope=row>not excluded from kinship inference</th><td>413114</td><td>104498</td><td>53948</td></tr>\n",
       "\t<tr><th scope=row>no excess nor 1st degree relatives</th><td>390899</td><td> 98586</td><td>50918</td></tr>\n",
       "\t<tr><th scope=row>in phasing input</th><td>390738</td><td> 98537</td><td>50888</td></tr>\n",
       "</tbody>\n",
       "</table>\n"
      ],
      "text/latex": [
       "A matrix: 9 x 3 of type int\n",
       "\\begin{tabular}{r|lll}\n",
       "\tall & 502505 & 114736 & 69900\\\\\n",
       "\tin assessment centre England & 445855 & 114292 & 63657\\\\\n",
       "\tnot lost to followup & 426755 & 108226 & 56142\\\\\n",
       "\tno aneuploidy in sex chromosome & 414120 & 104782 & 54100\\\\\n",
       "\treported sex matches genetic sex & 413956 & 104733 & 54067\\\\\n",
       "\tno het missing outliers & 413122 & 104500 & 53948\\\\\n",
       "\tnot excluded from kinship inference & 413114 & 104498 & 53948\\\\\n",
       "\tno excess nor 1st degree relatives & 390899 &  98586 & 50918\\\\\n",
       "\tin phasing input & 390738 &  98537 & 50888\\\\\n",
       "\\end{tabular}\n"
      ],
      "text/markdown": [
       "\n",
       "A matrix: 9 x 3 of type int\n",
       "\n",
       "| all | 502505 | 114736 | 69900 |\n",
       "| in assessment centre England | 445855 | 114292 | 63657 |\n",
       "| not lost to followup | 426755 | 108226 | 56142 |\n",
       "| no aneuploidy in sex chromosome | 414120 | 104782 | 54100 |\n",
       "| reported sex matches genetic sex | 413956 | 104733 | 54067 |\n",
       "| no het missing outliers | 413122 | 104500 | 53948 |\n",
       "| not excluded from kinship inference | 413114 | 104498 | 53948 |\n",
       "| no excess nor 1st degree relatives | 390899 |  98586 | 50918 |\n",
       "| in phasing input | 390738 |  98537 | 50888 |\n",
       "\n"
      ],
      "text/plain": [
       "                                    [,1]   [,2]   [,3] \n",
       "all                                 502505 114736 69900\n",
       "in assessment centre England        445855 114292 63657\n",
       "not lost to followup                426755 108226 56142\n",
       "no aneuploidy in sex chromosome     414120 104782 54100\n",
       "reported sex matches genetic sex    413956 104733 54067\n",
       "no het missing outliers             413122 104500 53948\n",
       "not excluded from kinship inference 413114 104498 53948\n",
       "no excess nor 1st degree relatives  390899  98586 50918\n",
       "in phasing input                    390738  98537 50888"
      ]
     },
     "metadata": {},
     "output_type": "display_data"
    }
   ],
   "source": [
    "sgss_filter <- sgss\n",
    "hes_filter <- hes_infect\n",
    "ukb_filter <- list()\n",
    "for (i in 1:length(filter_lst)) {\n",
    "    filter <- filter_lst[[i]]\n",
    "    eids_filtered <- unique(all_eids[filter])\n",
    "    eids_filtered <- eids_filtered[!is.na(eids_filtered)]\n",
    "    sgss_filter <- sgss_filter[sgss_filter$UKB_EID %in% eids_filtered, ]\n",
    "    hes_filter <- hes_filter[hes_filter$eid %in% eids_filtered, ]\n",
    "    sgss_cnt <- length(unique(sgss_filter$UKB_EID))\n",
    "    hes_cnt <- length(unique(hes_filter$eid))\n",
    "    ukb_filter[[i]] <- c(length(eids_filtered), sgss_cnt, hes_cnt)\n",
    "}\n",
    "ukb_filter <- do.call(rbind, ukb_filter)\n",
    "rownames(ukb_filter) <- names(filter_lst)\n",
    "\n",
    "ukb_filter"
   ]
  },
  {
   "cell_type": "markdown",
   "metadata": {},
   "source": [
    "### Pathogen filtering - SGSS"
   ]
  },
  {
   "cell_type": "code",
   "execution_count": 9,
   "metadata": {
    "vscode": {
     "languageId": "r"
    }
   },
   "outputs": [
    {
     "data": {
      "text/html": [
       "0"
      ],
      "text/latex": [
       "0"
      ],
      "text/markdown": [
       "0"
      ],
      "text/plain": [
       "[1] 0"
      ]
     },
     "metadata": {},
     "output_type": "display_data"
    },
    {
     "data": {
      "text/html": [
       "0"
      ],
      "text/latex": [
       "0"
      ],
      "text/markdown": [
       "0"
      ],
      "text/plain": [
       "[1] 0"
      ]
     },
     "metadata": {},
     "output_type": "display_data"
    }
   ],
   "source": [
    "# for SGSS\n",
    "sgss_tax_file <- paste0(bugbank_data_dir, \"bb_pathogen_taxonomy_13032023.tsv\")\n",
    "sgss_tax <- read.table(sgss_tax_file, sep = \"\\t\", header = TRUE, stringsAsFactors = FALSE)\n",
    "\n",
    "# ------------------------------------------------------------\n",
    "# create a dictionary from origin_name to most specific taxa\n",
    "# ------------------------------------------------------------\n",
    "\n",
    "# sanity check: no NA nor duplicated origin_name\n",
    "sum(is.na(sgss_tax$origin_name))\n",
    "sum(duplicated(sgss_tax$origin_name))\n",
    "origin_name_to_tax <- list()\n",
    "\n",
    "# for each origin_name, find the most specific tax\n",
    "\n",
    "# get the tax levels\n",
    "tax_levs <- colnames(sgss_tax)[-ncol(sgss_tax)]\n",
    "# remove the last column (which is the origin_name) for later use\n",
    "sgss_tax_only <- sgss_tax[, -ncol(sgss_tax)]\n",
    "\n",
    "for (i in 1:nrow(sgss_tax)) {\n",
    "    origin_name <- sgss_tax$origin_name[i]\n",
    "    # remove any NA and the last column (which is the origin_name)\n",
    "    tax <- sgss_tax_only[i, ]\n",
    "    tax_lev <- tax_levs[!is.na(tax)]\n",
    "    tax <- tax[!is.na(tax)]\n",
    "    specific_tax <- tail(tax, 1)\n",
    "    specific_tax_lev <- tail(tax_lev, 1)\n",
    "    origin_name_to_tax[[origin_name]] <- c(specific_tax, specific_tax_lev)\n",
    "}\n",
    "\n"
   ]
  },
  {
   "cell_type": "code",
   "execution_count": 10,
   "metadata": {
    "vscode": {
     "languageId": "r"
    }
   },
   "outputs": [
    {
     "data": {
      "text/html": [
       "<table class=\"dataframe\">\n",
       "<caption>A matrix: 4 x 3 of type int</caption>\n",
       "<thead>\n",
       "\t<tr><th></th><th scope=col>record_cnt</th><th scope=col>ind_cnt</th><th scope=col>tax_cnt</th></tr>\n",
       "</thead>\n",
       "<tbody>\n",
       "\t<tr><th scope=row>all</th><td>350699</td><td>114737</td><td>526</td></tr>\n",
       "\t<tr><th scope=row>individual that passed QC</th><td>296230</td><td> 98537</td><td>497</td></tr>\n",
       "\t<tr><th scope=row>species level pathogen</th><td>227289</td><td> 82888</td><td>393</td></tr>\n",
       "\t<tr><th scope=row>pathogen with &gt; 100 cases</th><td>223367</td><td> 81874</td><td> 32</td></tr>\n",
       "</tbody>\n",
       "</table>\n"
      ],
      "text/latex": [
       "A matrix: 4 x 3 of type int\n",
       "\\begin{tabular}{r|lll}\n",
       "  & record\\_cnt & ind\\_cnt & tax\\_cnt\\\\\n",
       "\\hline\n",
       "\tall & 350699 & 114737 & 526\\\\\n",
       "\tindividual that passed QC & 296230 &  98537 & 497\\\\\n",
       "\tspecies level pathogen & 227289 &  82888 & 393\\\\\n",
       "\tpathogen with > 100 cases & 223367 &  81874 &  32\\\\\n",
       "\\end{tabular}\n"
      ],
      "text/markdown": [
       "\n",
       "A matrix: 4 x 3 of type int\n",
       "\n",
       "| <!--/--> | record_cnt | ind_cnt | tax_cnt |\n",
       "|---|---|---|---|\n",
       "| all | 350699 | 114737 | 526 |\n",
       "| individual that passed QC | 296230 |  98537 | 497 |\n",
       "| species level pathogen | 227289 |  82888 | 393 |\n",
       "| pathogen with &gt; 100 cases | 223367 |  81874 |  32 |\n",
       "\n"
      ],
      "text/plain": [
       "                          record_cnt ind_cnt tax_cnt\n",
       "all                       350699     114737  526    \n",
       "individual that passed QC 296230      98537  497    \n",
       "species level pathogen    227289      82888  393    \n",
       "pathogen with > 100 cases 223367      81874   32    "
      ]
     },
     "metadata": {},
     "output_type": "display_data"
    }
   ],
   "source": [
    "# filter1: starting from all\n",
    "filter_lst <- list()\n",
    "filter <- rep(T, nrow(sgss))\n",
    "\n",
    "filter_lst[[1]] <- filter\n",
    "names(filter_lst)[1] <- \"all\"\n",
    "\n",
    "# filter2: only include individuals that passed the QC\n",
    "filter_lst[[2]] <- filter & sgss$UKB_EID %in% eids_filtered\n",
    "names(filter_lst)[2] <- \"individual that passed QC\"\n",
    "\n",
    "# filter3: only include infection that have a pathogen label in species level\n",
    "sgss$tax_lev <- map_chr(sgss$ORGANISM_SPECIES_NAME, function(origin_name) {\n",
    "    tax_lev <- origin_name_to_tax[[origin_name]][2]\n",
    "})\n",
    "filter_lst[[3]] <- filter_lst[[2]] & sgss$tax_lev == \"species\"\n",
    "names(filter_lst)[3] <- \"species level pathogen\"\n",
    "\n",
    "# filter4: only include pathogen that have infection cases > 100\n",
    "sgss$tax <- map_chr(sgss$ORGANISM_SPECIES_NAME, function(origin_name) {\n",
    "    species_name <- origin_name_to_tax[[origin_name]][1]\n",
    "})\n",
    "species_name_qc <- unique(sgss$tax[filter_lst[[3]]])\n",
    "# get the frequency of each species by the number of unique individuals\n",
    "species_name_freq <- map_int(species_name_qc, function(species_name) {\n",
    "    cur_filter <- (sgss$tax == species_name) & filter_lst[[3]]\n",
    "    cur_eids <- sgss$UKB_EID[cur_filter]\n",
    "    return(length(unique(cur_eids)))\n",
    "})\n",
    "names(species_name_freq) <- species_name_qc\n",
    "species_name_gwas <- names(species_name_freq)[which(species_name_freq > 100)]\n",
    "filter_lst[[4]] <- filter_lst[[3]] & (sgss$tax %in% species_name_gwas)\n",
    "names(filter_lst)[4] <- \"pathogen with > 100 cases\"\n",
    "\n",
    "sgss_filter_table <- list()\n",
    "for(i in 1:length(filter_lst)) {\n",
    "    filter <- filter_lst[[i]]\n",
    "    record_cnt <- sum(filter, na.rm = TRUE)\n",
    "    ind_cnt <- length(unique(sgss$UKB_EID[filter]))\n",
    "    tax_cnt <- length(unique(sgss$tax[filter]))\n",
    "    sgss_filter_table[[i]] <- c(record_cnt, ind_cnt, tax_cnt)\n",
    "}\n",
    "sgss_filter_table <- do.call(rbind, sgss_filter_table)\n",
    "rownames(sgss_filter_table) <- names(filter_lst)\n",
    "colnames(sgss_filter_table) <- c(\"record_cnt\", \"ind_cnt\", \"tax_cnt\")\n",
    "sgss_filter_table\n"
   ]
  },
  {
   "cell_type": "code",
   "execution_count": 11,
   "metadata": {
    "vscode": {
     "languageId": "r"
    }
   },
   "outputs": [
    {
     "name": "stdout",
     "output_type": "stream",
     "text": [
      "[1] 36\n",
      "[1] \"Candida parapsilosis\" \"Micrococcus luteus\"   \"Pseudomonas putida\"  \n",
      "[4] \"Salmonella enterica\" \n",
      "character(0)\n"
     ]
    }
   ],
   "source": [
    "# sanity check 1\n",
    "# see if the resulting number of tax is the same as the number of GWAS\n",
    "gwas_wrkdir <- \"/well/bag/clme1992/saige_pipe_test\"\n",
    "gwas_files <- list.files(gwas_wrkdir, pattern = \"summary.05062023_sgss_species.*all.txt.gz\", full.names = TRUE)\n",
    "gwas_files_species <- gsub(\".*summary.05062023_sgss_species.\", \"\", gwas_files)\n",
    "gwas_files_species <- gsub(\".species.all.txt.gz\", \"\", gwas_files_species)\n",
    "gwas_files_species <- gsub(\"_\", \" \", gwas_files_species)\n",
    "print(length(gwas_files_species))\n",
    "print(setdiff(gwas_files_species, species_name_gwas))\n",
    "print(setdiff(species_name_gwas, gwas_files_species))"
   ]
  },
  {
   "cell_type": "code",
   "execution_count": 12,
   "metadata": {
    "vscode": {
     "languageId": "r"
    }
   },
   "outputs": [
    {
     "name": "stdout",
     "output_type": "stream",
     "text": [
      "[1] \"Escherichia coli\"\n",
      "[1] 16\n",
      "[1] \"Staphylococcus aureus\"\n",
      "[1] 8\n",
      "[1] \"Citrobacter koseri\"\n",
      "[1] 0\n",
      "[1] \"Citrobacter freundii\"\n",
      "[1] 0\n",
      "[1] \"Klebsiella pneumoniae\"\n",
      "[1] 0\n",
      "[1] \"Serratia marcescens\"\n",
      "[1] 0\n",
      "[1] \"Morganella morganii\"\n",
      "[1] 0\n",
      "[1] \"Pseudomonas aeruginosa\"\n",
      "[1] 0\n",
      "[1] \"Haemophilus influenzae\"\n",
      "[1] 0\n",
      "[1] \"Enterococcus faecalis\"\n",
      "[1] 1\n",
      "[1] \"Proteus mirabilis\"\n",
      "[1] 0\n",
      "[1] \"Enterobacter cloacae\"\n",
      "[1] 0\n",
      "[1] \"Streptococcus intermedius\"\n",
      "[1] 0\n",
      "[1] \"Cutibacterium acnes\"\n",
      "[1] 0\n",
      "[1] \"Klebsiella oxytoca\"\n",
      "[1] 0\n",
      "[1] \"Corynebacterium striatum\"\n",
      "[1] 0\n",
      "[1] \"Acinetobacter baumannii\"\n",
      "[1] 0\n",
      "[1] \"Stenotrophomonas maltophilia\"\n",
      "[1] 0\n",
      "[1] \"Candida albicans\"\n",
      "[1] 0\n",
      "[1] \"Moraxella catarrhalis\"\n",
      "[1] 1\n",
      "[1] \"Enterococcus faecium\"\n",
      "[1] 0\n",
      "[1] \"Nakaseomyces glabratus\"\n",
      "[1] 0\n",
      "[1] \"Klebsiella variicola\"\n",
      "[1] 0\n",
      "[1] \"Bacteroides fragilis\"\n",
      "[1] 0\n",
      "[1] \"Streptococcus pneumoniae\"\n",
      "[1] 0\n",
      "[1] \"Streptococcus milleri\"\n",
      "[1] 1\n",
      "[1] \"Klebsiella aerogenes\"\n",
      "[1] 0\n",
      "[1] \"Campylobacter jejuni\"\n",
      "[1] 0\n",
      "[1] \"Haemophilus parainfluenzae\"\n",
      "[1] 1\n",
      "[1] \"Proteus vulgaris\"\n",
      "[1] 0\n",
      "[1] \"Raoultella ornithinolytica\"\n",
      "[1] 0\n",
      "[1] \"Serratia liquefaciens\"\n",
      "[1] 0\n"
     ]
    }
   ],
   "source": [
    "# sanity check 2\n",
    "# see if number of infection is the same for E.coli from the phenotype file\n",
    "test_species <- names(species_name_freq)[which(species_name_freq > 100)]\n",
    "for(cur_species in test_species){\n",
    "    # get the eids from gwas phenotype file\n",
    "    cur_species_fname <- gsub(\" \", \"_\", cur_species)\n",
    "    phe_file <- paste0(gwas_wrkdir, \"/ukb41482.bd.gwas-pheno.05062023_sgss_species.\", cur_species_fname, \".species.all.txt.gz\")\n",
    "    phe <- read.table(phe_file, sep = \"\\t\", header = T, stringsAsFactors = F)\n",
    "    phe_eids <- phe$IID[which(phe$pheno == 1)]\n",
    "\n",
    "    # get the eids from sgss filtering\n",
    "    cur_filter <- (sgss$tax == cur_species) & filter_lst[[3]]\n",
    "    sgss_eids <- sgss$UKB_EID[cur_filter]\n",
    "\n",
    "    # compare the two\n",
    "    print(cur_species)\n",
    "    print(length(setdiff(phe_eids, sgss_eids)))\n",
    "}\n"
   ]
  },
  {
   "cell_type": "markdown",
   "metadata": {},
   "source": [
    "### Pathogen filtering - HES"
   ]
  },
  {
   "cell_type": "code",
   "execution_count": 16,
   "metadata": {
    "vscode": {
     "languageId": "r"
    }
   },
   "outputs": [
    {
     "name": "stdout",
     "output_type": "stream",
     "text": [
      "[1] \"Time taken to load hes: 18.1280398368835\"\n"
     ]
    }
   ],
   "source": [
    "# For HES\n",
    "\n",
    "# load hes_diag\n",
    "start_time = Sys.time()\n",
    "hes_file = paste0(ukb_data_dir, \"hes/hesin_diag.latest.txt.gz\")\n",
    "hes = read.table(hes_file, sep = \"\\t\", header = TRUE, stringsAsFactors = FALSE)\n",
    "end_time = Sys.time()\n",
    "print(paste0(\"Time taken to load hes: \", end_time - start_time))"
   ]
  },
  {
   "cell_type": "code",
   "execution_count": 17,
   "metadata": {
    "vscode": {
     "languageId": "r"
    }
   },
   "outputs": [],
   "source": [
    "# load icd10 data \n",
    "icd10_desc_file <- paste0(bugbank_data_dir, \"pathogen_to_unique_icd10.tsv\")\n",
    "icd10_desc <- read.table(icd10_desc_file, sep = \"\\t\", header = TRUE, stringsAsFactors = FALSE)\n",
    "\n",
    "# subset hes to only infection related\n",
    "infect_icd10_codes <- unique(unlist(strsplit(icd10_desc$icd10, split = \",\")))\n",
    "hes_infect <- hes[hes$diag_icd10 %in% infect_icd10_codes, ]\n",
    "\n",
    "# create a dictionary of ICD-10 to pathogen mapping\n",
    "icd_to_pathogen = list()\n",
    "for (i in 1:nrow(icd10_desc)) {\n",
    "  cur_icd10s = unlist(strsplit(icd10_desc$icd10[i], \",\"))\n",
    "  for (icd10 in cur_icd10s) {\n",
    "    # check if the icd10 is already in the dictionary\n",
    "    # if so, report an error\n",
    "    if (icd10 %in% names(icd_to_pathogen)) {\n",
    "      print(paste0(\"Error: \", icd10, \" already in the dictionary\"))\n",
    "    }\n",
    "    icd_to_pathogen[[icd10]] = c(icd10_desc$org_name[i], icd10_desc$tax_lev[i])\n",
    "  }\n",
    "}"
   ]
  },
  {
   "cell_type": "code",
   "execution_count": 18,
   "metadata": {
    "vscode": {
     "languageId": "r"
    }
   },
   "outputs": [
    {
     "data": {
      "text/html": [
       "<table class=\"dataframe\">\n",
       "<caption>A matrix: 4 x 3 of type int</caption>\n",
       "<thead>\n",
       "\t<tr><th></th><th scope=col>record_cnt</th><th scope=col>ind_cnt</th><th scope=col>tax_cnt</th></tr>\n",
       "</thead>\n",
       "<tbody>\n",
       "\t<tr><th scope=row>all</th><td>188788</td><td>69900</td><td>155</td></tr>\n",
       "\t<tr><th scope=row>individual that passed QC</th><td>130625</td><td>50888</td><td>148</td></tr>\n",
       "\t<tr><th scope=row>species level pathogen</th><td> 36912</td><td>18054</td><td> 82</td></tr>\n",
       "\t<tr><th scope=row>pathogen with &gt; 100 cases</th><td> 35504</td><td>17386</td><td> 18</td></tr>\n",
       "</tbody>\n",
       "</table>\n"
      ],
      "text/latex": [
       "A matrix: 4 x 3 of type int\n",
       "\\begin{tabular}{r|lll}\n",
       "  & record\\_cnt & ind\\_cnt & tax\\_cnt\\\\\n",
       "\\hline\n",
       "\tall & 188788 & 69900 & 155\\\\\n",
       "\tindividual that passed QC & 130625 & 50888 & 148\\\\\n",
       "\tspecies level pathogen &  36912 & 18054 &  82\\\\\n",
       "\tpathogen with > 100 cases &  35504 & 17386 &  18\\\\\n",
       "\\end{tabular}\n"
      ],
      "text/markdown": [
       "\n",
       "A matrix: 4 x 3 of type int\n",
       "\n",
       "| <!--/--> | record_cnt | ind_cnt | tax_cnt |\n",
       "|---|---|---|---|\n",
       "| all | 188788 | 69900 | 155 |\n",
       "| individual that passed QC | 130625 | 50888 | 148 |\n",
       "| species level pathogen |  36912 | 18054 |  82 |\n",
       "| pathogen with &gt; 100 cases |  35504 | 17386 |  18 |\n",
       "\n"
      ],
      "text/plain": [
       "                          record_cnt ind_cnt tax_cnt\n",
       "all                       188788     69900   155    \n",
       "individual that passed QC 130625     50888   148    \n",
       "species level pathogen     36912     18054    82    \n",
       "pathogen with > 100 cases  35504     17386    18    "
      ]
     },
     "metadata": {},
     "output_type": "display_data"
    }
   ],
   "source": [
    "# filter1: starting from all\n",
    "filter_lst <- list()\n",
    "filter <- rep(T, nrow(hes_infect))\n",
    "filter_lst[[1]] <- filter\n",
    "names(filter_lst)[1] <- \"all\"\n",
    "\n",
    "# filter2: only include individuals that passed the QC\n",
    "filter_lst[[2]] <- filter & hes_infect$eid %in% eids_filtered\n",
    "names(filter_lst)[2] <- \"individual that passed QC\"\n",
    "\n",
    "#filter3: only include infection that have a pathogen label in species level\n",
    "hes_infect$tax_lev <- map_lgl(hes_infect$diag_icd10, function(icd10) {\n",
    "  tax_lev <- icd_to_pathogen[[icd10]][2]\n",
    "  return(tax_lev == \"species\")\n",
    "})\n",
    "filter_lst[[3]] <- filter_lst[[2]] & hes_infect$tax_lev\n",
    "names(filter_lst)[3] <- \"species level pathogen\"\n",
    "\n",
    "# filter4: only include pathogen that have infection cases > 100\n",
    "hes_infect$tax <- map_chr(hes_infect$diag_icd10, function(icd10) {\n",
    "    species_name <- icd_to_pathogen[[icd10]][1]\n",
    "    return(species_name)  \n",
    "})\n",
    "species_name_qc <- unique(hes_infect$tax[filter_lst[[3]]])\n",
    "# get the frequency of each species by the number of unique individuals\n",
    "species_name_freq <- map_int(species_name_qc, function(species_name) {\n",
    "    cur_filter <- (hes_infect$tax == species_name) & filter_lst[[3]]\n",
    "    cur_eids <- hes_infect$eid[cur_filter]\n",
    "    return(length(unique(cur_eids)))\n",
    "})\n",
    "names(species_name_freq) <- species_name_qc\n",
    "species_name_gwas <- names(species_name_freq)[which(species_name_freq > 100)]\n",
    "filter_lst[[4]] <- filter_lst[[3]] & (hes_infect$tax %in% species_name_gwas)\n",
    "names(filter_lst)[4] <- \"pathogen with > 100 cases\"\n",
    "\n",
    "# gather the filter into a table\n",
    "hes_filter_table <- list()\n",
    "for(i in 1:length(filter_lst)) {\n",
    "    filter <- filter_lst[[i]]\n",
    "    record_cnt <- sum(filter, na.rm = TRUE)\n",
    "    ind_cnt <- length(unique(hes_infect$eid[filter]))\n",
    "    tax_cnt <- length(unique(hes_infect$tax[filter]))\n",
    "    hes_filter_table[[i]] <- c(record_cnt, ind_cnt, tax_cnt)\n",
    "}\n",
    "hes_filter_table <- do.call(rbind, hes_filter_table)\n",
    "rownames(hes_filter_table) <- names(filter_lst)\n",
    "colnames(hes_filter_table) <- c(\"record_cnt\", \"ind_cnt\", \"tax_cnt\")\n",
    "hes_filter_table"
   ]
  },
  {
   "cell_type": "code",
   "execution_count": 19,
   "metadata": {
    "vscode": {
     "languageId": "r"
    }
   },
   "outputs": [
    {
     "name": "stdout",
     "output_type": "stream",
     "text": [
      "[1] 20\n",
      "[1] \"Hepatovirus A\"          \"Pneumocystis jirovecii\"\n",
      "character(0)\n"
     ]
    }
   ],
   "source": [
    "# sanity check, see if the resulting number of tax is the same as the number of GWAS\n",
    "gwas_wrkdir <- \"/well/bag/clme1992/saige_pipe_test\"\n",
    "gwas_files <- list.files(gwas_wrkdir, pattern = \"summary.05062023_hes_species.*.txt.gz\", full.names = TRUE)\n",
    "gwas_files_species <- gsub(\".*summary.05062023_hes_species.regenie.\", \"\", gwas_files)\n",
    "gwas_files_species <- gsub(\".species.txt.gz\", \"\", gwas_files_species)\n",
    "gwas_files_species <- gsub(\"_\", \" \", gwas_files_species)\n",
    "print(length(gwas_files_species))\n",
    "print(setdiff(gwas_files_species, species_name_gwas))\n",
    "print(setdiff(species_name_gwas, gwas_files_species))\n"
   ]
  },
  {
   "cell_type": "code",
   "execution_count": null,
   "metadata": {
    "vscode": {
     "languageId": "r"
    }
   },
   "outputs": [],
   "source": []
  }
 ],
 "metadata": {
  "kernelspec": {
   "display_name": "R",
   "language": "R",
   "name": "ir"
  },
  "language_info": {
   "codemirror_mode": "r",
   "file_extension": ".r",
   "mimetype": "text/x-r-source",
   "name": "R",
   "pygments_lexer": "r",
   "version": "4.3.2"
  }
 },
 "nbformat": 4,
 "nbformat_minor": 2
}
