{
 "cells": [
  {
   "cell_type": "code",
   "execution_count": 25,
   "metadata": {
    "vscode": {
     "languageId": "r"
    }
   },
   "outputs": [
    {
     "name": "stderr",
     "output_type": "stream",
     "text": [
      "-- \u001b[1mAttaching core tidyverse packages\u001b[22m ------------------------ tidyverse 2.0.0 --\n",
      "\u001b[32mv\u001b[39m \u001b[34mdplyr    \u001b[39m 1.1.3     \u001b[32mv\u001b[39m \u001b[34mreadr    \u001b[39m 2.1.4\n",
      "\u001b[32mv\u001b[39m \u001b[34mforcats  \u001b[39m 1.0.0     \u001b[32mv\u001b[39m \u001b[34mstringr  \u001b[39m 1.5.0\n",
      "\u001b[32mv\u001b[39m \u001b[34mggplot2  \u001b[39m 3.4.4     \u001b[32mv\u001b[39m \u001b[34mtibble   \u001b[39m 3.2.1\n",
      "\u001b[32mv\u001b[39m \u001b[34mlubridate\u001b[39m 1.9.3     \u001b[32mv\u001b[39m \u001b[34mtidyr    \u001b[39m 1.3.0\n",
      "\u001b[32mv\u001b[39m \u001b[34mpurrr    \u001b[39m 1.0.2     \n",
      "-- \u001b[1mConflicts\u001b[22m ------------------------------------------ tidyverse_conflicts() --\n",
      "\u001b[31mx\u001b[39m \u001b[34mdplyr\u001b[39m::\u001b[32mfilter()\u001b[39m masks \u001b[34mstats\u001b[39m::filter()\n",
      "\u001b[31mx\u001b[39m \u001b[34mdplyr\u001b[39m::\u001b[32mlag()\u001b[39m    masks \u001b[34mstats\u001b[39m::lag()\n",
      "\u001b[36mi\u001b[39m Use the conflicted package (\u001b[3m\u001b[34m<http://conflicted.r-lib.org/>\u001b[39m\u001b[23m) to force all conflicts to become errors\n"
     ]
    }
   ],
   "source": [
    "library(tidyverse)\n",
    "bugbank_data_dir = \"/well/bag/clme1992/bugbank_data/\"\n",
    "ukb_data_dir = \"/well/bag/wilson/ukb/\"\n"
   ]
  },
  {
   "cell_type": "code",
   "execution_count": null,
   "metadata": {
    "vscode": {
     "languageId": "r"
    }
   },
   "outputs": [],
   "source": [
    "# At each step of QC, track the change in the infection cases\n",
    "\n",
    "resolve.symlink <- function(x) {\n",
    "    y <- Sys.readlink(x)\n",
    "    if (any(is.na(y))) {\n",
    "        stop(\"Could not resolve symlink \", x)\n",
    "    }\n",
    "    ifelse(y == \"\", x, file.path(dirname(x), y))\n",
    "}\n",
    "\n",
    "# configuration file\n",
    "source(\"~/.saige_pipe.config\")\n",
    "\n",
    "lg <- list()\n",
    "lg$hesin_diag_file <- paste0(config$ukb.derived.dir, \"/hes/hesin_diag.latest.txt.gz\")\n",
    "lg$pathogen_icd10_file <- paste0(config$bbdatadir, \"/pathogen_to_unique_icd10.tsv\")\n",
    "lg$bd_RDdata_file <- paste0(config$ukb.derived.dir, \"/ukb41482.ukb41376.fields.RData\")\n",
    "lg$bd_not_lost2followup_file <- paste0(config$ukb.derived.dir, \"/ukb41482.English-not-lost-to-followup-8-April-2020.txt\")\n",
    "lg$bed_sample_qc_file <- paste0(config$ukbdir, \"/v2/qc/ukb_sqc_v2.txt\")\n",
    "lg$withdrawn_eid_file <- paste0(config$bbdatadir, \"/w53100_2023-04-25.csv\")\n",
    "# Pre-computed eids for the bed-format genotypes\n",
    "lg$bed_eid_file <- paste0(config$ukb.derived.dir, \"/analysis.bed.eids.txt\")\n",
    "# Individuals with first degree relatives\n",
    "lg$remrels_file <- paste0(config$ukb.derived.dir, \"/ukb41482.English-remove-first-degree-relatives.eids.txt\")\n",
    "# panUKB ancestral files\n",
    "lg$pan_ukb_file <- paste0(config$panukb.dir, \"/Files for retman/all_pops_non_eur_pruned_within_pop_pc_covs.tsv\")\n",
    "lg$pan_ukb_bridge_file <- paste0(config$panukb.dir, \"/ukb53100bridge31063.txt\")\n",
    "\n",
    "### load input files ###\n",
    "pathogen_tb <- read.csv(lg$pathogen_file, sep = \"\\t\")\n",
    "pathogen_taxonomy <- read.csv(lg$pathogen_taxonomy_file, sep = \"\\t\")\n",
    "pathogen_icd10 <- read.csv(lg$pathogen_icd10_file, sep = \"\\t\")\n",
    "bugbank_data <- read.csv(lg$bugbank_file, sep = \"\\t\")\n",
    "hes_diag <- read.csv(lg$hesin_diag_file, sep = \"\\t\")\n",
    "system.time(load(lg$bd_RDdata_file))\n",
    "all_eids <- bd[, \"f.eid\"]\n",
    "bd_not_lost2followup <- scan(lg$bd_not_lost2followup_file, what = \"logical\") == \"TRUE\"\n",
    "withdrawn_eid <- scan(lg$withdrawn_eid_file)\n",
    "# Sample QC\n",
    "bed_sample_qc <- read.csv(lg$bed_sample_qc_file, sep = \" \")\n",
    "# The corresponding eids\n",
    "bed_eid <- scan(lg$bed_eid_file)\n",
    "# Convert to bd_eid order\n",
    "sample_qc <- bed_sample_qc[match(all_eids, bed_eid), ]\n",
    "# Close (first degree) relatives\n",
    "remrels <- scan(lg$remrels_file)\n",
    "# load and match the panukb data\n",
    "panukb <- read.csv(lg$pan_ukb_file, sep = \"\\t\")[, c(\"s\", \"pop\")]\n",
    "panukb_bridge <- read.csv(lg$pan_ukb_bridge_file, sep = \" \", header = F)\n",
    "bridge_matched <- panukb_bridge[match(panukb$s, panukb_bridge[, 2]), ]\n",
    "panukb$eid <- bridge_matched[, 1]\n",
    "panukb_matched <- panukb[match(all_eids, panukb$eid), ]\n",
    "\n",
    "### assign assessment centre data ###\n",
    "f.assesscentre <- \"f.54.0.0\"\n",
    "assess_centre_England <- c(\n",
    "    11012, # \tBarts\n",
    "    11021, # \tBirmingham\n",
    "    11011, # \tBristol\n",
    "    11008, # \tBury\n",
    "    # 11003\tCardiff\n",
    "    11024, # \tCheadle (revisit)\n",
    "    11020, # \tCroydon\n",
    "    # 11005\tEdinburgh\n",
    "    # 11004\tGlasgow\n",
    "    11018, # \tHounslow\n",
    "    11010, # \tLeeds\n",
    "    11016, # \tLiverpool\n",
    "    11001, # \tManchester\n",
    "    11017, # \tMiddlesborough\n",
    "    11009, # \tNewcastle\n",
    "    11013, # \tNottingham\n",
    "    11002, # \tOxford\n",
    "    11007, # \tReading\n",
    "    11014, # \tSheffield\n",
    "    10003, # \tStockport (pilot)\n",
    "    11006, # \tStoke\n",
    "    # 11022\tSwansea\n",
    "    # 11023\tWrexham\n",
    "    11025, # \tCheadle (imaging)\n",
    "    11026, # \tReading (imaging)\n",
    "    11027, # \tNewcastle (imaging)\n",
    "    11028 # \tBristol (imaging)\n",
    ")\n",
    "\n",
    "f_assesscentre <- \"f.54.0.0\"\n",
    "filter <- bd[, f_assesscentre] %in% assess_centre_England &\n",
    "    !(all_eids %in% withdrawn_eid) &\n",
    "    bd_not_lost2followup &\n",
    "    sample_qc$het.missing.outliers == 0 &\n",
    "    sample_qc$putative.sex.chromosome.aneuploidy == 0 &\n",
    "    sample_qc$Submitted.Gender == sample_qc$Inferred.Gender &\n",
    "    sample_qc$excluded.from.kinship.inference == 0 &\n",
    "    sample_qc$excess.relatives == 0 &\n",
    "    sample_qc$in.Phasing.Input.chr1_22 == 1 &\n",
    "    sample_qc$in.Phasing.Input.chrX == 1 &\n",
    "    sample_qc$in.Phasing.Input.chrXY == 1 &\n",
    "    is.na(match(all_eids, remrels))\n",
    "filter[is.na(filter)] <- FALSE"
   ]
  },
  {
   "cell_type": "code",
   "execution_count": 6,
   "metadata": {
    "vscode": {
     "languageId": "r"
    }
   },
   "outputs": [
    {
     "name": "stdout",
     "output_type": "stream",
     "text": [
      "[1] \"Number of records: 350699\"\n",
      "[1] \"Number of unique individuals: 114737\"\n",
      "[1] \"Number of pathogen labels: 641\"\n"
     ]
    }
   ],
   "source": [
    "# get summary for SGSS\n",
    "sgss_file = paste0(bugbank_data_dir, \"ukb_sgss_extract_refined.csv\")\n",
    "sgss = read.csv(sgss_file, sep = \"\\t\", header = TRUE, stringsAsFactors = FALSE)\n",
    "\n",
    "# number of records\n",
    "print(paste0(\"Number of records: \", nrow(sgss)))\n",
    "\n",
    "# number of unique individuals\n",
    "print(paste0(\"Number of unique individuals: \", length(unique(sgss$UKB_EID))))\n",
    "\n",
    "# number of pathogen labels\n",
    "print(paste0(\"Number of pathogen labels: \", length(unique(sgss$ORGANISM_SPECIES_NAME))))"
   ]
  },
  {
   "cell_type": "code",
   "execution_count": 19,
   "metadata": {
    "vscode": {
     "languageId": "r"
    }
   },
   "outputs": [
    {
     "name": "stdout",
     "output_type": "stream",
     "text": [
      "[1] \"Time taken to load HESIN: 17.3452785015106\"\n"
     ]
    }
   ],
   "source": [
    "# load HES\n",
    "start_time = Sys.time()\n",
    "hes_file = paste0(ukb_data_dir, \"hes/hes_diag.latest.txt.gz\")\n",
    "hes = read.table(hes_file, sep = \"\\t\", header = TRUE, stringsAsFactors = FALSE)\n",
    "end_time = Sys.time()\n",
    "print(paste0(\"Time taken to load hes: \", end_time - start_time))"
   ]
  },
  {
   "cell_type": "code",
   "execution_count": 12,
   "metadata": {
    "vscode": {
     "languageId": "r"
    }
   },
   "outputs": [],
   "source": [
    "# load icd10 data\n",
    "icd10_desc_file <- paste0(bugbank_data_dir, \"pathogen_to_unique_icd10.tsv\")\n",
    "icd10_desc <- read.table(icd10_desc_file, sep = \"\\t\", header = TRUE, stringsAsFactors = FALSE)"
   ]
  },
  {
   "cell_type": "code",
   "execution_count": 33,
   "metadata": {
    "vscode": {
     "languageId": "r"
    }
   },
   "outputs": [
    {
     "name": "stdout",
     "output_type": "stream",
     "text": [
      "[1] \"Number of infection related records: 188788\"\n",
      "[1] \"Number of unique individuals: 69900\"\n",
      "[1] \"Number of unique icd10 codes: 480\"\n",
      "[1] \"Number of unique pathogens: 155\"\n",
      "[1] \"Number of unique species level pathogens: 88\"\n"
     ]
    }
   ],
   "source": [
    "# subset hes to only infection related\n",
    "infect_icd10_codes <- unique(unlist(strsplit(icd10_desc$icd10, split = \",\")))\n",
    "hes_infect <- hes[hes$diag_icd10 %in% infect_icd10_codes, ]\n",
    "\n",
    "# number of records\n",
    "print(paste0(\"Number of infection related records: \", nrow(hes_infect)))\n",
    "\n",
    "# number of unique individuals\n",
    "print(paste0(\"Number of unique individuals: \", length(unique(hes_infect$eid))))\n",
    "\n",
    "# number of unique icd10 codes\n",
    "print(paste0(\"Number of unique icd10 codes: \", length(unique(hes_infect$diag_icd10))))\n",
    "\n",
    "# number of species level pathogens\n",
    "# create a dictionary of ICD-10 to pathogen mapping\n",
    "icd_to_pathogen = list()\n",
    "for (i in 1:nrow(icd10_desc)) {\n",
    "  cur_icd10s = unlist(strsplit(icd10_desc$icd10[i], \",\"))\n",
    "  for (icd10 in cur_icd10s) {\n",
    "    icd_to_pathogen[[icd10]] = c(icd10_desc$org_name[i], icd10_desc$tax_lev[i])\n",
    "  }\n",
    "}\n",
    "# map hes icd10 codes to pathogen\n",
    "hes_infect$org_name = map_chr(hes_infect$diag_icd10, function(x) icd_to_pathogen[[x]][1])\n",
    "print(paste0(\"Number of unique pathogens: \", length(unique(hes_infect$org_name))))\n",
    "\n",
    "# number of species level pathogen\n",
    "hes_infect$tax_lev = map_chr(hes_infect$diag_icd10, function(x) icd_to_pathogen[[x]][2])\n",
    "hes_infect_species = hes_infect[hes_infect$tax_lev == \"species\", ]\n",
    "print(x = paste0(\"Number of unique species level pathogens: \", length(unique(hes_infect_species$org_name))))\n"
   ]
  },
  {
   "cell_type": "code",
   "execution_count": 32,
   "metadata": {
    "vscode": {
     "languageId": "r"
    }
   },
   "outputs": [
    {
     "data": {
      "text/html": [
       "<table class=\"dataframe\">\n",
       "<caption>A data.frame: 6 x 10</caption>\n",
       "<thead>\n",
       "\t<tr><th></th><th scope=col>eid</th><th scope=col>ins_index</th><th scope=col>arr_index</th><th scope=col>level</th><th scope=col>diag_icd9</th><th scope=col>diag_icd9_nb</th><th scope=col>diag_icd10</th><th scope=col>diag_icd10_nb</th><th scope=col>org_name</th><th scope=col>tax_lev</th></tr>\n",
       "\t<tr><th></th><th scope=col>&lt;int&gt;</th><th scope=col>&lt;int&gt;</th><th scope=col>&lt;int&gt;</th><th scope=col>&lt;int&gt;</th><th scope=col>&lt;chr&gt;</th><th scope=col>&lt;lgl&gt;</th><th scope=col>&lt;chr&gt;</th><th scope=col>&lt;int&gt;</th><th scope=col>&lt;chr&gt;</th><th scope=col>&lt;chr&gt;</th></tr>\n",
       "</thead>\n",
       "<tbody>\n",
       "\t<tr><th scope=row>2750</th><td>1000906</td><td> 6</td><td>5</td><td>2</td><td></td><td>NA</td><td>B962</td><td>NA</td><td>Escherichia coli     </td><td>species</td></tr>\n",
       "\t<tr><th scope=row>4438</th><td>1001488</td><td>10</td><td>1</td><td>2</td><td></td><td>NA</td><td>B961</td><td>NA</td><td>Klebsiella pneumoniae</td><td>species</td></tr>\n",
       "\t<tr><th scope=row>4455</th><td>1001488</td><td>11</td><td>1</td><td>2</td><td></td><td>NA</td><td>B961</td><td>NA</td><td>Klebsiella pneumoniae</td><td>species</td></tr>\n",
       "\t<tr><th scope=row>4702</th><td>1001603</td><td> 2</td><td>2</td><td>2</td><td></td><td>NA</td><td>B962</td><td>NA</td><td>Escherichia coli     </td><td>species</td></tr>\n",
       "\t<tr><th scope=row>5375</th><td>1001970</td><td> 8</td><td>4</td><td>2</td><td></td><td>NA</td><td>B962</td><td>NA</td><td>Escherichia coli     </td><td>species</td></tr>\n",
       "\t<tr><th scope=row>5712</th><td>1002128</td><td> 7</td><td>3</td><td>2</td><td></td><td>NA</td><td>B171</td><td>NA</td><td>Hepacivirus C        </td><td>species</td></tr>\n",
       "</tbody>\n",
       "</table>\n"
      ],
      "text/latex": [
       "A data.frame: 6 x 10\n",
       "\\begin{tabular}{r|llllllllll}\n",
       "  & eid & ins\\_index & arr\\_index & level & diag\\_icd9 & diag\\_icd9\\_nb & diag\\_icd10 & diag\\_icd10\\_nb & org\\_name & tax\\_lev\\\\\n",
       "  & <int> & <int> & <int> & <int> & <chr> & <lgl> & <chr> & <int> & <chr> & <chr>\\\\\n",
       "\\hline\n",
       "\t2750 & 1000906 &  6 & 5 & 2 &  & NA & B962 & NA & Escherichia coli      & species\\\\\n",
       "\t4438 & 1001488 & 10 & 1 & 2 &  & NA & B961 & NA & Klebsiella pneumoniae & species\\\\\n",
       "\t4455 & 1001488 & 11 & 1 & 2 &  & NA & B961 & NA & Klebsiella pneumoniae & species\\\\\n",
       "\t4702 & 1001603 &  2 & 2 & 2 &  & NA & B962 & NA & Escherichia coli      & species\\\\\n",
       "\t5375 & 1001970 &  8 & 4 & 2 &  & NA & B962 & NA & Escherichia coli      & species\\\\\n",
       "\t5712 & 1002128 &  7 & 3 & 2 &  & NA & B171 & NA & Hepacivirus C         & species\\\\\n",
       "\\end{tabular}\n"
      ],
      "text/markdown": [
       "\n",
       "A data.frame: 6 x 10\n",
       "\n",
       "| <!--/--> | eid &lt;int&gt; | ins_index &lt;int&gt; | arr_index &lt;int&gt; | level &lt;int&gt; | diag_icd9 &lt;chr&gt; | diag_icd9_nb &lt;lgl&gt; | diag_icd10 &lt;chr&gt; | diag_icd10_nb &lt;int&gt; | org_name &lt;chr&gt; | tax_lev &lt;chr&gt; |\n",
       "|---|---|---|---|---|---|---|---|---|---|---|\n",
       "| 2750 | 1000906 |  6 | 5 | 2 | <!----> | NA | B962 | NA | Escherichia coli      | species |\n",
       "| 4438 | 1001488 | 10 | 1 | 2 | <!----> | NA | B961 | NA | Klebsiella pneumoniae | species |\n",
       "| 4455 | 1001488 | 11 | 1 | 2 | <!----> | NA | B961 | NA | Klebsiella pneumoniae | species |\n",
       "| 4702 | 1001603 |  2 | 2 | 2 | <!----> | NA | B962 | NA | Escherichia coli      | species |\n",
       "| 5375 | 1001970 |  8 | 4 | 2 | <!----> | NA | B962 | NA | Escherichia coli      | species |\n",
       "| 5712 | 1002128 |  7 | 3 | 2 | <!----> | NA | B171 | NA | Hepacivirus C         | species |\n",
       "\n"
      ],
      "text/plain": [
       "     eid     ins_index arr_index level diag_icd9 diag_icd9_nb diag_icd10\n",
       "2750 1000906  6        5         2               NA           B962      \n",
       "4438 1001488 10        1         2               NA           B961      \n",
       "4455 1001488 11        1         2               NA           B961      \n",
       "4702 1001603  2        2         2               NA           B962      \n",
       "5375 1001970  8        4         2               NA           B962      \n",
       "5712 1002128  7        3         2               NA           B171      \n",
       "     diag_icd10_nb org_name              tax_lev\n",
       "2750 NA            Escherichia coli      species\n",
       "4438 NA            Klebsiella pneumoniae species\n",
       "4455 NA            Klebsiella pneumoniae species\n",
       "4702 NA            Escherichia coli      species\n",
       "5375 NA            Escherichia coli      species\n",
       "5712 NA            Hepacivirus C         species"
      ]
     },
     "metadata": {},
     "output_type": "display_data"
    }
   ],
   "source": [
    "head(hes_infect_species)"
   ]
  },
  {
   "cell_type": "code",
   "execution_count": null,
   "metadata": {
    "vscode": {
     "languageId": "r"
    }
   },
   "outputs": [],
   "source": []
  }
 ],
 "metadata": {
  "kernelspec": {
   "display_name": "R",
   "language": "R",
   "name": "ir"
  },
  "language_info": {
   "codemirror_mode": "r",
   "file_extension": ".r",
   "mimetype": "text/x-r-source",
   "name": "R",
   "pygments_lexer": "r",
   "version": "4.3.2"
  }
 },
 "nbformat": 4,
 "nbformat_minor": 2
}
