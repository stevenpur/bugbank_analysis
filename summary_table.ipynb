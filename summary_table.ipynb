{
 "cells": [
  {
   "cell_type": "code",
   "execution_count": 1,
   "metadata": {
    "vscode": {
     "languageId": "r"
    }
   },
   "outputs": [
    {
     "name": "stderr",
     "output_type": "stream",
     "text": [
      "-- \u001b[1mAttaching core tidyverse packages\u001b[22m ------------------------ tidyverse 2.0.0 --\n",
      "\u001b[32mv\u001b[39m \u001b[34mdplyr    \u001b[39m 1.1.3     \u001b[32mv\u001b[39m \u001b[34mreadr    \u001b[39m 2.1.4\n",
      "\u001b[32mv\u001b[39m \u001b[34mforcats  \u001b[39m 1.0.0     \u001b[32mv\u001b[39m \u001b[34mstringr  \u001b[39m 1.5.0\n",
      "\u001b[32mv\u001b[39m \u001b[34mggplot2  \u001b[39m 3.4.4     \u001b[32mv\u001b[39m \u001b[34mtibble   \u001b[39m 3.2.1\n",
      "\u001b[32mv\u001b[39m \u001b[34mlubridate\u001b[39m 1.9.3     \u001b[32mv\u001b[39m \u001b[34mtidyr    \u001b[39m 1.3.0\n",
      "\u001b[32mv\u001b[39m \u001b[34mpurrr    \u001b[39m 1.0.2     \n",
      "-- \u001b[1mConflicts\u001b[22m ------------------------------------------ tidyverse_conflicts() --\n",
      "\u001b[31mx\u001b[39m \u001b[34mdplyr\u001b[39m::\u001b[32mfilter()\u001b[39m masks \u001b[34mstats\u001b[39m::filter()\n",
      "\u001b[31mx\u001b[39m \u001b[34mdplyr\u001b[39m::\u001b[32mlag()\u001b[39m    masks \u001b[34mstats\u001b[39m::lag()\n",
      "\u001b[36mi\u001b[39m Use the conflicted package (\u001b[3m\u001b[34m<http://conflicted.r-lib.org/>\u001b[39m\u001b[23m) to force all conflicts to become errors\n"
     ]
    }
   ],
   "source": [
    "library(tidyverse)\n",
    "bugbank_data_dir = \"/well/bag/clme1992/bugbank_data/\"\n",
    "ukb_data_dir = \"/well/bag/wilson/ukb/\"\n",
    "gwas_wrkdir = \"/well/bag/clme1992/saige_pipe_test\"\n"
   ]
  },
  {
   "cell_type": "code",
   "execution_count": 2,
   "metadata": {
    "vscode": {
     "languageId": "r"
    }
   },
   "outputs": [
    {
     "data": {
      "text/plain": [
       "   user  system elapsed \n",
       " 18.088   2.091  20.239 "
      ]
     },
     "metadata": {},
     "output_type": "display_data"
    }
   ],
   "source": [
    "# At each step of QC, track the change in the infection cases\n",
    "\n",
    "resolve.symlink <- function(x) {\n",
    "    y <- Sys.readlink(x)\n",
    "    if (any(is.na(y))) {\n",
    "        stop(\"Could not resolve symlink \", x)\n",
    "    }\n",
    "    ifelse(y == \"\", x, file.path(dirname(x), y))\n",
    "}\n",
    "\n",
    "# configuration file\n",
    "source(\"~/.saige_pipe.config\")\n",
    "\n",
    "lg <- list()\n",
    "lg$bd_RDdata_file <- paste0(config$ukb.derived.dir, \"/ukb41482.ukb41376.fields.RData\")\n",
    "lg$bd_not_lost2followup_file <- paste0(config$ukb.derived.dir, \"/ukb41482.English-not-lost-to-followup-8-April-2020.txt\")\n",
    "lg$bed_sample_qc_file <- paste0(config$ukbdir, \"/v2/qc/ukb_sqc_v2.txt\")\n",
    "lg$withdrawn_eid_file <- paste0(config$bbdatadir, \"/w53100_2023-04-25.csv\")\n",
    "# Pre-computed eids for the bed-format genotypes\n",
    "lg$bed_eid_file <- paste0(config$ukb.derived.dir, \"/analysis.bed.eids.txt\")\n",
    "# Individuals with first degree relatives\n",
    "lg$remrels_file <- paste0(config$ukb.derived.dir, \"/ukb41482.English-remove-first-degree-relatives.eids.txt\")\n",
    "# panUKB ancestral files\n",
    "lg$pan_ukb_file <- paste0(config$panukb.dir, \"/Files for retman/all_pops_non_eur_pruned_within_pop_pc_covs.tsv\")\n",
    "lg$pan_ukb_bridge_file <- paste0(config$panukb.dir, \"/ukb53100bridge31063.txt\")\n",
    "\n",
    "### load input files ###\n",
    "system.time(load(lg$bd_RDdata_file))\n",
    "all_eids <- bd[, \"f.eid\"]\n",
    "bd_not_lost2followup <- scan(lg$bd_not_lost2followup_file, what = \"logical\") == \"TRUE\"\n",
    "withdrawn_eid <- scan(lg$withdrawn_eid_file)\n",
    "# Sample QC\n",
    "bed_sample_qc <- read.csv(lg$bed_sample_qc_file, sep = \" \")\n",
    "# The corresponding eids\n",
    "bed_eid <- scan(lg$bed_eid_file)\n",
    "# Convert to bd_eid order\n",
    "sample_qc <- bed_sample_qc[match(all_eids, bed_eid), ]\n",
    "# Close (first degree) relatives\n",
    "remrels <- scan(lg$remrels_file)\n",
    "# load and match the panukb data\n",
    "panukb <- read.csv(lg$pan_ukb_file, sep = \"\\t\")[, c(\"s\", \"pop\")]\n",
    "panukb_bridge <- read.csv(lg$pan_ukb_bridge_file, sep = \" \", header = F)\n",
    "bridge_matched <- panukb_bridge[match(panukb$s, panukb_bridge[, 2]), ]\n",
    "panukb$eid <- bridge_matched[, 1]\n",
    "panukb_matched <- panukb[match(all_eids, panukb$eid), ]\n",
    "\n",
    "### assign assessment centre data ###\n",
    "f.assesscentre <- \"f.54.0.0\"\n",
    "assess_centre_England <- c(\n",
    "    11012, 11021, 11011, 11008, 11024, 11020, 11018, 11010, 11016, \n",
    "    11001, 11017, 11009, 11013, 11002, 11007, 11014, 10003, 11006, \n",
    "    11025, 11026, 11027, 11028 \n",
    ")\n",
    "f_assesscentre <- \"f.54.0.0\""
   ]
  },
  {
   "cell_type": "code",
   "execution_count": 3,
   "metadata": {
    "vscode": {
     "languageId": "r"
    }
   },
   "outputs": [
    {
     "name": "stdout",
     "output_type": "stream",
     "text": [
      "[1] \"Time taken to load hes: 22.527595281601\"\n"
     ]
    }
   ],
   "source": [
    "# get summary for SGSS\n",
    "sgss_file = paste0(bugbank_data_dir, \"ukb_sgss_extract_refined.csv\")\n",
    "sgss = read.csv(sgss_file, sep = \"\\t\", header = TRUE, stringsAsFactors = FALSE)\n",
    "\n",
    "# load HES\n",
    "start_time = Sys.time()\n",
    "hes_file = paste0(ukb_data_dir, \"hes/hesin_diag.latest.txt.gz\")\n",
    "hes = read.table(hes_file, sep = \"\\t\", header = TRUE, stringsAsFactors = FALSE)\n",
    "end_time = Sys.time()\n",
    "print(paste0(\"Time taken to load hes: \", end_time - start_time))"
   ]
  },
  {
   "cell_type": "code",
   "execution_count": 46,
   "metadata": {
    "vscode": {
     "languageId": "r"
    }
   },
   "outputs": [],
   "source": [
    "filter_lst <- list()\n",
    "filter <- rep(T, nrow(bd))\n",
    "filter_lst[[1]] <- filter\n",
    "names(filter_lst)[1] <- \"all\"\n",
    "\n",
    "filter <- filter & bd_not_lost2followup\n",
    "filter <- filter & !(all_eids %in% withdrawn_eid)\n",
    "filter_lst[[2]] <- filter\n",
    "names(filter_lst)[2] <- \"not lost to followup\"\n",
    "\n",
    "filter <- filter & sample_qc$putative.sex.chromosome.aneuploidy == 0\n",
    "filter_lst[[3]] <- filter\n",
    "names(filter_lst)[3] <- \"no aneuploidy in sex chromosome\"\n",
    "\n",
    "filter <- filter & sample_qc$Submitted.Gender == sample_qc$Inferred.Gender\n",
    "filter_lst[[4]] <- filter\n",
    "names(filter_lst)[4] <- \"reported sex matches genetic sex\"\n",
    "\n",
    "filter <- filter & sample_qc$het.missing.outliers == 0\n",
    "filter_lst[[5]] <- filter\n",
    "names(filter_lst)[5] <- \"no het missing outliers\"\n",
    "\n",
    "filter <- filter & sample_qc$excluded.from.kinship.inference == 0\n",
    "filter_lst[[6]] <- filter\n",
    "names(filter_lst)[6] <- \"not excluded from kinship inference\"\n",
    "\n",
    "filter <- filter & sample_qc$excess.relatives == 0 & is.na(match(all_eids, remrels))\n",
    "filter_lst[[7]] <- filter\n",
    "names(filter_lst)[7] <- \"no excess nor 1st degree relatives\"\n",
    "\n",
    "filter <- filter & sample_qc$in.Phasing.Input.chr1_22 == 1 & \n",
    "    sample_qc$in.Phasing.Input.chrX == 1 &\n",
    "    sample_qc$in.Phasing.Input.chrXY == 1\n",
    "filter_lst[[8]] <- filter\n",
    "names(filter_lst)[8] <- \"in phasing input\"\n",
    "\n",
    "filter <- filter & all_eids %in% panukb_matched$eid[which(panukb_matched$pop == \"EUR\")]\n",
    "filter_lst[[9]] <- filter\n",
    "names(filter_lst)[9] <- \"in panukb EUR\"\n",
    "\n",
    "filter <- filter & bd[, f_assesscentre] %in% assess_centre_England\n",
    "filter_lst[[10]] <- filter\n",
    "names(filter_lst)[10] <- \"in assessment centre England\"\n",
    "\n"
   ]
  },
  {
   "cell_type": "code",
   "execution_count": 47,
   "metadata": {
    "vscode": {
     "languageId": "r"
    }
   },
   "outputs": [
    {
     "data": {
      "text/html": [
       "<table class=\"dataframe\">\n",
       "<caption>A matrix: 10 x 3 of type int</caption>\n",
       "<tbody>\n",
       "\t<tr><th scope=row>all</th><td>502505</td><td>114736</td><td>69900</td></tr>\n",
       "\t<tr><th scope=row>not lost to followup</th><td>426755</td><td>108226</td><td>56142</td></tr>\n",
       "\t<tr><th scope=row>no aneuploidy in sex chromosome</th><td>414121</td><td>104782</td><td>54100</td></tr>\n",
       "\t<tr><th scope=row>reported sex matches genetic sex</th><td>413957</td><td>104733</td><td>54067</td></tr>\n",
       "\t<tr><th scope=row>no het missing outliers</th><td>413123</td><td>104500</td><td>53948</td></tr>\n",
       "\t<tr><th scope=row>not excluded from kinship inference</th><td>413115</td><td>104498</td><td>53948</td></tr>\n",
       "\t<tr><th scope=row>no excess nor 1st degree relatives</th><td>390900</td><td> 98586</td><td>50918</td></tr>\n",
       "\t<tr><th scope=row>in phasing input</th><td>390739</td><td> 98537</td><td>50888</td></tr>\n",
       "\t<tr><th scope=row>in panukb EUR</th><td>339953</td><td> 87294</td><td>43750</td></tr>\n",
       "\t<tr><th scope=row>in assessment centre England</th><td>339953</td><td> 87294</td><td>43750</td></tr>\n",
       "</tbody>\n",
       "</table>\n"
      ],
      "text/latex": [
       "A matrix: 10 x 3 of type int\n",
       "\\begin{tabular}{r|lll}\n",
       "\tall & 502505 & 114736 & 69900\\\\\n",
       "\tnot lost to followup & 426755 & 108226 & 56142\\\\\n",
       "\tno aneuploidy in sex chromosome & 414121 & 104782 & 54100\\\\\n",
       "\treported sex matches genetic sex & 413957 & 104733 & 54067\\\\\n",
       "\tno het missing outliers & 413123 & 104500 & 53948\\\\\n",
       "\tnot excluded from kinship inference & 413115 & 104498 & 53948\\\\\n",
       "\tno excess nor 1st degree relatives & 390900 &  98586 & 50918\\\\\n",
       "\tin phasing input & 390739 &  98537 & 50888\\\\\n",
       "\tin panukb EUR & 339953 &  87294 & 43750\\\\\n",
       "\tin assessment centre England & 339953 &  87294 & 43750\\\\\n",
       "\\end{tabular}\n"
      ],
      "text/markdown": [
       "\n",
       "A matrix: 10 x 3 of type int\n",
       "\n",
       "| all | 502505 | 114736 | 69900 |\n",
       "| not lost to followup | 426755 | 108226 | 56142 |\n",
       "| no aneuploidy in sex chromosome | 414121 | 104782 | 54100 |\n",
       "| reported sex matches genetic sex | 413957 | 104733 | 54067 |\n",
       "| no het missing outliers | 413123 | 104500 | 53948 |\n",
       "| not excluded from kinship inference | 413115 | 104498 | 53948 |\n",
       "| no excess nor 1st degree relatives | 390900 |  98586 | 50918 |\n",
       "| in phasing input | 390739 |  98537 | 50888 |\n",
       "| in panukb EUR | 339953 |  87294 | 43750 |\n",
       "| in assessment centre England | 339953 |  87294 | 43750 |\n",
       "\n"
      ],
      "text/plain": [
       "                                    [,1]   [,2]   [,3] \n",
       "all                                 502505 114736 69900\n",
       "not lost to followup                426755 108226 56142\n",
       "no aneuploidy in sex chromosome     414121 104782 54100\n",
       "reported sex matches genetic sex    413957 104733 54067\n",
       "no het missing outliers             413123 104500 53948\n",
       "not excluded from kinship inference 413115 104498 53948\n",
       "no excess nor 1st degree relatives  390900  98586 50918\n",
       "in phasing input                    390739  98537 50888\n",
       "in panukb EUR                       339953  87294 43750\n",
       "in assessment centre England        339953  87294 43750"
      ]
     },
     "metadata": {},
     "output_type": "display_data"
    }
   ],
   "source": [
    "sgss_filter <- sgss\n",
    "hes_filter <- hes_infect\n",
    "ukb_filter <- list()\n",
    "for (i in 1:length(filter_lst)) {\n",
    "    filter <- filter_lst[[i]]\n",
    "    eids_filtered <- unique(all_eids[filter])\n",
    "    sgss_filter <- sgss_filter[sgss_filter$UKB_EID %in% eids_filtered, ]\n",
    "    hes_filter <- hes_filter[hes_filter$eid %in% eids_filtered, ]\n",
    "    sgss_cnt <- length(unique(sgss_filter$UKB_EID))\n",
    "    hes_cnt <- length(unique(hes_filter$eid))\n",
    "    ukb_filter[[i]] <- c(length(eids_filtered), sgss_cnt, hes_cnt)\n",
    "}\n",
    "ukb_filter <- do.call(rbind, ukb_filter)\n",
    "rownames(ukb_filter) <- names(filter_lst)\n",
    "\n",
    "ukb_filter"
   ]
  },
  {
   "cell_type": "markdown",
   "metadata": {},
   "source": [
    "### Pathogen filtering - SGSS"
   ]
  },
  {
   "cell_type": "code",
   "execution_count": 7,
   "metadata": {
    "vscode": {
     "languageId": "r"
    }
   },
   "outputs": [
    {
     "data": {
      "text/html": [
       "0"
      ],
      "text/latex": [
       "0"
      ],
      "text/markdown": [
       "0"
      ],
      "text/plain": [
       "[1] 0"
      ]
     },
     "metadata": {},
     "output_type": "display_data"
    },
    {
     "data": {
      "text/html": [
       "0"
      ],
      "text/latex": [
       "0"
      ],
      "text/markdown": [
       "0"
      ],
      "text/plain": [
       "[1] 0"
      ]
     },
     "metadata": {},
     "output_type": "display_data"
    }
   ],
   "source": [
    "# for SGSS\n",
    "sgss_tax_file <- paste0(bugbank_data_dir, \"bb_pathogen_taxonomy_13032023.tsv\")\n",
    "sgss_tax <- read.table(sgss_tax_file, sep = \"\\t\", header = TRUE, stringsAsFactors = FALSE)\n",
    "\n",
    "# ------------------------------------------------------------\n",
    "# create a dictionary from origin_name to most specific taxa\n",
    "# ------------------------------------------------------------\n",
    "\n",
    "# sanity check: no NA nor duplicated origin_name\n",
    "sum(is.na(sgss_tax$origin_name))\n",
    "sum(duplicated(sgss_tax$origin_name))\n",
    "origin_name_to_tax <- list()\n",
    "\n",
    "# for each origin_name, find the most specific tax\n",
    "\n",
    "# get the tax levels\n",
    "tax_levs <- colnames(sgss_tax)[-ncol(sgss_tax)]\n",
    "# remove the last column (which is the origin_name) for later use\n",
    "sgss_tax_only <- sgss_tax[, -ncol(sgss_tax)]\n",
    "\n",
    "for (i in 1:nrow(sgss_tax)) {\n",
    "    origin_name <- sgss_tax$origin_name[i]\n",
    "    # remove any NA and the last column (which is the origin_name)\n",
    "    tax <- sgss_tax_only[i, ]\n",
    "    tax_lev <- tax_levs[!is.na(tax)]\n",
    "    tax <- tax[!is.na(tax)]\n",
    "    specific_tax <- tail(tax, 1)\n",
    "    specific_tax_lev <- tail(tax_lev, 1)\n",
    "    origin_name_to_tax[[origin_name]] <- c(specific_tax, specific_tax_lev)\n",
    "}\n",
    "\n"
   ]
  },
  {
   "cell_type": "code",
   "execution_count": 114,
   "metadata": {
    "vscode": {
     "languageId": "r"
    }
   },
   "outputs": [
    {
     "data": {
      "text/html": [
       "<table class=\"dataframe\">\n",
       "<caption>A matrix: 4 x 3 of type int</caption>\n",
       "<thead>\n",
       "\t<tr><th></th><th scope=col>record_cnt</th><th scope=col>ind_cnt</th><th scope=col>tax_cnt</th></tr>\n",
       "</thead>\n",
       "<tbody>\n",
       "\t<tr><th scope=row>all</th><td>350699</td><td>114737</td><td>526</td></tr>\n",
       "\t<tr><th scope=row>individual that passed QC</th><td>265114</td><td> 87294</td><td>479</td></tr>\n",
       "\t<tr><th scope=row>species level pathogen</th><td>204019</td><td> 73756</td><td>382</td></tr>\n",
       "\t<tr><th scope=row>pathogen with &gt; 100 cases</th><td>200529</td><td> 72893</td><td> 31</td></tr>\n",
       "</tbody>\n",
       "</table>\n"
      ],
      "text/latex": [
       "A matrix: 4 x 3 of type int\n",
       "\\begin{tabular}{r|lll}\n",
       "  & record\\_cnt & ind\\_cnt & tax\\_cnt\\\\\n",
       "\\hline\n",
       "\tall & 350699 & 114737 & 526\\\\\n",
       "\tindividual that passed QC & 265114 &  87294 & 479\\\\\n",
       "\tspecies level pathogen & 204019 &  73756 & 382\\\\\n",
       "\tpathogen with > 100 cases & 200529 &  72893 &  31\\\\\n",
       "\\end{tabular}\n"
      ],
      "text/markdown": [
       "\n",
       "A matrix: 4 x 3 of type int\n",
       "\n",
       "| <!--/--> | record_cnt | ind_cnt | tax_cnt |\n",
       "|---|---|---|---|\n",
       "| all | 350699 | 114737 | 526 |\n",
       "| individual that passed QC | 265114 |  87294 | 479 |\n",
       "| species level pathogen | 204019 |  73756 | 382 |\n",
       "| pathogen with &gt; 100 cases | 200529 |  72893 |  31 |\n",
       "\n"
      ],
      "text/plain": [
       "                          record_cnt ind_cnt tax_cnt\n",
       "all                       350699     114737  526    \n",
       "individual that passed QC 265114      87294  479    \n",
       "species level pathogen    204019      73756  382    \n",
       "pathogen with > 100 cases 200529      72893   31    "
      ]
     },
     "metadata": {},
     "output_type": "display_data"
    }
   ],
   "source": [
    "# filter1: starting from all\n",
    "filter_lst <- list()\n",
    "filter <- rep(T, nrow(sgss))\n",
    "\n",
    "filter_lst[[1]] <- filter\n",
    "names(filter_lst)[1] <- \"all\"\n",
    "\n",
    "# filter2: only include individuals that passed the QC\n",
    "filter_lst[[2]] <- filter & sgss$UKB_EID %in% eids_filtered\n",
    "names(filter_lst)[2] <- \"individual that passed QC\"\n",
    "\n",
    "# filter3: only include infection that have a pathogen label in species level\n",
    "sgss$tax_lev <- map_chr(sgss$ORGANISM_SPECIES_NAME, function(origin_name) {\n",
    "    tax_lev <- origin_name_to_tax[[origin_name]][2]\n",
    "})\n",
    "filter_lst[[3]] <- filter_lst[[2]] & sgss$tax_lev == \"species\"\n",
    "names(filter_lst)[3] <- \"species level pathogen\"\n",
    "\n",
    "# filter4: only include pathogen that have infection cases > 100\n",
    "sgss$tax <- map_chr(sgss$ORGANISM_SPECIES_NAME, function(origin_name) {\n",
    "    species_name <- origin_name_to_tax[[origin_name]][1]\n",
    "})\n",
    "species_name_qc <- unique(sgss$tax[filter_lst[[3]]])\n",
    "# get the frequency of each species by the number of unique individuals\n",
    "species_name_freq <- map_int(species_name_qc, function(species_name) {\n",
    "    cur_filter <- (sgss$tax == species_name) & filter_lst[[3]]\n",
    "    cur_eids <- sgss$UKB_EID[cur_filter]\n",
    "    return(length(unique(cur_eids)))\n",
    "})\n",
    "names(species_name_freq) <- species_name_qc\n",
    "species_name_gwas <- names(species_name_freq)[which(species_name_freq > 100)]\n",
    "filter_lst[[4]] <- filter_lst[[3]] & (sgss$tax %in% species_name_gwas)\n",
    "names(filter_lst)[4] <- \"pathogen with > 100 cases\"\n",
    "\n",
    "sgss_filter_table <- list()\n",
    "for(i in 1:length(filter_lst)) {\n",
    "    filter <- filter_lst[[i]]\n",
    "    record_cnt <- sum(filter, na.rm = TRUE)\n",
    "    ind_cnt <- length(unique(sgss$UKB_EID[filter]))\n",
    "    tax_cnt <- length(unique(sgss$tax[filter]))\n",
    "    sgss_filter_table[[i]] <- c(record_cnt, ind_cnt, tax_cnt)\n",
    "}\n",
    "sgss_filter_table <- do.call(rbind, sgss_filter_table)\n",
    "rownames(sgss_filter_table) <- names(filter_lst)\n",
    "colnames(sgss_filter_table) <- c(\"record_cnt\", \"ind_cnt\", \"tax_cnt\")\n",
    "sgss_filter_table\n"
   ]
  },
  {
   "cell_type": "code",
   "execution_count": 97,
   "metadata": {
    "vscode": {
     "languageId": "r"
    }
   },
   "outputs": [
    {
     "name": "stdout",
     "output_type": "stream",
     "text": [
      "[1] 36\n",
      "[1] \"Candida parapsilosis\" \"Micrococcus luteus\"   \"Proteus vulgaris\"    \n",
      "[4] \"Pseudomonas putida\"   \"Salmonella enterica\" \n",
      "character(0)\n"
     ]
    }
   ],
   "source": [
    "# sanity check 1\n",
    "# see if the resulting number of tax is the same as the number of GWAS\n",
    "gwas_wrkdir <- \"/well/bag/clme1992/saige_pipe_test\"\n",
    "gwas_files <- list.files(gwas_wrkdir, pattern = \"summary.05062023_sgss_species.*all.txt.gz\", full.names = TRUE)\n",
    "gwas_files_species <- gsub(\".*summary.05062023_sgss_species.\", \"\", gwas_files)\n",
    "gwas_files_species <- gsub(\".species.all.txt.gz\", \"\", gwas_files_species)\n",
    "gwas_files_species <- gsub(\"_\", \" \", gwas_files_species)\n",
    "print(length(gwas_files_species))\n",
    "print(setdiff(gwas_files_species, species_name_gwas))\n",
    "print(setdiff(species_name_gwas, gwas_files_species))"
   ]
  },
  {
   "cell_type": "code",
   "execution_count": 107,
   "metadata": {
    "vscode": {
     "languageId": "r"
    }
   },
   "outputs": [],
   "source": [
    "# sanity check 2\n",
    "# see if number of infection is the same for E.coli from the phenotype file\n",
    "ecoli_phe_file <- paste0(gwas_wrkdir, \"/ukb41482.bd.gwas-pheno.05062023_sgss_species.Escherichia_coli.species.all.txt.gz\")\n",
    "ecoli_phe <- read.table(ecoli_phe_file, sep = \"\\t\", header = T, stringsAsFactors = F)"
   ]
  },
  {
   "cell_type": "code",
   "execution_count": null,
   "metadata": {
    "vscode": {
     "languageId": "r"
    }
   },
   "outputs": [],
   "source": []
  },
  {
   "cell_type": "code",
   "execution_count": 112,
   "metadata": {
    "vscode": {
     "languageId": "r"
    }
   },
   "outputs": [
    {
     "data": {
      "text/plain": [
       "\n",
       "     0      1 \n",
       "267190  51563 "
      ]
     },
     "metadata": {},
     "output_type": "display_data"
    },
    {
     "data": {
      "text/html": [],
      "text/latex": [],
      "text/markdown": [],
      "text/plain": [
       "named integer(0)"
      ]
     },
     "metadata": {},
     "output_type": "display_data"
    }
   ],
   "source": [
    "table(ecoli_phe$pheno)\n",
    "species_name_freq[which(species_name_freq > 100)]"
   ]
  },
  {
   "cell_type": "markdown",
   "metadata": {},
   "source": [
    "### Pathogen filtering - HES"
   ]
  },
  {
   "cell_type": "code",
   "execution_count": 29,
   "metadata": {
    "vscode": {
     "languageId": "r"
    }
   },
   "outputs": [
    {
     "name": "stdout",
     "output_type": "stream",
     "text": [
      "[1] \"Time taken to load hes: 18.9089567661285\"\n"
     ]
    }
   ],
   "source": [
    "# For HES\n",
    "\n",
    "# load hes_diag\n",
    "start_time = Sys.time()\n",
    "hes_file = paste0(ukb_data_dir, \"hes/hesin_diag.latest.txt.gz\")\n",
    "hes = read.table(hes_file, sep = \"\\t\", header = TRUE, stringsAsFactors = FALSE)\n",
    "end_time = Sys.time()\n",
    "print(paste0(\"Time taken to load hes: \", end_time - start_time))"
   ]
  },
  {
   "cell_type": "code",
   "execution_count": 32,
   "metadata": {
    "vscode": {
     "languageId": "r"
    }
   },
   "outputs": [],
   "source": [
    "# load icd10 data \n",
    "icd10_desc_file <- paste0(bugbank_data_dir, \"pathogen_to_unique_icd10.tsv\")\n",
    "icd10_desc <- read.table(icd10_desc_file, sep = \"\\t\", header = TRUE, stringsAsFactors = FALSE)\n",
    "\n",
    "# subset hes to only infection related\n",
    "infect_icd10_codes <- unique(unlist(strsplit(icd10_desc$icd10, split = \",\")))\n",
    "hes_infect <- hes[hes$diag_icd10 %in% infect_icd10_codes, ]\n",
    "\n",
    "# create a dictionary of ICD-10 to pathogen mapping\n",
    "icd_to_pathogen = list()\n",
    "for (i in 1:nrow(icd10_desc)) {\n",
    "  cur_icd10s = unlist(strsplit(icd10_desc$icd10[i], \",\"))\n",
    "  for (icd10 in cur_icd10s) {\n",
    "    # check if the icd10 is already in the dictionary\n",
    "    # if so, report an error\n",
    "    if (icd10 %in% names(icd_to_pathogen)) {\n",
    "      print(paste0(\"Error: \", icd10, \" already in the dictionary\"))\n",
    "    }\n",
    "    icd_to_pathogen[[icd10]] = c(icd10_desc$org_name[i], icd10_desc$tax_lev[i])\n",
    "  }\n",
    "}"
   ]
  },
  {
   "cell_type": "code",
   "execution_count": 82,
   "metadata": {
    "vscode": {
     "languageId": "r"
    }
   },
   "outputs": [
    {
     "data": {
      "text/html": [
       "<table class=\"dataframe\">\n",
       "<caption>A matrix: 4 x 3 of type int</caption>\n",
       "<thead>\n",
       "\t<tr><th></th><th scope=col>record_cnt</th><th scope=col>ind_cnt</th><th scope=col>tax_cnt</th></tr>\n",
       "</thead>\n",
       "<tbody>\n",
       "\t<tr><th scope=row>all</th><td>188788</td><td>69900</td><td>155</td></tr>\n",
       "\t<tr><th scope=row>individual that passed QC</th><td>112022</td><td>43750</td><td>140</td></tr>\n",
       "\t<tr><th scope=row>species level pathogen</th><td> 30685</td><td>15141</td><td> 78</td></tr>\n",
       "\t<tr><th scope=row>pathogen with &gt; 100 cases</th><td> 29450</td><td>14540</td><td> 17</td></tr>\n",
       "</tbody>\n",
       "</table>\n"
      ],
      "text/latex": [
       "A matrix: 4 x 3 of type int\n",
       "\\begin{tabular}{r|lll}\n",
       "  & record\\_cnt & ind\\_cnt & tax\\_cnt\\\\\n",
       "\\hline\n",
       "\tall & 188788 & 69900 & 155\\\\\n",
       "\tindividual that passed QC & 112022 & 43750 & 140\\\\\n",
       "\tspecies level pathogen &  30685 & 15141 &  78\\\\\n",
       "\tpathogen with > 100 cases &  29450 & 14540 &  17\\\\\n",
       "\\end{tabular}\n"
      ],
      "text/markdown": [
       "\n",
       "A matrix: 4 x 3 of type int\n",
       "\n",
       "| <!--/--> | record_cnt | ind_cnt | tax_cnt |\n",
       "|---|---|---|---|\n",
       "| all | 188788 | 69900 | 155 |\n",
       "| individual that passed QC | 112022 | 43750 | 140 |\n",
       "| species level pathogen |  30685 | 15141 |  78 |\n",
       "| pathogen with &gt; 100 cases |  29450 | 14540 |  17 |\n",
       "\n"
      ],
      "text/plain": [
       "                          record_cnt ind_cnt tax_cnt\n",
       "all                       188788     69900   155    \n",
       "individual that passed QC 112022     43750   140    \n",
       "species level pathogen     30685     15141    78    \n",
       "pathogen with > 100 cases  29450     14540    17    "
      ]
     },
     "metadata": {},
     "output_type": "display_data"
    }
   ],
   "source": [
    "# filter1: starting from all\n",
    "filter_lst <- list()\n",
    "filter <- rep(T, nrow(hes_infect))\n",
    "filter_lst[[1]] <- filter\n",
    "names(filter_lst)[1] <- \"all\"\n",
    "\n",
    "# filter2: only include individuals that passed the QC\n",
    "filter_lst[[2]] <- filter & hes_infect$eid %in% eids_filtered\n",
    "names(filter_lst)[2] <- \"individual that passed QC\"\n",
    "\n",
    "#filter3: only include infection that have a pathogen label in species level\n",
    "hes_infect$tax_lev <- map_lgl(hes_infect$diag_icd10, function(icd10) {\n",
    "  tax_lev <- icd_to_pathogen[[icd10]][2]\n",
    "  return(tax_lev == \"species\")\n",
    "})\n",
    "filter_lst[[3]] <- filter_lst[[2]] & hes_infect$tax_lev\n",
    "names(filter_lst)[3] <- \"species level pathogen\"\n",
    "\n",
    "# filter4: only include pathogen that have infection cases > 100\n",
    "hes_infect$tax <- map_chr(hes_infect$diag_icd10, function(icd10) {\n",
    "    species_name <- icd_to_pathogen[[icd10]][1]\n",
    "    return(species_name)  \n",
    "})\n",
    "species_name_qc <- unique(hes_infect$tax[filter_lst[[3]]])\n",
    "# get the frequency of each species by the number of unique individuals\n",
    "species_name_freq <- map_int(species_name_qc, function(species_name) {\n",
    "    cur_filter <- (hes_infect$tax == species_name) & filter_lst[[3]]\n",
    "    cur_eids <- hes_infect$eid[cur_filter]\n",
    "    return(length(unique(cur_eids)))\n",
    "})\n",
    "names(species_name_freq) <- species_name_qc\n",
    "species_name_gwas <- names(species_name_freq)[which(species_name_freq > 100)]\n",
    "filter_lst[[4]] <- filter_lst[[3]] & (hes_infect$tax %in% species_name_gwas)\n",
    "names(filter_lst)[4] <- \"pathogen with > 100 cases\"\n",
    "\n",
    "# gather the filter into a table\n",
    "hes_filter_table <- list()\n",
    "for(i in 1:length(filter_lst)) {\n",
    "    filter <- filter_lst[[i]]\n",
    "    record_cnt <- sum(filter, na.rm = TRUE)\n",
    "    ind_cnt <- length(unique(hes_infect$eid[filter]))\n",
    "    tax_cnt <- length(unique(hes_infect$tax[filter]))\n",
    "    hes_filter_table[[i]] <- c(record_cnt, ind_cnt, tax_cnt)\n",
    "}\n",
    "hes_filter_table <- do.call(rbind, hes_filter_table)\n",
    "rownames(hes_filter_table) <- names(filter_lst)\n",
    "colnames(hes_filter_table) <- c(\"record_cnt\", \"ind_cnt\", \"tax_cnt\")\n",
    "hes_filter_table"
   ]
  },
  {
   "cell_type": "code",
   "execution_count": 83,
   "metadata": {
    "vscode": {
     "languageId": "r"
    }
   },
   "outputs": [
    {
     "name": "stdout",
     "output_type": "stream",
     "text": [
      "[1] 20\n",
      "[1] \"Hepatovirus A\"          \"Plasmodium falciparum\"  \"Pneumocystis jirovecii\"\n",
      "character(0)\n"
     ]
    }
   ],
   "source": [
    "# sanity check, see if the resulting number of tax is the same as the number of GWAS\n",
    "gwas_wrkdir <- \"/well/bag/clme1992/saige_pipe_test\"\n",
    "gwas_files <- list.files(gwas_wrkdir, pattern = \"summary.05062023_hes_species.*.txt.gz\", full.names = TRUE)\n",
    "gwas_files_species <- gsub(\".*summary.05062023_hes_species.regenie.\", \"\", gwas_files)\n",
    "gwas_files_species <- gsub(\".species.txt.gz\", \"\", gwas_files_species)\n",
    "gwas_files_species <- gsub(\"_\", \" \", gwas_files_species)\n",
    "print(length(gwas_files_species))\n",
    "print(setdiff(gwas_files_species, species_name_gwas))\n",
    "print(setdiff(species_name_gwas, gwas_files_species))\n"
   ]
  },
  {
   "cell_type": "code",
   "execution_count": 75,
   "metadata": {
    "vscode": {
     "languageId": "r"
    }
   },
   "outputs": [],
   "source": [
    "pheno_rds_file <- paste0(gwas_wrkdir, \"/log.ukb41482.gwas-stratify.05062023_hes_species_regenie.rds\")\n",
    "pheno_rds <- readRDS(pheno_rds_file)\n"
   ]
  },
  {
   "cell_type": "code",
   "execution_count": 84,
   "metadata": {
    "vscode": {
     "languageId": "r"
    }
   },
   "outputs": [
    {
     "data": {
      "text/html": [
       "<style>\n",
       ".dl-inline {width: auto; margin:0; padding: 0}\n",
       ".dl-inline>dt, .dl-inline>dd {float: none; width: auto; display: inline-block}\n",
       ".dl-inline>dt::after {content: \":\\0020\"; padding-right: .5ex}\n",
       ".dl-inline>dt:not(:first-of-type) {padding-left: .5ex}\n",
       "</style><dl class=dl-inline><dt>Klebsiella pneumoniae</dt><dd>713</dd><dt>Escherichia coli</dt><dd>4456</dd><dt>Mycobacterium tuberculosis</dt><dd>147</dd><dt>Staphylococcus aureus</dt><dd>2839</dd><dt>Enterovirus C</dt><dd>149</dd><dt>Human papillomavirus</dt><dd>1415</dd><dt>Human orthopneumovirus</dt><dd>105</dd><dt>Human alphaherpesvirus 3</dt><dd>842</dd><dt>unidentified influenza virus</dt><dd>1179</dd><dt>Haemophilus influenzae</dt><dd>431</dd><dt>Helicobacter pylori</dt><dd>1961</dd><dt>Streptococcus pneumoniae</dt><dd>547</dd><dt>Clostridioides difficile</dt><dd>770</dd><dt>Hepatitis B virus</dt><dd>172</dd><dt>Hepacivirus C</dt><dd>255</dd><dt>Human immunodeficiency virus</dt><dd>115</dd><dt>Enterobius vermicularis</dt><dd>130</dd></dl>\n"
      ],
      "text/latex": [
       "\\begin{description*}\n",
       "\\item[Klebsiella pneumoniae] 713\n",
       "\\item[Escherichia coli] 4456\n",
       "\\item[Mycobacterium tuberculosis] 147\n",
       "\\item[Staphylococcus aureus] 2839\n",
       "\\item[Enterovirus C] 149\n",
       "\\item[Human papillomavirus] 1415\n",
       "\\item[Human orthopneumovirus] 105\n",
       "\\item[Human alphaherpesvirus 3] 842\n",
       "\\item[unidentified influenza virus] 1179\n",
       "\\item[Haemophilus influenzae] 431\n",
       "\\item[Helicobacter pylori] 1961\n",
       "\\item[Streptococcus pneumoniae] 547\n",
       "\\item[Clostridioides difficile] 770\n",
       "\\item[Hepatitis B virus] 172\n",
       "\\item[Hepacivirus C] 255\n",
       "\\item[Human immunodeficiency virus] 115\n",
       "\\item[Enterobius vermicularis] 130\n",
       "\\end{description*}\n"
      ],
      "text/markdown": [
       "Klebsiella pneumoniae\n",
       ":   713Escherichia coli\n",
       ":   4456Mycobacterium tuberculosis\n",
       ":   147Staphylococcus aureus\n",
       ":   2839Enterovirus C\n",
       ":   149Human papillomavirus\n",
       ":   1415Human orthopneumovirus\n",
       ":   105Human alphaherpesvirus 3\n",
       ":   842unidentified influenza virus\n",
       ":   1179Haemophilus influenzae\n",
       ":   431Helicobacter pylori\n",
       ":   1961Streptococcus pneumoniae\n",
       ":   547Clostridioides difficile\n",
       ":   770Hepatitis B virus\n",
       ":   172Hepacivirus C\n",
       ":   255Human immunodeficiency virus\n",
       ":   115Enterobius vermicularis\n",
       ":   130\n",
       "\n"
      ],
      "text/plain": [
       "       Klebsiella pneumoniae             Escherichia coli \n",
       "                         713                         4456 \n",
       "  Mycobacterium tuberculosis        Staphylococcus aureus \n",
       "                         147                         2839 \n",
       "               Enterovirus C         Human papillomavirus \n",
       "                         149                         1415 \n",
       "      Human orthopneumovirus     Human alphaherpesvirus 3 \n",
       "                         105                          842 \n",
       "unidentified influenza virus       Haemophilus influenzae \n",
       "                        1179                          431 \n",
       "         Helicobacter pylori     Streptococcus pneumoniae \n",
       "                        1961                          547 \n",
       "    Clostridioides difficile            Hepatitis B virus \n",
       "                         770                          172 \n",
       "               Hepacivirus C Human immunodeficiency virus \n",
       "                         255                          115 \n",
       "     Enterobius vermicularis \n",
       "                         130 "
      ]
     },
     "metadata": {},
     "output_type": "display_data"
    }
   ],
   "source": [
    "species_name_freq[which(species_name_freq > 100)]"
   ]
  },
  {
   "cell_type": "code",
   "execution_count": 79,
   "metadata": {
    "vscode": {
     "languageId": "r"
    }
   },
   "outputs": [
    {
     "data": {
      "text/html": [
       "<style>\n",
       ".list-inline {list-style: none; margin:0; padding: 0}\n",
       ".list-inline>li {display: inline-block}\n",
       ".list-inline>li:not(:last-child)::after {content: \"\\00b7\"; padding: 0 .5ex}\n",
       "</style>\n",
       "<ol class=list-inline><li>'args'</li><li>'stem'</li><li>'username'</li><li>'srcdir'</li><li>'joint_phenotypes_file'</li><li>'log_rds_outfile'</li><li>'data_outfileprefix'</li><li>'data_outfiles'</li><li>'pheno_colnames'</li><li>'table_filtered_pheno'</li><li>'na_counts_columns_data'</li><li>'n.cases'</li></ol>\n"
      ],
      "text/latex": [
       "\\begin{enumerate*}\n",
       "\\item 'args'\n",
       "\\item 'stem'\n",
       "\\item 'username'\n",
       "\\item 'srcdir'\n",
       "\\item 'joint\\_phenotypes\\_file'\n",
       "\\item 'log\\_rds\\_outfile'\n",
       "\\item 'data\\_outfileprefix'\n",
       "\\item 'data\\_outfiles'\n",
       "\\item 'pheno\\_colnames'\n",
       "\\item 'table\\_filtered\\_pheno'\n",
       "\\item 'na\\_counts\\_columns\\_data'\n",
       "\\item 'n.cases'\n",
       "\\end{enumerate*}\n"
      ],
      "text/markdown": [
       "1. 'args'\n",
       "2. 'stem'\n",
       "3. 'username'\n",
       "4. 'srcdir'\n",
       "5. 'joint_phenotypes_file'\n",
       "6. 'log_rds_outfile'\n",
       "7. 'data_outfileprefix'\n",
       "8. 'data_outfiles'\n",
       "9. 'pheno_colnames'\n",
       "10. 'table_filtered_pheno'\n",
       "11. 'na_counts_columns_data'\n",
       "12. 'n.cases'\n",
       "\n",
       "\n"
      ],
      "text/plain": [
       " [1] \"args\"                   \"stem\"                   \"username\"              \n",
       " [4] \"srcdir\"                 \"joint_phenotypes_file\"  \"log_rds_outfile\"       \n",
       " [7] \"data_outfileprefix\"     \"data_outfiles\"          \"pheno_colnames\"        \n",
       "[10] \"table_filtered_pheno\"   \"na_counts_columns_data\" \"n.cases\"               "
      ]
     },
     "metadata": {},
     "output_type": "display_data"
    },
    {
     "data": {
      "text/html": [
       "<dl>\n",
       "\t<dt>$Escherichia_coli.species</dt>\n",
       "\t\t<dd>5144</dd>\n",
       "\t<dt>$Klebsiella_pneumoniae.species</dt>\n",
       "\t\t<dd>844</dd>\n",
       "\t<dt>$Haemophilus_influenzae.species</dt>\n",
       "\t\t<dd>489</dd>\n",
       "\t<dt>$Helicobacter_pylori.species</dt>\n",
       "\t\t<dd>2513</dd>\n",
       "\t<dt>$Mycobacterium_tuberculosis.species</dt>\n",
       "\t\t<dd>288</dd>\n",
       "\t<dt>$Staphylococcus_aureus.species</dt>\n",
       "\t\t<dd>3238</dd>\n",
       "\t<dt>$Streptococcus_pneumoniae.species</dt>\n",
       "\t\t<dd>631</dd>\n",
       "\t<dt>$Clostridioides_difficile.species</dt>\n",
       "\t\t<dd>869</dd>\n",
       "\t<dt>$Human_orthopneumovirus.species</dt>\n",
       "\t\t<dd>119</dd>\n",
       "\t<dt>$unidentified_influenza_virus.species</dt>\n",
       "\t\t<dd>1370</dd>\n",
       "\t<dt>$Enterovirus_C.species</dt>\n",
       "\t\t<dd>174</dd>\n",
       "\t<dt>$Echovirus.species</dt>\n",
       "\t\t<dd>48</dd>\n",
       "\t<dt>$Hepatovirus_A.species</dt>\n",
       "\t\t<dd>98</dd>\n",
       "\t<dt>$Hepacivirus_C.species</dt>\n",
       "\t\t<dd>377</dd>\n",
       "\t<dt>$Hepatitis_B_virus.species</dt>\n",
       "\t\t<dd>299</dd>\n",
       "\t<dt>$Human_immunodeficiency_virus.species</dt>\n",
       "\t\t<dd>176</dd>\n",
       "\t<dt>$Human_alphaherpesvirus_3.species</dt>\n",
       "\t\t<dd>967</dd>\n",
       "\t<dt>$Human_papillomavirus.species</dt>\n",
       "\t\t<dd>1594</dd>\n",
       "\t<dt>$Pneumocystis_jirovecii.species</dt>\n",
       "\t\t<dd>83</dd>\n",
       "\t<dt>$Plasmodium_falciparum.species</dt>\n",
       "\t\t<dd>149</dd>\n",
       "\t<dt>$Enterobius_vermicularis.species</dt>\n",
       "\t\t<dd>140</dd>\n",
       "\t<dt>$ancestry_panukb</dt>\n",
       "\t\t<dd>0</dd>\n",
       "</dl>\n"
      ],
      "text/latex": [
       "\\begin{description}\n",
       "\\item[\\$Escherichia\\_coli.species] 5144\n",
       "\\item[\\$Klebsiella\\_pneumoniae.species] 844\n",
       "\\item[\\$Haemophilus\\_influenzae.species] 489\n",
       "\\item[\\$Helicobacter\\_pylori.species] 2513\n",
       "\\item[\\$Mycobacterium\\_tuberculosis.species] 288\n",
       "\\item[\\$Staphylococcus\\_aureus.species] 3238\n",
       "\\item[\\$Streptococcus\\_pneumoniae.species] 631\n",
       "\\item[\\$Clostridioides\\_difficile.species] 869\n",
       "\\item[\\$Human\\_orthopneumovirus.species] 119\n",
       "\\item[\\$unidentified\\_influenza\\_virus.species] 1370\n",
       "\\item[\\$Enterovirus\\_C.species] 174\n",
       "\\item[\\$Echovirus.species] 48\n",
       "\\item[\\$Hepatovirus\\_A.species] 98\n",
       "\\item[\\$Hepacivirus\\_C.species] 377\n",
       "\\item[\\$Hepatitis\\_B\\_virus.species] 299\n",
       "\\item[\\$Human\\_immunodeficiency\\_virus.species] 176\n",
       "\\item[\\$Human\\_alphaherpesvirus\\_3.species] 967\n",
       "\\item[\\$Human\\_papillomavirus.species] 1594\n",
       "\\item[\\$Pneumocystis\\_jirovecii.species] 83\n",
       "\\item[\\$Plasmodium\\_falciparum.species] 149\n",
       "\\item[\\$Enterobius\\_vermicularis.species] 140\n",
       "\\item[\\$ancestry\\_panukb] 0\n",
       "\\end{description}\n"
      ],
      "text/markdown": [
       "$Escherichia_coli.species\n",
       ":   5144\n",
       "$Klebsiella_pneumoniae.species\n",
       ":   844\n",
       "$Haemophilus_influenzae.species\n",
       ":   489\n",
       "$Helicobacter_pylori.species\n",
       ":   2513\n",
       "$Mycobacterium_tuberculosis.species\n",
       ":   288\n",
       "$Staphylococcus_aureus.species\n",
       ":   3238\n",
       "$Streptococcus_pneumoniae.species\n",
       ":   631\n",
       "$Clostridioides_difficile.species\n",
       ":   869\n",
       "$Human_orthopneumovirus.species\n",
       ":   119\n",
       "$unidentified_influenza_virus.species\n",
       ":   1370\n",
       "$Enterovirus_C.species\n",
       ":   174\n",
       "$Echovirus.species\n",
       ":   48\n",
       "$Hepatovirus_A.species\n",
       ":   98\n",
       "$Hepacivirus_C.species\n",
       ":   377\n",
       "$Hepatitis_B_virus.species\n",
       ":   299\n",
       "$Human_immunodeficiency_virus.species\n",
       ":   176\n",
       "$Human_alphaherpesvirus_3.species\n",
       ":   967\n",
       "$Human_papillomavirus.species\n",
       ":   1594\n",
       "$Pneumocystis_jirovecii.species\n",
       ":   83\n",
       "$Plasmodium_falciparum.species\n",
       ":   149\n",
       "$Enterobius_vermicularis.species\n",
       ":   140\n",
       "$ancestry_panukb\n",
       ":   0\n",
       "\n",
       "\n"
      ],
      "text/plain": [
       "$Escherichia_coli.species\n",
       "[1] 5144\n",
       "\n",
       "$Klebsiella_pneumoniae.species\n",
       "[1] 844\n",
       "\n",
       "$Haemophilus_influenzae.species\n",
       "[1] 489\n",
       "\n",
       "$Helicobacter_pylori.species\n",
       "[1] 2513\n",
       "\n",
       "$Mycobacterium_tuberculosis.species\n",
       "[1] 288\n",
       "\n",
       "$Staphylococcus_aureus.species\n",
       "[1] 3238\n",
       "\n",
       "$Streptococcus_pneumoniae.species\n",
       "[1] 631\n",
       "\n",
       "$Clostridioides_difficile.species\n",
       "[1] 869\n",
       "\n",
       "$Human_orthopneumovirus.species\n",
       "[1] 119\n",
       "\n",
       "$unidentified_influenza_virus.species\n",
       "[1] 1370\n",
       "\n",
       "$Enterovirus_C.species\n",
       "[1] 174\n",
       "\n",
       "$Echovirus.species\n",
       "[1] 48\n",
       "\n",
       "$Hepatovirus_A.species\n",
       "[1] 98\n",
       "\n",
       "$Hepacivirus_C.species\n",
       "[1] 377\n",
       "\n",
       "$Hepatitis_B_virus.species\n",
       "[1] 299\n",
       "\n",
       "$Human_immunodeficiency_virus.species\n",
       "[1] 176\n",
       "\n",
       "$Human_alphaherpesvirus_3.species\n",
       "[1] 967\n",
       "\n",
       "$Human_papillomavirus.species\n",
       "[1] 1594\n",
       "\n",
       "$Pneumocystis_jirovecii.species\n",
       "[1] 83\n",
       "\n",
       "$Plasmodium_falciparum.species\n",
       "[1] 149\n",
       "\n",
       "$Enterobius_vermicularis.species\n",
       "[1] 140\n",
       "\n",
       "$ancestry_panukb\n",
       "[1] 0\n"
      ]
     },
     "metadata": {},
     "output_type": "display_data"
    }
   ],
   "source": [
    "names(pheno_rds)\n",
    "pheno_rds$n.cases"
   ]
  },
  {
   "cell_type": "code",
   "execution_count": null,
   "metadata": {
    "vscode": {
     "languageId": "r"
    }
   },
   "outputs": [],
   "source": []
  }
 ],
 "metadata": {
  "kernelspec": {
   "display_name": "R",
   "language": "R",
   "name": "ir"
  },
  "language_info": {
   "codemirror_mode": "r",
   "file_extension": ".r",
   "mimetype": "text/x-r-source",
   "name": "R",
   "pygments_lexer": "r",
   "version": "4.3.2"
  }
 },
 "nbformat": 4,
 "nbformat_minor": 2
}
