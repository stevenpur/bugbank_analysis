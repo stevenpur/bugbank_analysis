{
 "cells": [
  {
   "attachments": {},
   "cell_type": "markdown",
   "metadata": {},
   "source": [
    "### Sanity check for sgss taxonomy assignment"
   ]
  },
  {
   "cell_type": "code",
   "execution_count": 1,
   "metadata": {
    "vscode": {
     "languageId": "r"
    }
   },
   "outputs": [],
   "source": [
    "# input file\n",
    "setwd(\"~/bugbank_data\")\n",
    "sgss_f <- \"./ukb_sgss_extract_20211115.csv\"\n",
    "sgss_tax_f <- \"./bb_pathogen_taxonomy_13032023.tsv\"\n",
    "\n",
    "# load input file\n",
    "sgss_tax <- read.csv(sgss_tax_f, sep = \"\\t\")\n",
    "sgss <- read.csv(sgss_f, header = T)\n",
    "colnames(sgss) <- c(\n",
    "    \"SPECIMEN_NUMBER\",\n",
    "    \"UKB_EID\",\n",
    "    \"SPECIMEN_DATE\",\n",
    "    \"LAB_REPORT_DATE\",\n",
    "    \"REPORTING_LAB_NAME\",\n",
    "    \"LAB_GEOG_NAME_CURRENT\",\n",
    "    \"LOCAL_AUTHORITY_NAME\",\n",
    "    \"SPECIMEN_GROUP_DESC\",\n",
    "    \"SPECIMEN_TYPE_DESC\",\n",
    "    \"ORGANISM_CATEGORY_DESC\",\n",
    "    \"ORGANISM_GENUS_NAME\",\n",
    "    \"ORGANISM_SPECIES_NAME\",\n",
    "    \"ORGANISM_SUBSPECIES_NAME\"\n",
    ")"
   ]
  },
  {
   "cell_type": "code",
   "execution_count": 2,
   "metadata": {
    "vscode": {
     "languageId": "r"
    }
   },
   "outputs": [
    {
     "data": {
      "text/html": [],
      "text/latex": [],
      "text/markdown": [],
      "text/plain": [
       "character(0)"
      ]
     },
     "metadata": {},
     "output_type": "display_data"
    },
    {
     "data": {
      "text/html": [],
      "text/latex": [],
      "text/markdown": [],
      "text/plain": [
       "character(0)"
      ]
     },
     "metadata": {},
     "output_type": "display_data"
    }
   ],
   "source": [
    "sgss_pathogens <- sgss$ORGANISM_SPECIES_NAME\n",
    "setdiff(sgss_pathogens, sgss_tax$origin_name)\n",
    "setdiff(sgss_tax$origin_name, sgss_pathogens)"
   ]
  },
  {
   "cell_type": "code",
   "execution_count": null,
   "metadata": {
    "vscode": {
     "languageId": "r"
    }
   },
   "outputs": [],
   "source": []
  }
 ],
 "metadata": {
  "kernelspec": {
   "display_name": "R",
   "language": "R",
   "name": "ir"
  },
  "language_info": {
   "codemirror_mode": "r",
   "file_extension": ".r",
   "mimetype": "text/x-r-source",
   "name": "R",
   "pygments_lexer": "r",
   "version": "4.1.2"
  },
  "orig_nbformat": 4,
  "vscode": {
   "interpreter": {
    "hash": "1d41382865a329549b1737f5aaa564efa69ac20aba92d0bfffb04005aa2fcf4e"
   }
  }
 },
 "nbformat": 4,
 "nbformat_minor": 2
}
